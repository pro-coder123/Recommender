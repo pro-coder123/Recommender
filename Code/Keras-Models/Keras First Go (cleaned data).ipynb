{
 "cells": [
  {
   "cell_type": "code",
   "execution_count": 2,
   "metadata": {},
   "outputs": [],
   "source": [
    "from keras.models import Sequential\n",
    "from keras.layers.core import Dense, Dropout, Activation\n",
    "from keras.utils import np_utils\n",
    "from keras.preprocessing.text import Tokenizer\n",
    "from keras import metrics\n",
    "from keras.layers.embeddings import Embedding\n",
    "from keras.preprocessing.sequence import pad_sequences\n",
    "from keras.preprocessing.text import one_hot\n",
    "from keras.layers import Flatten\n",
    "\n",
    "from nltk import word_tokenize, pos_tag, chunk\n",
    "from pprint import pprint\n",
    "from nltk.corpus import stopwords\n",
    "from nltk.tokenize import RegexpTokenizer\n",
    "from nltk.stem import WordNetLemmatizer\n",
    "\n",
    "from pprint import pprint\n",
    "import pandas as pd\n",
    "import numpy as np\n",
    "\n",
    "from sklearn.model_selection import train_test_split\n",
    "from sklearn.preprocessing import LabelBinarizer"
   ]
  },
  {
   "cell_type": "code",
   "execution_count": 3,
   "metadata": {},
   "outputs": [],
   "source": [
    "#Load cleaned dataset\n",
    "data = pd.read_csv('../../Results/25_cleaned_job_descriptions.csv', header = 0, names = ['Query', 'Description'])"
   ]
  },
  {
   "cell_type": "code",
   "execution_count": 5,
   "metadata": {},
   "outputs": [],
   "source": [
    "train, test = train_test_split(data, test_size = 0.2)\n",
    "\n",
    "train_descs = train['Description']\n",
    "train_labels = train['Query']\n",
    "#train_labels = train['Job Title']\n",
    " \n",
    "test_descs = test['Description']\n",
    "test_labels = test['Query']"
   ]
  },
  {
   "cell_type": "code",
   "execution_count": 26,
   "metadata": {},
   "outputs": [],
   "source": [
    "num_labels = len(train_labels.unique().tolist())\n",
    "vocab_size = 1000\n",
    "batch_size = 500\n",
    "nb_epoch = 30\n",
    "\n",
    "# define Tokenizer with Vocab Size\n",
    "tokenizer = Tokenizer(num_words=vocab_size)\n",
    "tokenizer.fit_on_texts(train_descs)\n",
    "x_train = tokenizer.texts_to_matrix(train_descs, mode='tfidf')\n",
    "x_test = tokenizer.texts_to_matrix(test_descs, mode='tfidf')\n",
    " \n",
    "encoder = LabelBinarizer()\n",
    "encoder.fit(train_labels)\n",
    "y_train = encoder.transform(train_labels)\n",
    "y_test = encoder.transform(test_labels)"
   ]
  },
  {
   "cell_type": "code",
   "execution_count": 33,
   "metadata": {},
   "outputs": [
    {
     "name": "stdout",
     "output_type": "stream",
     "text": [
      "_________________________________________________________________\n",
      "Layer (type)                 Output Shape              Param #   \n",
      "=================================================================\n",
      "dense_22 (Dense)             (None, 512)               512512    \n",
      "_________________________________________________________________\n",
      "activation_22 (Activation)   (None, 512)               0         \n",
      "_________________________________________________________________\n",
      "dropout_15 (Dropout)         (None, 512)               0         \n",
      "_________________________________________________________________\n",
      "dense_23 (Dense)             (None, 512)               262656    \n",
      "_________________________________________________________________\n",
      "activation_23 (Activation)   (None, 512)               0         \n",
      "_________________________________________________________________\n",
      "dropout_16 (Dropout)         (None, 512)               0         \n",
      "_________________________________________________________________\n",
      "dense_24 (Dense)             (None, 25)                12825     \n",
      "_________________________________________________________________\n",
      "activation_24 (Activation)   (None, 25)                0         \n",
      "=================================================================\n",
      "Total params: 787,993\n",
      "Trainable params: 787,993\n",
      "Non-trainable params: 0\n",
      "_________________________________________________________________\n"
     ]
    }
   ],
   "source": [
    "model = Sequential()\n",
    "model.add(Dense(512, input_shape=(vocab_size,)))\n",
    "model.add(Activation('relu'))\n",
    "model.add(Dropout(0.1))\n",
    "model.add(Dense(512))\n",
    "model.add(Activation('relu'))\n",
    "model.add(Dropout(0.1))\n",
    "model.add(Dense(num_labels))\n",
    "model.add(Activation('softmax'))\n",
    "model.summary()\n",
    " \n",
    "model.compile(loss = 'categorical_crossentropy',\n",
    "              optimizer = 'adam', # or 'sgd'\n",
    "              metrics = [metrics.categorical_accuracy, 'accuracy'])"
   ]
  },
  {
   "cell_type": "code",
   "execution_count": 34,
   "metadata": {},
   "outputs": [
    {
     "name": "stdout",
     "output_type": "stream",
     "text": [
      "Train on 7200 samples, validate on 800 samples\n",
      "Epoch 1/30\n",
      "7200/7200 [==============================] - 1s 177us/step - loss: 2.7797 - categorical_accuracy: 0.2165 - acc: 0.2165 - val_loss: 1.9880 - val_categorical_accuracy: 0.4275 - val_acc: 0.4275\n",
      "Epoch 2/30\n",
      "7200/7200 [==============================] - 1s 70us/step - loss: 1.5676 - categorical_accuracy: 0.5469 - acc: 0.5469 - val_loss: 1.6380 - val_categorical_accuracy: 0.5150 - val_acc: 0.5150\n",
      "Epoch 3/30\n",
      "7200/7200 [==============================] - 0s 69us/step - loss: 1.0079 - categorical_accuracy: 0.7072 - acc: 0.7072 - val_loss: 1.4554 - val_categorical_accuracy: 0.5712 - val_acc: 0.5712\n",
      "Epoch 4/30\n",
      "7200/7200 [==============================] - 1s 71us/step - loss: 0.6580 - categorical_accuracy: 0.8121 - acc: 0.8121 - val_loss: 1.4297 - val_categorical_accuracy: 0.6037 - val_acc: 0.6037\n",
      "Epoch 5/30\n",
      "7200/7200 [==============================] - 1s 71us/step - loss: 0.4270 - categorical_accuracy: 0.8867 - acc: 0.8867 - val_loss: 1.4142 - val_categorical_accuracy: 0.5850 - val_acc: 0.5850\n",
      "Epoch 6/30\n",
      "7200/7200 [==============================] - 1s 71us/step - loss: 0.2825 - categorical_accuracy: 0.9306 - acc: 0.9306 - val_loss: 1.4907 - val_categorical_accuracy: 0.5912 - val_acc: 0.5912\n",
      "Epoch 7/30\n",
      "7200/7200 [==============================] - 1s 69us/step - loss: 0.2031 - categorical_accuracy: 0.9542 - acc: 0.9542 - val_loss: 1.5680 - val_categorical_accuracy: 0.5950 - val_acc: 0.5950\n",
      "Epoch 8/30\n",
      "7200/7200 [==============================] - 1s 70us/step - loss: 0.1493 - categorical_accuracy: 0.9690 - acc: 0.9690 - val_loss: 1.6141 - val_categorical_accuracy: 0.6050 - val_acc: 0.6050\n",
      "Epoch 9/30\n",
      "7200/7200 [==============================] - 1s 69us/step - loss: 0.1262 - categorical_accuracy: 0.9726 - acc: 0.9726 - val_loss: 1.6635 - val_categorical_accuracy: 0.5962 - val_acc: 0.5962\n",
      "Epoch 10/30\n",
      "7200/7200 [==============================] - 1s 70us/step - loss: 0.1089 - categorical_accuracy: 0.9774 - acc: 0.9774 - val_loss: 1.7568 - val_categorical_accuracy: 0.5825 - val_acc: 0.5825\n",
      "Epoch 11/30\n",
      "7200/7200 [==============================] - 0s 69us/step - loss: 0.0933 - categorical_accuracy: 0.9810 - acc: 0.9810 - val_loss: 1.7805 - val_categorical_accuracy: 0.5862 - val_acc: 0.5862\n",
      "Epoch 12/30\n",
      "7200/7200 [==============================] - 1s 71us/step - loss: 0.0883 - categorical_accuracy: 0.9814 - acc: 0.9814 - val_loss: 1.7447 - val_categorical_accuracy: 0.5975 - val_acc: 0.5975\n",
      "Epoch 13/30\n",
      "7200/7200 [==============================] - 0s 69us/step - loss: 0.0791 - categorical_accuracy: 0.9829 - acc: 0.9829 - val_loss: 1.7791 - val_categorical_accuracy: 0.5975 - val_acc: 0.5975\n",
      "Epoch 14/30\n",
      "7200/7200 [==============================] - 1s 70us/step - loss: 0.0860 - categorical_accuracy: 0.9797 - acc: 0.9797 - val_loss: 1.7923 - val_categorical_accuracy: 0.5938 - val_acc: 0.5938\n",
      "Epoch 15/30\n",
      "7200/7200 [==============================] - 1s 70us/step - loss: 0.0714 - categorical_accuracy: 0.9858 - acc: 0.9858 - val_loss: 1.8113 - val_categorical_accuracy: 0.6013 - val_acc: 0.6013\n",
      "Epoch 16/30\n",
      "7200/7200 [==============================] - 0s 68us/step - loss: 0.0669 - categorical_accuracy: 0.9825 - acc: 0.9825 - val_loss: 1.9016 - val_categorical_accuracy: 0.5887 - val_acc: 0.5887\n",
      "Epoch 17/30\n",
      "7200/7200 [==============================] - 1s 72us/step - loss: 0.0612 - categorical_accuracy: 0.9850 - acc: 0.9850 - val_loss: 1.8392 - val_categorical_accuracy: 0.6000 - val_acc: 0.6000\n",
      "Epoch 18/30\n",
      "7200/7200 [==============================] - 0s 68us/step - loss: 0.0571 - categorical_accuracy: 0.9851 - acc: 0.9851 - val_loss: 1.8984 - val_categorical_accuracy: 0.5850 - val_acc: 0.5850\n",
      "Epoch 19/30\n",
      "7200/7200 [==============================] - 1s 72us/step - loss: 0.0574 - categorical_accuracy: 0.9846 - acc: 0.9846 - val_loss: 1.9306 - val_categorical_accuracy: 0.5825 - val_acc: 0.5825\n",
      "Epoch 20/30\n",
      "7200/7200 [==============================] - 0s 68us/step - loss: 0.0636 - categorical_accuracy: 0.9833 - acc: 0.9833 - val_loss: 1.9660 - val_categorical_accuracy: 0.5763 - val_acc: 0.5763\n",
      "Epoch 21/30\n",
      "7200/7200 [==============================] - 1s 72us/step - loss: 0.0565 - categorical_accuracy: 0.9846 - acc: 0.9846 - val_loss: 1.9533 - val_categorical_accuracy: 0.6037 - val_acc: 0.6037\n",
      "Epoch 22/30\n",
      "7200/7200 [==============================] - 0s 68us/step - loss: 0.0551 - categorical_accuracy: 0.9854 - acc: 0.9854 - val_loss: 1.9256 - val_categorical_accuracy: 0.6037 - val_acc: 0.6037\n",
      "Epoch 23/30\n",
      "7200/7200 [==============================] - 1s 70us/step - loss: 0.0543 - categorical_accuracy: 0.9843 - acc: 0.9843 - val_loss: 1.9639 - val_categorical_accuracy: 0.5850 - val_acc: 0.5850\n",
      "Epoch 24/30\n",
      "7200/7200 [==============================] - 0s 68us/step - loss: 0.0582 - categorical_accuracy: 0.9854 - acc: 0.9854 - val_loss: 2.0096 - val_categorical_accuracy: 0.5825 - val_acc: 0.5825\n",
      "Epoch 25/30\n",
      "7200/7200 [==============================] - 1s 70us/step - loss: 0.0509 - categorical_accuracy: 0.9861 - acc: 0.9861 - val_loss: 1.9687 - val_categorical_accuracy: 0.5987 - val_acc: 0.5987\n",
      "Epoch 26/30\n",
      "7200/7200 [==============================] - 0s 68us/step - loss: 0.0529 - categorical_accuracy: 0.9843 - acc: 0.9843 - val_loss: 1.9332 - val_categorical_accuracy: 0.5925 - val_acc: 0.5925\n",
      "Epoch 27/30\n",
      "7200/7200 [==============================] - 1s 70us/step - loss: 0.0472 - categorical_accuracy: 0.9872 - acc: 0.9872 - val_loss: 2.0044 - val_categorical_accuracy: 0.5962 - val_acc: 0.5962\n",
      "Epoch 28/30\n",
      "7200/7200 [==============================] - 1s 72us/step - loss: 0.0501 - categorical_accuracy: 0.9858 - acc: 0.9858 - val_loss: 1.9600 - val_categorical_accuracy: 0.5875 - val_acc: 0.5875\n",
      "Epoch 29/30\n",
      "7200/7200 [==============================] - 1s 70us/step - loss: 0.0421 - categorical_accuracy: 0.9871 - acc: 0.9871 - val_loss: 2.0271 - val_categorical_accuracy: 0.6088 - val_acc: 0.6088\n",
      "Epoch 30/30\n",
      "7200/7200 [==============================] - 1s 70us/step - loss: 0.0442 - categorical_accuracy: 0.9864 - acc: 0.9864 - val_loss: 1.9999 - val_categorical_accuracy: 0.6025 - val_acc: 0.6025\n"
     ]
    }
   ],
   "source": [
    "history = model.fit(x_train, y_train,\n",
    "                    batch_size=batch_size,\n",
    "                    epochs=nb_epoch,\n",
    "                    verbose=1,\n",
    "                    validation_split=0.1)"
   ]
  },
  {
   "cell_type": "code",
   "execution_count": 36,
   "metadata": {},
   "outputs": [
    {
     "name": "stdout",
     "output_type": "stream",
     "text": [
      "2000/2000 [==============================] - 0s 25us/step\n",
      "\n",
      "Test categorical_crossentropy: 1.7448990941047668\n",
      "Categorical accuracy: 0.6319999992847443\n",
      "Accuracy: 0.6319999992847443\n"
     ]
    }
   ],
   "source": [
    "score = model.evaluate(x_test, y_test,\n",
    "                       batch_size=batch_size, verbose=1)\n",
    " \n",
    "print('\\nTest categorical_crossentropy:', score[0])\n",
    "print('Categorical accuracy:', score[1])\n",
    "print('Accuracy:', score[2])\n"
   ]
  }
 ],
 "metadata": {
  "kernelspec": {
   "display_name": "Python 3",
   "language": "python",
   "name": "python3"
  },
  "language_info": {
   "codemirror_mode": {
    "name": "ipython",
    "version": 3
   },
   "file_extension": ".py",
   "mimetype": "text/x-python",
   "name": "python",
   "nbconvert_exporter": "python",
   "pygments_lexer": "ipython3",
   "version": "3.6.5"
  }
 },
 "nbformat": 4,
 "nbformat_minor": 2
}
