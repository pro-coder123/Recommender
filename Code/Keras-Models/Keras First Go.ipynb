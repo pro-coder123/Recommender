{
 "cells": [
  {
   "cell_type": "code",
   "execution_count": 1,
   "metadata": {},
   "outputs": [
    {
     "name": "stderr",
     "output_type": "stream",
     "text": [
      "C:\\Users\\geop\\Anaconda3\\lib\\site-packages\\h5py\\__init__.py:36: FutureWarning: Conversion of the second argument of issubdtype from `float` to `np.floating` is deprecated. In future, it will be treated as `np.float64 == np.dtype(float).type`.\n",
      "  from ._conv import register_converters as _register_converters\n",
      "Using TensorFlow backend.\n"
     ]
    }
   ],
   "source": [
    "from keras.models import Sequential\n",
    "from keras.layers.core import Dense, Dropout, Activation\n",
    "from keras.utils import np_utils\n",
    "from keras.preprocessing.text import Tokenizer\n",
    "from keras import metrics\n",
    "\n",
    "from pprint import pprint\n",
    "import pandas as pd\n",
    "import numpy as np\n",
    "\n",
    "from sklearn.model_selection import train_test_split\n",
    "from sklearn.preprocessing import LabelBinarizer"
   ]
  },
  {
   "cell_type": "code",
   "execution_count": 2,
   "metadata": {},
   "outputs": [
    {
     "name": "stdout",
     "output_type": "stream",
     "text": [
      "82\n",
      "1214\n",
      "82\n",
      "79\n"
     ]
    }
   ],
   "source": [
    "#Load the entire dataset\n",
    "data = pd.read_csv('../../Results/results_old.csv', header = 0, names = ['Query', 'Job Title', 'Description'])\n",
    "\n",
    "#Split data to train and test (80 - 20)\n",
    "\n",
    "train, test = train_test_split(data, test_size = 0.2)\n",
    "\n",
    "train_descs = train['Description']\n",
    "train_labels = train['Query']\n",
    "#train_labels = train['Job Title']\n",
    " \n",
    "test_descs = test['Description']\n",
    "test_labels = test['Query']\n",
    "#test_labels = test['Job Title']\n",
    "\n",
    "print(len(data['Query'].unique().tolist()))\n",
    "print(len(data['Job Title'].unique().tolist()))\n",
    "\n",
    "print(len(train_labels.unique().tolist()))\n",
    "print(len(test_labels.unique().tolist()))"
   ]
  },
  {
   "cell_type": "code",
   "execution_count": 3,
   "metadata": {},
   "outputs": [],
   "source": [
    "num_labels = len(train_labels.unique().tolist())\n",
    "vocab_size = 1000\n",
    "batch_size = 100\n",
    "nb_epoch = 30\n",
    "\n",
    "# define Tokenizer with Vocab Size\n",
    "tokenizer = Tokenizer(num_words=vocab_size)\n",
    "tokenizer.fit_on_texts(train_descs)\n",
    " \n",
    "x_train = tokenizer.texts_to_matrix(train_descs, mode='tfidf')\n",
    "x_test = tokenizer.texts_to_matrix(test_descs, mode='tfidf')\n",
    " \n",
    "encoder = LabelBinarizer()\n",
    "encoder.fit(train_labels)\n",
    "y_train = encoder.transform(train_labels)\n",
    "y_test = encoder.transform(test_labels)"
   ]
  },
  {
   "cell_type": "code",
   "execution_count": 5,
   "metadata": {},
   "outputs": [
    {
     "name": "stdout",
     "output_type": "stream",
     "text": [
      "_________________________________________________________________\n",
      "Layer (type)                 Output Shape              Param #   \n",
      "=================================================================\n",
      "dense_1 (Dense)              (None, 512)               512512    \n",
      "_________________________________________________________________\n",
      "activation_1 (Activation)    (None, 512)               0         \n",
      "_________________________________________________________________\n",
      "dropout_1 (Dropout)          (None, 512)               0         \n",
      "_________________________________________________________________\n",
      "dense_2 (Dense)              (None, 512)               262656    \n",
      "_________________________________________________________________\n",
      "activation_2 (Activation)    (None, 512)               0         \n",
      "_________________________________________________________________\n",
      "dropout_2 (Dropout)          (None, 512)               0         \n",
      "_________________________________________________________________\n",
      "dense_3 (Dense)              (None, 81)                41553     \n",
      "_________________________________________________________________\n",
      "activation_3 (Activation)    (None, 81)                0         \n",
      "=================================================================\n",
      "Total params: 816,721\n",
      "Trainable params: 816,721\n",
      "Non-trainable params: 0\n",
      "_________________________________________________________________\n"
     ]
    }
   ],
   "source": [
    "model = Sequential()\n",
    "model.add(Dense(512, input_shape=(vocab_size,)))\n",
    "model.add(Activation('relu'))\n",
    "model.add(Dropout(0.3))\n",
    "model.add(Dense(512))\n",
    "model.add(Activation('relu'))\n",
    "model.add(Dropout(0.3))\n",
    "model.add(Dense(num_labels))\n",
    "model.add(Activation('softmax'))\n",
    "model.summary()\n",
    " \n",
    "model.compile(loss = 'categorical_crossentropy',\n",
    "              optimizer = 'adam', # or 'sgd'\n",
    "              metrics = [metrics.categorical_accuracy, 'accuracy'])"
   ]
  },
  {
   "cell_type": "code",
   "execution_count": 6,
   "metadata": {},
   "outputs": [
    {
     "name": "stdout",
     "output_type": "stream",
     "text": [
      "Train on 1080 samples, validate on 120 samples\n",
      "Epoch 1/30\n",
      "1080/1080 [==============================] - 1s 537us/step - loss: 4.6311 - categorical_accuracy: 0.0231 - acc: 0.0231 - val_loss: 4.1901 - val_categorical_accuracy: 0.0583 - val_acc: 0.0583\n",
      "Epoch 2/30\n",
      "1080/1080 [==============================] - 0s 236us/step - loss: 3.7300 - categorical_accuracy: 0.1815 - acc: 0.1815 - val_loss: 3.9590 - val_categorical_accuracy: 0.1583 - val_acc: 0.1583\n",
      "Epoch 3/30\n",
      "1080/1080 [==============================] - 0s 259us/step - loss: 2.9215 - categorical_accuracy: 0.3750 - acc: 0.3750 - val_loss: 3.5483 - val_categorical_accuracy: 0.2000 - val_acc: 0.2000\n",
      "Epoch 4/30\n",
      "1080/1080 [==============================] - 0s 243us/step - loss: 2.1094 - categorical_accuracy: 0.5370 - acc: 0.5370 - val_loss: 3.2345 - val_categorical_accuracy: 0.2750 - val_acc: 0.2750\n",
      "Epoch 5/30\n",
      "1080/1080 [==============================] - 0s 237us/step - loss: 1.4358 - categorical_accuracy: 0.6648 - acc: 0.6648 - val_loss: 3.1747 - val_categorical_accuracy: 0.3000 - val_acc: 0.3000\n",
      "Epoch 6/30\n",
      "1080/1080 [==============================] - 0s 233us/step - loss: 1.0569 - categorical_accuracy: 0.7556 - acc: 0.7556 - val_loss: 3.1034 - val_categorical_accuracy: 0.3417 - val_acc: 0.3417\n",
      "Epoch 7/30\n",
      "1080/1080 [==============================] - 0s 238us/step - loss: 0.7270 - categorical_accuracy: 0.8417 - acc: 0.8417 - val_loss: 3.2521 - val_categorical_accuracy: 0.3333 - val_acc: 0.3333\n",
      "Epoch 8/30\n",
      "1080/1080 [==============================] - 0s 239us/step - loss: 0.6423 - categorical_accuracy: 0.8463 - acc: 0.8463 - val_loss: 3.1585 - val_categorical_accuracy: 0.2833 - val_acc: 0.2833\n",
      "Epoch 9/30\n",
      "1080/1080 [==============================] - 0s 249us/step - loss: 0.5729 - categorical_accuracy: 0.8694 - acc: 0.8694 - val_loss: 3.2569 - val_categorical_accuracy: 0.3333 - val_acc: 0.3333\n",
      "Epoch 10/30\n",
      "1080/1080 [==============================] - 0s 248us/step - loss: 0.4855 - categorical_accuracy: 0.8898 - acc: 0.8898 - val_loss: 3.3016 - val_categorical_accuracy: 0.3167 - val_acc: 0.3167\n",
      "Epoch 11/30\n",
      "1080/1080 [==============================] - 0s 237us/step - loss: 0.4439 - categorical_accuracy: 0.8981 - acc: 0.8981 - val_loss: 3.3936 - val_categorical_accuracy: 0.3083 - val_acc: 0.3083\n",
      "Epoch 12/30\n",
      "1080/1080 [==============================] - 0s 239us/step - loss: 0.4416 - categorical_accuracy: 0.8907 - acc: 0.8907 - val_loss: 3.2336 - val_categorical_accuracy: 0.2917 - val_acc: 0.2917\n",
      "Epoch 13/30\n",
      "1080/1080 [==============================] - 0s 235us/step - loss: 0.4192 - categorical_accuracy: 0.8880 - acc: 0.8880 - val_loss: 3.3869 - val_categorical_accuracy: 0.3250 - val_acc: 0.3250\n",
      "Epoch 14/30\n",
      "1080/1080 [==============================] - 0s 238us/step - loss: 0.3983 - categorical_accuracy: 0.9009 - acc: 0.9009 - val_loss: 3.4249 - val_categorical_accuracy: 0.3250 - val_acc: 0.3250\n",
      "Epoch 15/30\n",
      "1080/1080 [==============================] - 0s 238us/step - loss: 0.3556 - categorical_accuracy: 0.9130 - acc: 0.9130 - val_loss: 3.4783 - val_categorical_accuracy: 0.3417 - val_acc: 0.3417\n",
      "Epoch 16/30\n",
      "1080/1080 [==============================] - 0s 237us/step - loss: 0.3159 - categorical_accuracy: 0.9019 - acc: 0.9019 - val_loss: 3.5119 - val_categorical_accuracy: 0.3417 - val_acc: 0.3417\n",
      "Epoch 17/30\n",
      "1080/1080 [==============================] - 0s 235us/step - loss: 0.3169 - categorical_accuracy: 0.9093 - acc: 0.9093 - val_loss: 3.4723 - val_categorical_accuracy: 0.3500 - val_acc: 0.3500\n",
      "Epoch 18/30\n",
      "1080/1080 [==============================] - 0s 253us/step - loss: 0.3413 - categorical_accuracy: 0.9046 - acc: 0.9046 - val_loss: 3.5204 - val_categorical_accuracy: 0.3417 - val_acc: 0.3417\n",
      "Epoch 19/30\n",
      "1080/1080 [==============================] - 0s 240us/step - loss: 0.3648 - categorical_accuracy: 0.8944 - acc: 0.8944 - val_loss: 3.4591 - val_categorical_accuracy: 0.3417 - val_acc: 0.3417\n",
      "Epoch 20/30\n",
      "1080/1080 [==============================] - 0s 235us/step - loss: 0.3196 - categorical_accuracy: 0.9139 - acc: 0.9139 - val_loss: 3.5529 - val_categorical_accuracy: 0.3417 - val_acc: 0.3417\n",
      "Epoch 21/30\n",
      "1080/1080 [==============================] - 0s 233us/step - loss: 0.3226 - categorical_accuracy: 0.9130 - acc: 0.9130 - val_loss: 3.6209 - val_categorical_accuracy: 0.3333 - val_acc: 0.3333\n",
      "Epoch 22/30\n",
      "1080/1080 [==============================] - 0s 235us/step - loss: 0.3340 - categorical_accuracy: 0.9093 - acc: 0.9093 - val_loss: 3.4689 - val_categorical_accuracy: 0.3583 - val_acc: 0.3583\n",
      "Epoch 23/30\n",
      "1080/1080 [==============================] - 0s 243us/step - loss: 0.3051 - categorical_accuracy: 0.9139 - acc: 0.9139 - val_loss: 3.5496 - val_categorical_accuracy: 0.3583 - val_acc: 0.3583\n",
      "Epoch 24/30\n",
      "1080/1080 [==============================] - 0s 240us/step - loss: 0.2750 - categorical_accuracy: 0.9130 - acc: 0.9130 - val_loss: 3.5347 - val_categorical_accuracy: 0.3333 - val_acc: 0.3333\n",
      "Epoch 25/30\n",
      "1080/1080 [==============================] - 0s 239us/step - loss: 0.3039 - categorical_accuracy: 0.9102 - acc: 0.9102 - val_loss: 3.4998 - val_categorical_accuracy: 0.3250 - val_acc: 0.3250\n",
      "Epoch 26/30\n",
      "1080/1080 [==============================] - 0s 239us/step - loss: 0.2898 - categorical_accuracy: 0.9093 - acc: 0.9093 - val_loss: 3.4057 - val_categorical_accuracy: 0.3250 - val_acc: 0.3250\n",
      "Epoch 27/30\n",
      "1080/1080 [==============================] - 0s 245us/step - loss: 0.2549 - categorical_accuracy: 0.9167 - acc: 0.9167 - val_loss: 3.4595 - val_categorical_accuracy: 0.3500 - val_acc: 0.3500\n",
      "Epoch 28/30\n",
      "1080/1080 [==============================] - 0s 245us/step - loss: 0.2831 - categorical_accuracy: 0.9093 - acc: 0.9093 - val_loss: 3.5086 - val_categorical_accuracy: 0.3250 - val_acc: 0.3250\n",
      "Epoch 29/30\n",
      "1080/1080 [==============================] - 0s 235us/step - loss: 0.2566 - categorical_accuracy: 0.9185 - acc: 0.9185 - val_loss: 3.4035 - val_categorical_accuracy: 0.3500 - val_acc: 0.3500\n",
      "Epoch 30/30\n",
      "1080/1080 [==============================] - 0s 240us/step - loss: 0.2813 - categorical_accuracy: 0.9194 - acc: 0.9194 - val_loss: 3.4439 - val_categorical_accuracy: 0.3333 - val_acc: 0.3333\n"
     ]
    }
   ],
   "source": [
    "history = model.fit(x_train, y_train,\n",
    "                    batch_size=batch_size,\n",
    "                    epochs=nb_epoch,\n",
    "                    verbose=1,\n",
    "                    validation_split=0.1)"
   ]
  },
  {
   "cell_type": "code",
   "execution_count": 7,
   "metadata": {},
   "outputs": [
    {
     "name": "stdout",
     "output_type": "stream",
     "text": [
      "300/300 [==============================] - 0s 70us/step\n",
      "\n",
      "Test categorical_crossentropy: 3.21578041712443\n",
      "Categorical accuracy: 0.37666667501131695\n",
      "Accuracy: 0.37666667501131695\n"
     ]
    }
   ],
   "source": [
    "score = model.evaluate(x_test, y_test,\n",
    "                       batch_size=batch_size, verbose=1)\n",
    " \n",
    "print('\\nTest categorical_crossentropy:', score[0])\n",
    "print('Categorical accuracy:', score[1])\n",
    "print('Accuracy:', score[2])\n"
   ]
  }
 ],
 "metadata": {
  "kernelspec": {
   "display_name": "Python 3",
   "language": "python",
   "name": "python3"
  },
  "language_info": {
   "codemirror_mode": {
    "name": "ipython",
    "version": 3
   },
   "file_extension": ".py",
   "mimetype": "text/x-python",
   "name": "python",
   "nbconvert_exporter": "python",
   "pygments_lexer": "ipython3",
   "version": "3.6.5"
  }
 },
 "nbformat": 4,
 "nbformat_minor": 2
}
