{
 "cells": [
  {
   "cell_type": "code",
   "execution_count": 1,
   "metadata": {},
   "outputs": [
    {
     "name": "stderr",
     "output_type": "stream",
     "text": [
      "C:\\Users\\geop\\Anaconda3\\lib\\site-packages\\h5py\\__init__.py:36: FutureWarning: Conversion of the second argument of issubdtype from `float` to `np.floating` is deprecated. In future, it will be treated as `np.float64 == np.dtype(float).type`.\n",
      "  from ._conv import register_converters as _register_converters\n",
      "Using TensorFlow backend.\n"
     ]
    }
   ],
   "source": [
    "from keras.models import Sequential\n",
    "from keras.layers.core import Dense, Dropout, Activation\n",
    "from keras.utils import np_utils\n",
    "from keras.preprocessing.text import Tokenizer\n",
    "from keras import metrics\n",
    "from keras.layers.embeddings import Embedding\n",
    "from keras.preprocessing.sequence import pad_sequences\n",
    "from keras.preprocessing.text import one_hot\n",
    "from keras.layers import Flatten\n",
    "\n",
    "import pandas as pd\n",
    "import numpy as np\n",
    "\n",
    "from sklearn.model_selection import train_test_split\n",
    "from sklearn.preprocessing import LabelBinarizer"
   ]
  },
  {
   "cell_type": "code",
   "execution_count": 101,
   "metadata": {},
   "outputs": [],
   "source": [
    "#Load cleaned dataset\n",
    "data = pd.read_csv('../../Results/25_cleaned_job_descriptions.csv', header = 0, names = ['Query', 'Description'])"
   ]
  },
  {
   "cell_type": "code",
   "execution_count": 102,
   "metadata": {},
   "outputs": [],
   "source": [
    "#Split data to train and test (80 - 20)\n",
    "train, test = train_test_split(data, test_size = 0.2)\n",
    "\n",
    "train_descs = train['Description']\n",
    "train_labels = train['Query']\n",
    "#train_labels = train['Job Title']\n",
    " \n",
    "test_descs = test['Description']\n",
    "test_labels = test['Query']\n",
    "#test_labels = test['Job Title']"
   ]
  },
  {
   "cell_type": "code",
   "execution_count": 103,
   "metadata": {},
   "outputs": [],
   "source": [
    "##Parameters\n",
    "#Encoding\n",
    "vocab_size = 500\n",
    "max_length = 500\n",
    "\n",
    "#Model\n",
    "num_labels = 25\n",
    "embedding_dimensios = 20\n",
    "nb_epoch = 30\n",
    "batch_size = 100"
   ]
  },
  {
   "cell_type": "code",
   "execution_count": 104,
   "metadata": {},
   "outputs": [],
   "source": [
    "###Training Data\n",
    "# Encode the jobs descriptions\n",
    "encoded_docs = [one_hot(d, vocab_size) for d in train_descs]\n",
    "# pad documents to a max length\n",
    "x_train = pad_sequences(encoded_docs, maxlen=max_length, padding='post')\n",
    "#Binarize the job titles\n",
    "encoder = LabelBinarizer()\n",
    "encoder.fit(train_labels)\n",
    "y_train = encoder.transform(train_labels)\n",
    "\n",
    "\n",
    "###Test Data\n",
    "# Encode the jobs descriptions\n",
    "encoded_docs = [one_hot(d, vocab_size) for d in test_descs]\n",
    "# pad documents to a max length\n",
    "x_test = pad_sequences(encoded_docs, maxlen=max_length, padding='post')\n",
    "#Binarize the job titles\n",
    "encoder = LabelBinarizer()\n",
    "encoder.fit(test_labels)\n",
    "y_test = encoder.transform(test_labels)"
   ]
  },
  {
   "cell_type": "code",
   "execution_count": 105,
   "metadata": {
    "scrolled": true
   },
   "outputs": [
    {
     "name": "stdout",
     "output_type": "stream",
     "text": [
      "_________________________________________________________________\n",
      "Layer (type)                 Output Shape              Param #   \n",
      "=================================================================\n",
      "embedding_2 (Embedding)      (None, 500, 20)           10000     \n",
      "_________________________________________________________________\n",
      "flatten_2 (Flatten)          (None, 10000)             0         \n",
      "_________________________________________________________________\n",
      "dense_2 (Dense)              (None, 25)                250025    \n",
      "_________________________________________________________________\n",
      "activation_2 (Activation)    (None, 25)                0         \n",
      "=================================================================\n",
      "Total params: 260,025\n",
      "Trainable params: 260,025\n",
      "Non-trainable params: 0\n",
      "_________________________________________________________________\n",
      "None\n"
     ]
    }
   ],
   "source": [
    "# define the model\n",
    "model = Sequential()\n",
    "model.add(Embedding(vocab_size, embedding_dimensios, input_length=max_length))\n",
    "model.add(Flatten())\n",
    "model.add(Dense(num_labels))\n",
    "model.add(Activation('softmax'))\n",
    "# compile the model\n",
    "model.compile(optimizer='adam', loss='binary_crossentropy', metrics=['acc'])\n",
    "# summarize the model\n",
    "print(model.summary())"
   ]
  },
  {
   "cell_type": "code",
   "execution_count": 106,
   "metadata": {},
   "outputs": [],
   "source": [
    "model.compile(loss = 'categorical_crossentropy',\n",
    "              optimizer = 'adam', # or 'sgd'\n",
    "              metrics = [metrics.categorical_accuracy, 'accuracy'])"
   ]
  },
  {
   "cell_type": "code",
   "execution_count": 108,
   "metadata": {},
   "outputs": [
    {
     "name": "stdout",
     "output_type": "stream",
     "text": [
      "Train on 7200 samples, validate on 800 samples\n",
      "Epoch 1/30\n",
      "7200/7200 [==============================] - 1s 89us/step - loss: 0.0569 - categorical_accuracy: 0.9908 - acc: 0.9908 - val_loss: 2.5973 - val_categorical_accuracy: 0.3575 - val_acc: 0.3575\n",
      "Epoch 2/30\n",
      "7200/7200 [==============================] - 1s 88us/step - loss: 0.0535 - categorical_accuracy: 0.9918 - acc: 0.9918 - val_loss: 2.5944 - val_categorical_accuracy: 0.3550 - val_acc: 0.3550\n",
      "Epoch 3/30\n",
      "7200/7200 [==============================] - 1s 87us/step - loss: 0.0558 - categorical_accuracy: 0.9903 - acc: 0.9903 - val_loss: 2.6108 - val_categorical_accuracy: 0.3575 - val_acc: 0.3575\n",
      "Epoch 4/30\n",
      "7200/7200 [==============================] - 1s 89us/step - loss: 0.0609 - categorical_accuracy: 0.9907 - acc: 0.9907 - val_loss: 2.6084 - val_categorical_accuracy: 0.3575 - val_acc: 0.3575\n",
      "Epoch 5/30\n",
      "7200/7200 [==============================] - 1s 89us/step - loss: 0.0557 - categorical_accuracy: 0.9907 - acc: 0.9907 - val_loss: 2.6238 - val_categorical_accuracy: 0.3600 - val_acc: 0.3600\n",
      "Epoch 6/30\n",
      "7200/7200 [==============================] - 1s 89us/step - loss: 0.0572 - categorical_accuracy: 0.9908 - acc: 0.9908 - val_loss: 2.6155 - val_categorical_accuracy: 0.3588 - val_acc: 0.3588\n",
      "Epoch 7/30\n",
      "7200/7200 [==============================] - 1s 89us/step - loss: 0.0581 - categorical_accuracy: 0.9901 - acc: 0.9901 - val_loss: 2.6287 - val_categorical_accuracy: 0.3612 - val_acc: 0.3612\n",
      "Epoch 8/30\n",
      "7200/7200 [==============================] - 1s 88us/step - loss: 0.0546 - categorical_accuracy: 0.9901 - acc: 0.9901 - val_loss: 2.6315 - val_categorical_accuracy: 0.3588 - val_acc: 0.3588\n",
      "Epoch 9/30\n",
      "7200/7200 [==============================] - 1s 89us/step - loss: 0.0522 - categorical_accuracy: 0.9913 - acc: 0.9913 - val_loss: 2.6362 - val_categorical_accuracy: 0.3525 - val_acc: 0.3525\n",
      "Epoch 10/30\n",
      "7200/7200 [==============================] - 1s 89us/step - loss: 0.0606 - categorical_accuracy: 0.9903 - acc: 0.9903 - val_loss: 2.6702 - val_categorical_accuracy: 0.3575 - val_acc: 0.3575\n",
      "Epoch 11/30\n",
      "7200/7200 [==============================] - 1s 87us/step - loss: 0.0595 - categorical_accuracy: 0.9906 - acc: 0.9906 - val_loss: 2.6681 - val_categorical_accuracy: 0.3588 - val_acc: 0.3588\n",
      "Epoch 12/30\n",
      "7200/7200 [==============================] - 1s 89us/step - loss: 0.0558 - categorical_accuracy: 0.9913 - acc: 0.9913 - val_loss: 2.6612 - val_categorical_accuracy: 0.3538 - val_acc: 0.3538\n",
      "Epoch 13/30\n",
      "7200/7200 [==============================] - 1s 89us/step - loss: 0.0554 - categorical_accuracy: 0.9913 - acc: 0.9913 - val_loss: 2.6609 - val_categorical_accuracy: 0.3638 - val_acc: 0.3638\n",
      "Epoch 14/30\n",
      "7200/7200 [==============================] - 1s 89us/step - loss: 0.0602 - categorical_accuracy: 0.9907 - acc: 0.9907 - val_loss: 2.6681 - val_categorical_accuracy: 0.3563 - val_acc: 0.3563\n",
      "Epoch 15/30\n",
      "7200/7200 [==============================] - 1s 89us/step - loss: 0.0571 - categorical_accuracy: 0.9907 - acc: 0.9907 - val_loss: 2.6753 - val_categorical_accuracy: 0.3550 - val_acc: 0.3550\n",
      "Epoch 16/30\n",
      "7200/7200 [==============================] - 1s 89us/step - loss: 0.0613 - categorical_accuracy: 0.9906 - acc: 0.9906 - val_loss: 2.6780 - val_categorical_accuracy: 0.3550 - val_acc: 0.3550\n",
      "Epoch 17/30\n",
      "7200/7200 [==============================] - 1s 88us/step - loss: 0.0557 - categorical_accuracy: 0.9910 - acc: 0.9910 - val_loss: 2.6784 - val_categorical_accuracy: 0.3650 - val_acc: 0.3650\n",
      "Epoch 18/30\n",
      "7200/7200 [==============================] - 1s 89us/step - loss: 0.0539 - categorical_accuracy: 0.9919 - acc: 0.9919 - val_loss: 2.6940 - val_categorical_accuracy: 0.3550 - val_acc: 0.3550\n",
      "Epoch 19/30\n",
      "7200/7200 [==============================] - 1s 89us/step - loss: 0.0588 - categorical_accuracy: 0.9910 - acc: 0.9910 - val_loss: 2.6863 - val_categorical_accuracy: 0.3588 - val_acc: 0.3588\n",
      "Epoch 20/30\n",
      "7200/7200 [==============================] - 1s 89us/step - loss: 0.0548 - categorical_accuracy: 0.9913 - acc: 0.9913 - val_loss: 2.6993 - val_categorical_accuracy: 0.3587 - val_acc: 0.3587\n",
      "Epoch 21/30\n",
      "7200/7200 [==============================] - 1s 89us/step - loss: 0.0585 - categorical_accuracy: 0.9910 - acc: 0.9910 - val_loss: 2.7060 - val_categorical_accuracy: 0.3600 - val_acc: 0.3600\n",
      "Epoch 22/30\n",
      "7200/7200 [==============================] - 1s 89us/step - loss: 0.0577 - categorical_accuracy: 0.9913 - acc: 0.9913 - val_loss: 2.7052 - val_categorical_accuracy: 0.3587 - val_acc: 0.3587\n",
      "Epoch 23/30\n",
      "7200/7200 [==============================] - 1s 87us/step - loss: 0.0547 - categorical_accuracy: 0.9911 - acc: 0.9911 - val_loss: 2.7211 - val_categorical_accuracy: 0.3562 - val_acc: 0.3562\n",
      "Epoch 24/30\n",
      "7200/7200 [==============================] - 1s 89us/step - loss: 0.0561 - categorical_accuracy: 0.9913 - acc: 0.9913 - val_loss: 2.7099 - val_categorical_accuracy: 0.3575 - val_acc: 0.3575\n",
      "Epoch 25/30\n",
      "7200/7200 [==============================] - 1s 87us/step - loss: 0.0593 - categorical_accuracy: 0.9908 - acc: 0.9908 - val_loss: 2.7213 - val_categorical_accuracy: 0.3600 - val_acc: 0.3600\n",
      "Epoch 26/30\n",
      "7200/7200 [==============================] - 1s 88us/step - loss: 0.0574 - categorical_accuracy: 0.9917 - acc: 0.9917 - val_loss: 2.7172 - val_categorical_accuracy: 0.3625 - val_acc: 0.3625\n",
      "Epoch 27/30\n",
      "7200/7200 [==============================] - 1s 90us/step - loss: 0.0566 - categorical_accuracy: 0.9915 - acc: 0.9915 - val_loss: 2.7175 - val_categorical_accuracy: 0.3613 - val_acc: 0.3613\n",
      "Epoch 28/30\n",
      "7200/7200 [==============================] - 1s 89us/step - loss: 0.0583 - categorical_accuracy: 0.9908 - acc: 0.9908 - val_loss: 2.7283 - val_categorical_accuracy: 0.3600 - val_acc: 0.3600\n",
      "Epoch 29/30\n",
      "7200/7200 [==============================] - 1s 89us/step - loss: 0.0508 - categorical_accuracy: 0.9924 - acc: 0.9924 - val_loss: 2.7308 - val_categorical_accuracy: 0.3613 - val_acc: 0.3613\n",
      "Epoch 30/30\n",
      "7200/7200 [==============================] - 1s 88us/step - loss: 0.0609 - categorical_accuracy: 0.9903 - acc: 0.9903 - val_loss: 2.7480 - val_categorical_accuracy: 0.3600 - val_acc: 0.3600\n"
     ]
    }
   ],
   "source": [
    "# fit the model\n",
    "history = model.fit(x_train, y_train,\n",
    "                    batch_size=batch_size,\n",
    "                    epochs=nb_epoch,\n",
    "                    verbose=1,\n",
    "                    validation_split=0.1)"
   ]
  },
  {
   "cell_type": "code",
   "execution_count": 109,
   "metadata": {},
   "outputs": [
    {
     "name": "stdout",
     "output_type": "stream",
     "text": [
      "2000/2000 [==============================] - 0s 30us/step\n",
      "\n",
      "Test categorical_cro    ssentropy: 2.924647796154022\n",
      "Categorical accuracy: 0.3425000004470348\n",
      "Accuracy: 0.3425000004470348\n"
     ]
    }
   ],
   "source": [
    "score = model.evaluate(x_test, y_test,\n",
    "                       batch_size=batch_size, verbose=1)\n",
    " \n",
    "print('\\nTest categorical_cro    ssentropy:', score[0])\n",
    "print('Categorical accuracy:', score[1])\n",
    "print('Accuracy:', score[2])"
   ]
  },
  {
   "cell_type": "code",
   "execution_count": 114,
   "metadata": {},
   "outputs": [],
   "source": [
    "#Prediction Function\n",
    "\n",
    "def Prediction(model,user_text):\n",
    "    \n",
    "    # Encode the text\n",
    "    encoded_docs = [one_hot(user_text, vocab_size)]\n",
    "    \n",
    "    # pad documents to a max length\n",
    "    padded_text = pad_sequences(encoded_docs, maxlen=max_length, padding='post')\n",
    "    \n",
    "    #Prediction based on model\n",
    "    prediction = model.predict(padded_text)\n",
    "    \n",
    "    #Decode the prediction\n",
    "    encoder = LabelBinarizer()\n",
    "    encoder.fit(test_labels)\n",
    "    result = encoder.inverse_transform(prediction)\n",
    "    \n",
    "    print(\"I think the best job for you is\", result[0])\n",
    "    \n",
    "   "
   ]
  },
  {
   "cell_type": "code",
   "execution_count": 117,
   "metadata": {},
   "outputs": [
    {
     "name": "stdout",
     "output_type": "stream",
     "text": [
      "I think the best job for you is Data Analyst\n"
     ]
    }
   ],
   "source": [
    "Prediction(model,'data')"
   ]
  }
 ],
 "metadata": {
  "kernelspec": {
   "display_name": "Python 3",
   "language": "python",
   "name": "python3"
  },
  "language_info": {
   "codemirror_mode": {
    "name": "ipython",
    "version": 3
   },
   "file_extension": ".py",
   "mimetype": "text/x-python",
   "name": "python",
   "nbconvert_exporter": "python",
   "pygments_lexer": "ipython3",
   "version": "3.6.5"
  }
 },
 "nbformat": 4,
 "nbformat_minor": 2
}
