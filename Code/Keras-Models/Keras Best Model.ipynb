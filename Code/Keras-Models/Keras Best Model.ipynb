{
 "cells": [
  {
   "cell_type": "code",
   "execution_count": 1,
   "metadata": {},
   "outputs": [
    {
     "name": "stderr",
     "output_type": "stream",
     "text": [
      "/anaconda3/lib/python3.6/site-packages/h5py/__init__.py:36: FutureWarning: Conversion of the second argument of issubdtype from `float` to `np.floating` is deprecated. In future, it will be treated as `np.float64 == np.dtype(float).type`.\n",
      "  from ._conv import register_converters as _register_converters\n",
      "Using TensorFlow backend.\n",
      "/anaconda3/lib/python3.6/importlib/_bootstrap.py:219: RuntimeWarning: compiletime version 3.5 of module 'tensorflow.python.framework.fast_tensor_util' does not match runtime version 3.6\n",
      "  return f(*args, **kwds)\n"
     ]
    }
   ],
   "source": [
    "from keras.models import Sequential\n",
    "from keras.layers.core import Dense, Dropout, Activation\n",
    "from keras.utils import np_utils\n",
    "from keras.preprocessing.text import Tokenizer\n",
    "from keras import metrics\n",
    "from keras.layers.embeddings import Embedding\n",
    "from keras.preprocessing.sequence import pad_sequences\n",
    "from keras.preprocessing.text import one_hot\n",
    "from keras.layers import Flatten\n",
    "\n",
    "from nltk import word_tokenize, pos_tag, chunk\n",
    "from pprint import pprint\n",
    "from nltk.corpus import stopwords\n",
    "from nltk.tokenize import RegexpTokenizer\n",
    "from nltk.stem import WordNetLemmatizer\n",
    "\n",
    "from pprint import pprint\n",
    "import pandas as pd\n",
    "import numpy as np\n",
    "\n",
    "from keras import optimizers\n",
    "from keras.layers import Dense\n",
    "from sklearn.model_selection import GridSearchCV\n",
    "from keras.wrappers.scikit_learn import KerasClassifier\n",
    "from sklearn.model_selection import train_test_split\n",
    "from sklearn.preprocessing import LabelBinarizer\n",
    "from keras.constraints import maxnorm\n",
    "from keras.layers import Dropout\n",
    "import os"
   ]
  },
  {
   "cell_type": "code",
   "execution_count": 2,
   "metadata": {},
   "outputs": [],
   "source": [
    "path = '/Users/leonidas/Documents/GitHub/Deep-Learning-Project/Results/'\n",
    "filename = '25_cleaned_job_descriptions.csv'\n",
    "data = pd.read_csv(os.path.join(path, filename), header = 0, names = ['Query', 'Description'])"
   ]
  },
  {
   "cell_type": "code",
   "execution_count": 4,
   "metadata": {},
   "outputs": [],
   "source": [
    "train, test = train_test_split(data, test_size = 0.2)\n",
    "\n",
    "train_descs = train['Description']\n",
    "train_labels = train['Query']\n",
    "#train_labels = train['Job Title']\n",
    " \n",
    "test_descs = test['Description']\n",
    "test_labels = test['Query']"
   ]
  },
  {
   "cell_type": "code",
   "execution_count": 80,
   "metadata": {
    "scrolled": true
   },
   "outputs": [],
   "source": [
    "num_labels = len(train_labels.unique().tolist())\n",
    "vocab_size = 1000\n",
    "batch_size = 32\n",
    "nb_epoch = 50\n",
    "\n",
    "# define Tokenizer with Vocab Size\n",
    "tokenizer = Tokenizer(num_words=vocab_size)\n",
    "tokenizer.fit_on_texts(train_descs)\n",
    "x_train = tokenizer.texts_to_matrix(train_descs, mode='tfidf')\n",
    "x_test = tokenizer.texts_to_matrix(test_descs, mode='tfidf')\n",
    " \n",
    "encoder = LabelBinarizer()\n",
    "encoder.fit(train_labels)\n",
    "y_train = encoder.transform(train_labels)\n",
    "y_test = encoder.transform(test_labels)"
   ]
  },
  {
   "cell_type": "code",
   "execution_count": 81,
   "metadata": {},
   "outputs": [],
   "source": [
    "\n",
    "model = Sequential()\n",
    "model.add(Dense(4096, input_shape=(vocab_size,), activation = 'relu', kernel_initializer = 'glorot_normal', kernel_constraint=maxnorm(2)))\n",
    "model.add(Dropout(0.1))\n",
    "model.add(Dense(1024, kernel_initializer = 'glorot_normal', activation= 'relu'))\n",
    "model.add(Dropout(0.1))\n",
    "model.add(Dense(num_labels))\n",
    "model.add(Activation('softmax'))\n",
    "    \n",
    "    # Compile model\n",
    "model.compile(loss = 'categorical_crossentropy',\n",
    "              optimizer = 'sgd',\n",
    "              metrics = [metrics.categorical_accuracy, 'accuracy'])"
   ]
  },
  {
   "cell_type": "code",
   "execution_count": 82,
   "metadata": {
    "scrolled": true
   },
   "outputs": [
    {
     "name": "stdout",
     "output_type": "stream",
     "text": [
      "Train on 7200 samples, validate on 800 samples\n",
      "Epoch 1/50\n",
      "7200/7200 [==============================] - 27s 4ms/step - loss: 2.4616 - categorical_accuracy: 0.3196 - acc: 0.3196 - val_loss: 1.7894 - val_categorical_accuracy: 0.5138 - val_acc: 0.5138\n",
      "Epoch 2/50\n",
      "7200/7200 [==============================] - 25s 3ms/step - loss: 1.4452 - categorical_accuracy: 0.6004 - acc: 0.6004 - val_loss: 1.4264 - val_categorical_accuracy: 0.5725 - val_acc: 0.5725\n",
      "Epoch 3/50\n",
      "7200/7200 [==============================] - 25s 3ms/step - loss: 1.0272 - categorical_accuracy: 0.7129 - acc: 0.7129 - val_loss: 1.2851 - val_categorical_accuracy: 0.6025 - val_acc: 0.6025\n",
      "Epoch 4/50\n",
      "7200/7200 [==============================] - 26s 4ms/step - loss: 0.7762 - categorical_accuracy: 0.7843 - acc: 0.7843 - val_loss: 1.2109 - val_categorical_accuracy: 0.6175 - val_acc: 0.6175\n",
      "Epoch 5/50\n",
      "7200/7200 [==============================] - 26s 4ms/step - loss: 0.6085 - categorical_accuracy: 0.8346 - acc: 0.8346 - val_loss: 1.1572 - val_categorical_accuracy: 0.6312 - val_acc: 0.6312\n",
      "Epoch 6/50\n",
      "7200/7200 [==============================] - 26s 4ms/step - loss: 0.4777 - categorical_accuracy: 0.8767 - acc: 0.8767 - val_loss: 1.1601 - val_categorical_accuracy: 0.6362 - val_acc: 0.6362\n",
      "Epoch 7/50\n",
      "7200/7200 [==============================] - 26s 4ms/step - loss: 0.3707 - categorical_accuracy: 0.9140 - acc: 0.9140 - val_loss: 1.1335 - val_categorical_accuracy: 0.6400 - val_acc: 0.6400\n",
      "Epoch 8/50\n",
      "7200/7200 [==============================] - 25s 4ms/step - loss: 0.3026 - categorical_accuracy: 0.9375 - acc: 0.9375 - val_loss: 1.1664 - val_categorical_accuracy: 0.6538 - val_acc: 0.6538\n",
      "Epoch 9/50\n",
      "7200/7200 [==============================] - 26s 4ms/step - loss: 0.2508 - categorical_accuracy: 0.9501 - acc: 0.9501 - val_loss: 1.1385 - val_categorical_accuracy: 0.6450 - val_acc: 0.6450\n",
      "Epoch 10/50\n",
      "7200/7200 [==============================] - 26s 4ms/step - loss: 0.2142 - categorical_accuracy: 0.9604 - acc: 0.9604 - val_loss: 1.1827 - val_categorical_accuracy: 0.6475 - val_acc: 0.6475\n",
      "Epoch 11/50\n",
      "7200/7200 [==============================] - 21s 3ms/step - loss: 0.1838 - categorical_accuracy: 0.9683 - acc: 0.9683 - val_loss: 1.1819 - val_categorical_accuracy: 0.6613 - val_acc: 0.6613\n",
      "Epoch 12/50\n",
      "7200/7200 [==============================] - 20s 3ms/step - loss: 0.1630 - categorical_accuracy: 0.9749 - acc: 0.9749 - val_loss: 1.2395 - val_categorical_accuracy: 0.6412 - val_acc: 0.6412\n",
      "Epoch 13/50\n",
      "7200/7200 [==============================] - 20s 3ms/step - loss: 0.1463 - categorical_accuracy: 0.9756 - acc: 0.9756 - val_loss: 1.1846 - val_categorical_accuracy: 0.6538 - val_acc: 0.6538\n",
      "Epoch 14/50\n",
      "7200/7200 [==============================] - 20s 3ms/step - loss: 0.1301 - categorical_accuracy: 0.9804 - acc: 0.9804 - val_loss: 1.2274 - val_categorical_accuracy: 0.6400 - val_acc: 0.6400\n",
      "Epoch 15/50\n",
      "7200/7200 [==============================] - 19s 3ms/step - loss: 0.1213 - categorical_accuracy: 0.9810 - acc: 0.9810 - val_loss: 1.2232 - val_categorical_accuracy: 0.6550 - val_acc: 0.6550\n",
      "Epoch 16/50\n",
      "7200/7200 [==============================] - 20s 3ms/step - loss: 0.1139 - categorical_accuracy: 0.9819 - acc: 0.9819 - val_loss: 1.2552 - val_categorical_accuracy: 0.6375 - val_acc: 0.6375\n",
      "Epoch 17/50\n",
      "7200/7200 [==============================] - 24s 3ms/step - loss: 0.1013 - categorical_accuracy: 0.9854 - acc: 0.9854 - val_loss: 1.2458 - val_categorical_accuracy: 0.6525 - val_acc: 0.6525\n",
      "Epoch 18/50\n",
      "7200/7200 [==============================] - 24s 3ms/step - loss: 0.0964 - categorical_accuracy: 0.9850 - acc: 0.9850 - val_loss: 1.2689 - val_categorical_accuracy: 0.6550 - val_acc: 0.6550\n",
      "Epoch 19/50\n",
      "7200/7200 [==============================] - 26s 4ms/step - loss: 0.0863 - categorical_accuracy: 0.9864 - acc: 0.9864 - val_loss: 1.2879 - val_categorical_accuracy: 0.6412 - val_acc: 0.6412\n",
      "Epoch 20/50\n",
      "7200/7200 [==============================] - 25s 4ms/step - loss: 0.0845 - categorical_accuracy: 0.9861 - acc: 0.9861 - val_loss: 1.2908 - val_categorical_accuracy: 0.6525 - val_acc: 0.6525\n",
      "Epoch 21/50\n",
      "7200/7200 [==============================] - 25s 3ms/step - loss: 0.0815 - categorical_accuracy: 0.9860 - acc: 0.9860 - val_loss: 1.2939 - val_categorical_accuracy: 0.6288 - val_acc: 0.6288\n",
      "Epoch 22/50\n",
      "7200/7200 [==============================] - 25s 3ms/step - loss: 0.0795 - categorical_accuracy: 0.9860 - acc: 0.9860 - val_loss: 1.3009 - val_categorical_accuracy: 0.6500 - val_acc: 0.6500\n",
      "Epoch 23/50\n",
      "7200/7200 [==============================] - 25s 3ms/step - loss: 0.0742 - categorical_accuracy: 0.9850 - acc: 0.9850 - val_loss: 1.3158 - val_categorical_accuracy: 0.6538 - val_acc: 0.6538\n",
      "Epoch 24/50\n",
      "7200/7200 [==============================] - 25s 3ms/step - loss: 0.0733 - categorical_accuracy: 0.9864 - acc: 0.9864 - val_loss: 1.3158 - val_categorical_accuracy: 0.6562 - val_acc: 0.6562\n",
      "Epoch 25/50\n",
      "7200/7200 [==============================] - 24s 3ms/step - loss: 0.0661 - categorical_accuracy: 0.9864 - acc: 0.9864 - val_loss: 1.3453 - val_categorical_accuracy: 0.6550 - val_acc: 0.6550\n",
      "Epoch 26/50\n",
      "7200/7200 [==============================] - 25s 3ms/step - loss: 0.0680 - categorical_accuracy: 0.9871 - acc: 0.9871 - val_loss: 1.3361 - val_categorical_accuracy: 0.6550 - val_acc: 0.6550\n",
      "Epoch 27/50\n",
      "7200/7200 [==============================] - 23s 3ms/step - loss: 0.0687 - categorical_accuracy: 0.9863 - acc: 0.9863 - val_loss: 1.3511 - val_categorical_accuracy: 0.6500 - val_acc: 0.6500\n",
      "Epoch 28/50\n",
      "7200/7200 [==============================] - 23s 3ms/step - loss: 0.0578 - categorical_accuracy: 0.9893 - acc: 0.9893 - val_loss: 1.3766 - val_categorical_accuracy: 0.6400 - val_acc: 0.6400\n",
      "Epoch 29/50\n",
      "7200/7200 [==============================] - 25s 4ms/step - loss: 0.0631 - categorical_accuracy: 0.9865 - acc: 0.9865 - val_loss: 1.3546 - val_categorical_accuracy: 0.6512 - val_acc: 0.6512\n",
      "Epoch 30/50\n",
      "7200/7200 [==============================] - 26s 4ms/step - loss: 0.0613 - categorical_accuracy: 0.9871 - acc: 0.9871 - val_loss: 1.3908 - val_categorical_accuracy: 0.6512 - val_acc: 0.6512\n",
      "Epoch 31/50\n",
      "7200/7200 [==============================] - 28s 4ms/step - loss: 0.0603 - categorical_accuracy: 0.9872 - acc: 0.9872 - val_loss: 1.3664 - val_categorical_accuracy: 0.6575 - val_acc: 0.6575\n",
      "Epoch 32/50\n",
      "7200/7200 [==============================] - 27s 4ms/step - loss: 0.0567 - categorical_accuracy: 0.9888 - acc: 0.9888 - val_loss: 1.4089 - val_categorical_accuracy: 0.6475 - val_acc: 0.6475\n",
      "Epoch 33/50\n",
      "7200/7200 [==============================] - 27s 4ms/step - loss: 0.0538 - categorical_accuracy: 0.9892 - acc: 0.9892 - val_loss: 1.3819 - val_categorical_accuracy: 0.6450 - val_acc: 0.6450\n",
      "Epoch 34/50\n",
      "7200/7200 [==============================] - 28s 4ms/step - loss: 0.0530 - categorical_accuracy: 0.9893 - acc: 0.9893 - val_loss: 1.4020 - val_categorical_accuracy: 0.6425 - val_acc: 0.6425\n",
      "Epoch 35/50\n",
      "7200/7200 [==============================] - 25s 4ms/step - loss: 0.0512 - categorical_accuracy: 0.9896 - acc: 0.9896 - val_loss: 1.4360 - val_categorical_accuracy: 0.6438 - val_acc: 0.6438\n",
      "Epoch 36/50\n",
      "7200/7200 [==============================] - 25s 4ms/step - loss: 0.0519 - categorical_accuracy: 0.9885 - acc: 0.9885 - val_loss: 1.4156 - val_categorical_accuracy: 0.6462 - val_acc: 0.6462\n",
      "Epoch 37/50\n",
      "7200/7200 [==============================] - 27s 4ms/step - loss: 0.0515 - categorical_accuracy: 0.9889 - acc: 0.9889 - val_loss: 1.4071 - val_categorical_accuracy: 0.6525 - val_acc: 0.6525\n",
      "Epoch 38/50\n",
      "7200/7200 [==============================] - 22s 3ms/step - loss: 0.0506 - categorical_accuracy: 0.9876 - acc: 0.9876 - val_loss: 1.4225 - val_categorical_accuracy: 0.6525 - val_acc: 0.6525\n",
      "Epoch 39/50\n",
      "7200/7200 [==============================] - 23s 3ms/step - loss: 0.0527 - categorical_accuracy: 0.9888 - acc: 0.9888 - val_loss: 1.4558 - val_categorical_accuracy: 0.6562 - val_acc: 0.6562\n",
      "Epoch 40/50\n",
      "7200/7200 [==============================] - 26s 4ms/step - loss: 0.0507 - categorical_accuracy: 0.9878 - acc: 0.9878 - val_loss: 1.4770 - val_categorical_accuracy: 0.6488 - val_acc: 0.6488\n",
      "Epoch 41/50\n"
     ]
    },
    {
     "name": "stdout",
     "output_type": "stream",
     "text": [
      "7200/7200 [==============================] - 23s 3ms/step - loss: 0.0480 - categorical_accuracy: 0.9896 - acc: 0.9896 - val_loss: 1.4709 - val_categorical_accuracy: 0.6388 - val_acc: 0.6388\n",
      "Epoch 42/50\n",
      "7200/7200 [==============================] - 19s 3ms/step - loss: 0.0472 - categorical_accuracy: 0.9897 - acc: 0.9897 - val_loss: 1.4517 - val_categorical_accuracy: 0.6525 - val_acc: 0.6525\n",
      "Epoch 43/50\n",
      "7200/7200 [==============================] - 20s 3ms/step - loss: 0.0485 - categorical_accuracy: 0.9886 - acc: 0.9886 - val_loss: 1.4554 - val_categorical_accuracy: 0.6562 - val_acc: 0.6562\n",
      "Epoch 44/50\n",
      "7200/7200 [==============================] - 20s 3ms/step - loss: 0.0453 - categorical_accuracy: 0.9894 - acc: 0.9894 - val_loss: 1.4550 - val_categorical_accuracy: 0.6637 - val_acc: 0.6637\n",
      "Epoch 45/50\n",
      "7200/7200 [==============================] - 18s 3ms/step - loss: 0.0446 - categorical_accuracy: 0.9903 - acc: 0.9903 - val_loss: 1.4519 - val_categorical_accuracy: 0.6525 - val_acc: 0.6525\n",
      "Epoch 46/50\n",
      "7200/7200 [==============================] - 20s 3ms/step - loss: 0.0466 - categorical_accuracy: 0.9888 - acc: 0.9888 - val_loss: 1.4873 - val_categorical_accuracy: 0.6475 - val_acc: 0.6475\n",
      "Epoch 47/50\n",
      "7200/7200 [==============================] - 26s 4ms/step - loss: 0.0441 - categorical_accuracy: 0.9889 - acc: 0.9889 - val_loss: 1.5039 - val_categorical_accuracy: 0.6375 - val_acc: 0.6375\n",
      "Epoch 48/50\n",
      "7200/7200 [==============================] - 26s 4ms/step - loss: 0.0421 - categorical_accuracy: 0.9907 - acc: 0.9907 - val_loss: 1.4557 - val_categorical_accuracy: 0.6488 - val_acc: 0.6488\n",
      "Epoch 49/50\n",
      "7200/7200 [==============================] - 25s 4ms/step - loss: 0.0433 - categorical_accuracy: 0.9904 - acc: 0.9904 - val_loss: 1.4748 - val_categorical_accuracy: 0.6562 - val_acc: 0.6562\n",
      "Epoch 50/50\n",
      "7200/7200 [==============================] - 25s 3ms/step - loss: 0.0425 - categorical_accuracy: 0.9896 - acc: 0.9896 - val_loss: 1.4899 - val_categorical_accuracy: 0.6475 - val_acc: 0.6475\n"
     ]
    }
   ],
   "source": [
    "history = model.fit(x_train, y_train,\n",
    "                    batch_size=batch_size,\n",
    "                    epochs=nb_epoch,\n",
    "                    verbose=1,\n",
    "                    validation_split=0.1)"
   ]
  },
  {
   "cell_type": "code",
   "execution_count": 83,
   "metadata": {
    "scrolled": true
   },
   "outputs": [
    {
     "name": "stdout",
     "output_type": "stream",
     "text": [
      "dict_keys(['val_loss', 'val_categorical_accuracy', 'val_acc', 'loss', 'categorical_accuracy', 'acc'])\n"
     ]
    }
   ],
   "source": [
    "print(history.history.keys())"
   ]
  },
  {
   "cell_type": "code",
   "execution_count": 84,
   "metadata": {},
   "outputs": [
    {
     "data": {
      "image/png": "[encoded data removed]",
      "text/plain": [
       "<matplotlib.figure.Figure at 0x1a22affbe0>"
      ]
     },
     "metadata": {},
     "output_type": "display_data"
    }
   ],
   "source": [
    "# summarize history for accuracy\n",
    "import matplotlib.pyplot as plt\n",
    "plt.plot(history.history['acc'])\n",
    "plt.plot(history.history['val_acc'])\n",
    "plt.title('model accuracy')\n",
    "plt.ylabel('accuracy')\n",
    "plt.xlabel('epoch')\n",
    "plt.legend(['train', 'test'], loc='upper left')\n",
    "plt.show()"
   ]
  },
  {
   "cell_type": "code",
   "execution_count": 85,
   "metadata": {},
   "outputs": [
    {
     "data": {
      "image/png": "[encoded data removed]",
      "text/plain": [
       "<matplotlib.figure.Figure at 0x1a22aff7f0>"
      ]
     },
     "metadata": {},
     "output_type": "display_data"
    }
   ],
   "source": [
    "# summarize history for loss\n",
    "plt.plot(history.history['loss'])\n",
    "plt.plot(history.history['val_loss'])\n",
    "plt.title('model loss')\n",
    "plt.ylabel('loss')\n",
    "plt.xlabel('epoch')\n",
    "plt.legend(['train', 'test'], loc='upper left')\n",
    "plt.show()"
   ]
  },
  {
   "cell_type": "code",
   "execution_count": 86,
   "metadata": {},
   "outputs": [
    {
     "name": "stdout",
     "output_type": "stream",
     "text": [
      "2000/2000 [==============================] - 2s 832us/step\n",
      "\n",
      "Test categorical_crossentropy: 1.5342233161926269\n",
      "Categorical accuracy: 0.6565\n",
      "Accuracy: 0.6565\n"
     ]
    }
   ],
   "source": [
    "score = model.evaluate(x_test, y_test,\n",
    "                       batch_size=batch_size, verbose=1)\n",
    " \n",
    "print('\\nTest categorical_crossentropy:', score[0])\n",
    "print('Categorical accuracy:', score[1])\n",
    "print('Accuracy:', score[2])"
   ]
  }
 ],
 "metadata": {
  "kernelspec": {
   "display_name": "Python 3",
   "language": "python",
   "name": "python3"
  },
  "language_info": {
   "codemirror_mode": {
    "name": "ipython",
    "version": 3
   },
   "file_extension": ".py",
   "mimetype": "text/x-python",
   "name": "python",
   "nbconvert_exporter": "python",
   "pygments_lexer": "ipython3",
   "version": "3.6.4"
  }
 },
 "nbformat": 4,
 "nbformat_minor": 2
}
