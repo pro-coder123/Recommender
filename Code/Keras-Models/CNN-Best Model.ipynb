{
 "cells": [
  {
   "cell_type": "code",
   "execution_count": 1,
   "metadata": {
    "scrolled": true
   },
   "outputs": [
    {
     "name": "stderr",
     "output_type": "stream",
     "text": [
      "Using TensorFlow backend.\n"
     ]
    }
   ],
   "source": [
    "from keras.models import Sequential\n",
    "from keras.layers import Conv1D, GlobalMaxPooling1D, Embedding, LSTM\n",
    "from keras.layers.core import Dense, Dropout, Activation\n",
    "from keras.preprocessing.text import Tokenizer\n",
    "from keras import metrics, regularizers\n",
    "from keras.preprocessing import sequence\n",
    "import pandas as pd\n",
    "\n",
    "from sklearn.model_selection import train_test_split\n",
    "from sklearn.preprocessing import LabelBinarizer"
   ]
  },
  {
   "cell_type": "code",
   "execution_count": 2,
   "metadata": {},
   "outputs": [],
   "source": [
    "#Load cleaned dataset\n",
    "data = pd.read_csv('../../Results/Cleaned_JobDescs.csv', header = 0, names = ['Query', 'Description'])\n",
    "#data = pd.read_csv('../../Results/Cleaned_JobsNonIT.csv', header = 0, names = ['Query', 'Description'])"
   ]
  },
  {
   "cell_type": "code",
   "execution_count": 3,
   "metadata": {},
   "outputs": [],
   "source": [
    "#Split the dataset to Training and Test subsets (90/10)\n",
    "train, test = train_test_split(data, test_size = 0.1, random_state = 17) #random_state = None\n",
    "\n",
    "train_descs = train['Description']\n",
    "train_labels = train['Query']\n",
    " \n",
    "test_descs = test['Description']\n",
    "test_labels = test['Query']"
   ]
  },
  {
   "cell_type": "code",
   "execution_count": 4,
   "metadata": {},
   "outputs": [],
   "source": [
    "# Model Parameters\n",
    "vocab_size = 1000\n",
    "\n",
    "sequences_length = 1200\n",
    "\n",
    "embedding_dimensionality = 64 #possibly low??\n",
    "max_features = 2000 #equal to vocab_size\n",
    "\n",
    "num_labels = len(train_labels.unique())\n",
    "batch_size = 32\n",
    "nb_epoch = 20\n",
    "\n",
    "nof_filters = 200\n",
    "kernel_size = 16\n",
    "\n",
    "hidden_dims = 512"
   ]
  },
  {
   "cell_type": "code",
   "execution_count": 5,
   "metadata": {},
   "outputs": [],
   "source": [
    "# Convert Texts to Numeric Vectors for Input\n",
    "tokenizer = Tokenizer(num_words = vocab_size)\n",
    "tokenizer.fit_on_texts(train_descs)\n",
    "\n",
    "x_train = tokenizer.texts_to_sequences(train_descs)\n",
    "x_test = tokenizer.texts_to_sequences(test_descs)\n",
    "\n",
    "x_train = sequence.pad_sequences(x_train, maxlen = sequences_length, padding = 'post')\n",
    "x_test = sequence.pad_sequences(x_test, maxlen = sequences_length, padding = 'post')\n",
    "\n",
    "encoder = LabelBinarizer()\n",
    "encoder.fit(train_labels)\n",
    "y_train = encoder.transform(train_labels)\n",
    "y_test = encoder.transform(test_labels)"
   ]
  },
  {
   "cell_type": "code",
   "execution_count": 6,
   "metadata": {},
   "outputs": [
    {
     "name": "stdout",
     "output_type": "stream",
     "text": [
      "_________________________________________________________________\n",
      "Layer (type)                 Output Shape              Param #   \n",
      "=================================================================\n",
      "embedding_1 (Embedding)      (None, 1200, 64)          128000    \n",
      "_________________________________________________________________\n",
      "conv1d_1 (Conv1D)            (None, 1185, 200)         205000    \n",
      "_________________________________________________________________\n",
      "global_max_pooling1d_1 (Glob (None, 200)               0         \n",
      "_________________________________________________________________\n",
      "dense_1 (Dense)              (None, 512)               102912    \n",
      "_________________________________________________________________\n",
      "dropout_1 (Dropout)          (None, 512)               0         \n",
      "_________________________________________________________________\n",
      "activation_1 (Activation)    (None, 512)               0         \n",
      "_________________________________________________________________\n",
      "dense_2 (Dense)              (None, 25)                12825     \n",
      "_________________________________________________________________\n",
      "activation_2 (Activation)    (None, 25)                0         \n",
      "=================================================================\n",
      "Total params: 448,737\n",
      "Trainable params: 448,737\n",
      "Non-trainable params: 0\n",
      "_________________________________________________________________\n"
     ]
    }
   ],
   "source": [
    "model = Sequential()\n",
    "model.add(Embedding(max_features, embedding_dimensionality, input_length = 1200))\n",
    "#model.add(LSTM(100, dropout=0.2, recurrent_dropout=0.2))\n",
    "\n",
    "model.add(Conv1D(nof_filters, kernel_size, padding='valid', activation='relu', strides = 1))\n",
    "model.add(GlobalMaxPooling1D())\n",
    "\n",
    "model.add(Dense(hidden_dims))\n",
    "model.add(Dropout(0.3))\n",
    "model.add(Activation('relu'))\n",
    "\n",
    "model.add(Dense(num_labels))\n",
    "model.add(Activation('softmax'))\n",
    "\n",
    "model.summary()\n",
    "model.compile(loss='categorical_crossentropy', optimizer='adam', #'sgd', 'adam', 'RMSprop', 'Adagrad'\n",
    "                   metrics = [metrics.categorical_accuracy])"
   ]
  },
  {
   "cell_type": "code",
   "execution_count": 7,
   "metadata": {},
   "outputs": [
    {
     "name": "stdout",
     "output_type": "stream",
     "text": [
      "Train on 7200 samples, validate on 1800 samples\n",
      "Epoch 1/20\n",
      "7200/7200 [==============================] - 183s 25ms/step - loss: 2.9007 - categorical_accuracy: 0.1451 - val_loss: 2.0295 - val_categorical_accuracy: 0.3517\n",
      "Epoch 2/20\n",
      "7200/7200 [==============================] - 230s 32ms/step - loss: 1.6704 - categorical_accuracy: 0.4907 - val_loss: 1.3615 - val_categorical_accuracy: 0.5828\n",
      "Epoch 3/20\n",
      "7200/7200 [==============================] - 233s 32ms/step - loss: 1.0874 - categorical_accuracy: 0.6639 - val_loss: 1.2265 - val_categorical_accuracy: 0.6228\n",
      "Epoch 4/20\n",
      "7200/7200 [==============================] - 240s 33ms/step - loss: 0.7495 - categorical_accuracy: 0.7617 - val_loss: 1.1510 - val_categorical_accuracy: 0.6472\n",
      "Epoch 5/20\n",
      "7200/7200 [==============================] - 231s 32ms/step - loss: 0.4823 - categorical_accuracy: 0.8456 - val_loss: 1.2650 - val_categorical_accuracy: 0.6350\n",
      "Epoch 6/20\n",
      "7200/7200 [==============================] - 232s 32ms/step - loss: 0.2969 - categorical_accuracy: 0.9144 - val_loss: 1.2600 - val_categorical_accuracy: 0.6611\n",
      "Epoch 7/20\n",
      "7200/7200 [==============================] - 244s 34ms/step - loss: 0.1922 - categorical_accuracy: 0.9543 - val_loss: 1.3524 - val_categorical_accuracy: 0.6539\n",
      "Epoch 8/20\n",
      "7200/7200 [==============================] - 244s 34ms/step - loss: 0.1490 - categorical_accuracy: 0.9668 - val_loss: 1.3992 - val_categorical_accuracy: 0.6594\n",
      "Epoch 9/20\n",
      "7200/7200 [==============================] - 238s 33ms/step - loss: 0.1232 - categorical_accuracy: 0.9779 - val_loss: 1.3928 - val_categorical_accuracy: 0.6517\n",
      "Epoch 10/20\n",
      "7200/7200 [==============================] - 245s 34ms/step - loss: 0.1017 - categorical_accuracy: 0.9817 - val_loss: 1.5894 - val_categorical_accuracy: 0.6467\n",
      "Epoch 11/20\n",
      "7200/7200 [==============================] - 230s 32ms/step - loss: 0.0957 - categorical_accuracy: 0.9817 - val_loss: 1.5151 - val_categorical_accuracy: 0.6478\n",
      "Epoch 12/20\n",
      "7200/7200 [==============================] - 233s 32ms/step - loss: 0.0850 - categorical_accuracy: 0.9840 - val_loss: 1.5456 - val_categorical_accuracy: 0.6511\n",
      "Epoch 13/20\n",
      "7200/7200 [==============================] - 247s 34ms/step - loss: 0.0936 - categorical_accuracy: 0.9804 - val_loss: 1.4988 - val_categorical_accuracy: 0.6661\n",
      "Epoch 14/20\n",
      "7200/7200 [==============================] - 252s 35ms/step - loss: 0.0774 - categorical_accuracy: 0.9851 - val_loss: 1.5143 - val_categorical_accuracy: 0.6578\n",
      "Epoch 15/20\n",
      "7200/7200 [==============================] - 252s 35ms/step - loss: 0.0669 - categorical_accuracy: 0.9849 - val_loss: 1.5819 - val_categorical_accuracy: 0.6578\n",
      "Epoch 16/20\n",
      "7200/7200 [==============================] - 245s 34ms/step - loss: 0.0750 - categorical_accuracy: 0.9851 - val_loss: 1.6992 - val_categorical_accuracy: 0.6356\n",
      "Epoch 17/20\n",
      "7200/7200 [==============================] - 245s 34ms/step - loss: 0.0637 - categorical_accuracy: 0.9857 - val_loss: 1.6350 - val_categorical_accuracy: 0.6611\n",
      "Epoch 18/20\n",
      "7200/7200 [==============================] - 256s 36ms/step - loss: 0.0552 - categorical_accuracy: 0.9857 - val_loss: 1.7187 - val_categorical_accuracy: 0.6578\n",
      "Epoch 19/20\n",
      "7200/7200 [==============================] - 244s 34ms/step - loss: 0.0596 - categorical_accuracy: 0.9851 - val_loss: 1.7069 - val_categorical_accuracy: 0.6483\n",
      "Epoch 20/20\n",
      "7200/7200 [==============================] - 234s 32ms/step - loss: 0.0567 - categorical_accuracy: 0.9857 - val_loss: 1.6474 - val_categorical_accuracy: 0.6672\n"
     ]
    }
   ],
   "source": [
    "history = model.fit(x_train, y_train,\n",
    "                    batch_size = batch_size,\n",
    "                    epochs = nb_epoch,\n",
    "                    verbose = True,\n",
    "                    validation_split = 0.2)"
   ]
  },
  {
   "cell_type": "code",
   "execution_count": 8,
   "metadata": {},
   "outputs": [
    {
     "name": "stdout",
     "output_type": "stream",
     "text": [
      "1000/1000 [==============================] - 7s 7ms/step\n",
      "\n",
      "Test categorical_crossentropy: 1.6141056458950043\n",
      "Categorical accuracy: 0.66\n"
     ]
    }
   ],
   "source": [
    "score = model.evaluate(x_test, y_test, batch_size = batch_size, verbose = True)\n",
    " \n",
    "print('\\nTest categorical_crossentropy:', score[0])\n",
    "print('Categorical accuracy:', score[1])\n"
   ]
  },
  {
   "cell_type": "code",
   "execution_count": 12,
   "metadata": {},
   "outputs": [
    {
     "data": {
      "image/png": "[encoded data removed]",
      "text/plain": [
       "<Figure size 432x288 with 1 Axes>"
      ]
     },
     "metadata": {},
     "output_type": "display_data"
    }
   ],
   "source": [
    "# summarize history for accuracy\n",
    "import matplotlib.pyplot as plt\n",
    "\n",
    "plt.plot(history.history['categorical_accuracy'])\n",
    "plt.plot(history.history['val_categorical_accuracy'])\n",
    "plt.title('model accuracy')\n",
    "plt.ylabel('classification accuracy')\n",
    "plt.xlabel('epochs')\n",
    "plt.legend(['train', 'test'], loc='upper left')\n",
    "plt.show()"
   ]
  }
 ],
 "metadata": {
  "kernelspec": {
   "display_name": "Python 3",
   "language": "python",
   "name": "python3"
  },
  "language_info": {
   "codemirror_mode": {
    "name": "ipython",
    "version": 3
   },
   "file_extension": ".py",
   "mimetype": "text/x-python",
   "name": "python",
   "nbconvert_exporter": "python",
   "pygments_lexer": "ipython3",
   "version": "3.6.5"
  }
 },
 "nbformat": 4,
 "nbformat_minor": 2
}
