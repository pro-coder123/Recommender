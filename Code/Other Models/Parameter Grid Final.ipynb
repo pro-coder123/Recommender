{
 "cells": [
  {
   "cell_type": "markdown",
   "metadata": {},
   "source": [
    "<div style=\"float: left; width: 90%; height: auto; line-height: 200px; vertical-align: middle; background: #000099; padding: 0; margin: 0; border-top-left-radius: 10px; border-bottom-left-radius: 10px; border-top-right-radius: 10px; border-bottom-right-radius: 10px; font-family: Calibri; font-size: 50px; overflow: hidden; text-align: center;\">\n",
    "        <div style=\"text-align: center; width: 80%; margin: 0 auto; overflow: hidden; line-height: 80px; background-color:#000099\">\n",
    "                  <span id=\"dept_name\" class=\"pretty_span\">\n",
    "                          <font color=\"white\">**Parameter Grid**</font>\n",
    "                  </span>\n",
    "        </div>\n",
    "</div>"
   ]
  },
  {
   "cell_type": "markdown",
   "metadata": {},
   "source": [
    "<div style=\"float: left; width: 90%; height: auto; line-height: 200px; vertical-align: middle; background: #000000; padding: 0; margin: 0; border-top-left-radius: 10px; border-bottom-left-radius: 10px; border-top-right-radius: 10px; border-bottom-right-radius: 10px; font-family: Calibri; font-size: 30px; overflow: hidden; text-align: center;\">\n",
    "        <div style=\"text-align: center; width: 80%; margin: 0 auto; overflow: hidden; line-height: 50px; background-color:#000000\">\n",
    "                  <span id=\"dept_name\" class=\"pretty_span\">\n",
    "                          <font color=\"white\">**Table of contents**</font>\n",
    "                  </span>\n",
    "        </div>\n",
    "</div>"
   ]
  },
  {
   "cell_type": "markdown",
   "metadata": {},
   "source": [
    "## 1. [Import Libraries](#Import Libraries)\n",
    "## 2. [Load the Dataset](#Load the Dataset)\n",
    "## 3. [Create the Train and Test Datasets](#Create the Train and Test Datasets)\n",
    "## 4. [Define Tokenizer with Vocab Size](#Define Tokenizer with Vocab Size)\n",
    "## 5. [Create the Model](#Create the Model)\n",
    "## 6. [Reproductibility and Model Definition](#Reproductibility and Model Definition)\n",
    "## 7. [Create and Tune the Parameter Grip](#Create and Tune the Parameter Grip)\n",
    "## 8. [Get the results of all Models and Find the Best One](#Get the results of all Models and Find the Best One)"
   ]
  },
  {
   "cell_type": "markdown",
   "metadata": {},
   "source": [
    "# <a id='Import Libraries'></a> <u><font color='orange'>Import Libraries</font></u>"
   ]
  },
  {
   "cell_type": "code",
   "execution_count": 1,
   "metadata": {},
   "outputs": [
    {
     "name": "stderr",
     "output_type": "stream",
     "text": [
      "/anaconda3/lib/python3.6/site-packages/h5py/__init__.py:36: FutureWarning: Conversion of the second argument of issubdtype from `float` to `np.floating` is deprecated. In future, it will be treated as `np.float64 == np.dtype(float).type`.\n",
      "  from ._conv import register_converters as _register_converters\n",
      "Using TensorFlow backend.\n",
      "/anaconda3/lib/python3.6/importlib/_bootstrap.py:219: RuntimeWarning: compiletime version 3.5 of module 'tensorflow.python.framework.fast_tensor_util' does not match runtime version 3.6\n",
      "  return f(*args, **kwds)\n"
     ]
    }
   ],
   "source": [
    "from keras.models import Sequential\n",
    "from keras.layers.core import Dense, Dropout, Activation\n",
    "from keras.utils import np_utils\n",
    "from keras.preprocessing.text import Tokenizer\n",
    "from keras import metrics\n",
    "from keras.layers.embeddings import Embedding\n",
    "from keras.preprocessing.sequence import pad_sequences\n",
    "from keras.preprocessing.text import one_hot\n",
    "from keras.layers import Flatten\n",
    "\n",
    "from nltk import word_tokenize, pos_tag, chunk\n",
    "from pprint import pprint\n",
    "from nltk.corpus import stopwords\n",
    "from nltk.tokenize import RegexpTokenizer\n",
    "from nltk.stem import WordNetLemmatizer\n",
    "\n",
    "from pprint import pprint\n",
    "import pandas as pd\n",
    "import numpy as np\n",
    "\n",
    "from keras import optimizers\n",
    "from keras.layers import Dense\n",
    "from sklearn.model_selection import GridSearchCV\n",
    "from keras.wrappers.scikit_learn import KerasClassifier\n",
    "from sklearn.model_selection import train_test_split\n",
    "from sklearn.preprocessing import LabelBinarizer\n",
    "from keras.constraints import maxnorm\n",
    "from keras.layers import Dropout\n",
    "import os"
   ]
  },
  {
   "cell_type": "markdown",
   "metadata": {},
   "source": [
    "# <a id='Load the Dataset'></a> <u><font color='orange'>Load the Dataset</font></u>"
   ]
  },
  {
   "cell_type": "code",
   "execution_count": 2,
   "metadata": {},
   "outputs": [],
   "source": [
    "path = '/Users/leonidas/Documents/GitHub/Deep-Learning-Project/Results/'\n",
    "filename = '25_cleaned_job_descriptions.csv'\n",
    "data = pd.read_csv(os.path.join(path, filename), header = 0, names = ['Query', 'Description'])"
   ]
  },
  {
   "cell_type": "markdown",
   "metadata": {},
   "source": [
    "# <a id='Create the Train and Test Datasets'></a> <u><font color='orange'>Create the Train and Test Datasets</font></u>"
   ]
  },
  {
   "cell_type": "code",
   "execution_count": 3,
   "metadata": {},
   "outputs": [],
   "source": [
    "#Split data to train and test (80 - 20)\n",
    "\n",
    "train, test = train_test_split(data, test_size = 0.2)\n",
    "\n",
    "train_descs = train['Description']\n",
    "train_labels = train['Query']\n",
    "#train_labels = train['Job Title']\n",
    " \n",
    "test_descs = test['Description']\n",
    "test_labels = test['Query']"
   ]
  },
  {
   "cell_type": "markdown",
   "metadata": {},
   "source": [
    "# <a id='Define Tokenizer with Vocab Size'></a> <u><font color='orange'>Define Tokenizer with Vocab Size</font></u>"
   ]
  },
  {
   "cell_type": "code",
   "execution_count": 4,
   "metadata": {},
   "outputs": [],
   "source": [
    "num_labels = len(train_labels.unique().tolist())\n",
    "vocab_size = 1000\n",
    " \n",
    "tokenizer = Tokenizer(num_words=vocab_size)\n",
    "tokenizer.fit_on_texts(train_descs)\n",
    " \n",
    "x_train = tokenizer.texts_to_matrix(train_descs, mode='tfidf')\n",
    "x_test = tokenizer.texts_to_matrix(test_descs, mode='tfidf')\n",
    " \n",
    "encoder = LabelBinarizer()\n",
    "encoder.fit(train_labels)\n",
    "y_train = encoder.transform(train_labels)\n",
    "y_test = encoder.transform(test_labels)"
   ]
  },
  {
   "cell_type": "markdown",
   "metadata": {},
   "source": [
    "# <a id='Create the Model'></a> <u><font color='orange'>Create the Model</font></u>"
   ]
  },
  {
   "cell_type": "code",
   "execution_count": 5,
   "metadata": {},
   "outputs": [],
   "source": [
    "##Parameter Grid Search for all parameters except for the neurons which are random numbers at this point.\n",
    "def create_model(optimizer='adam', init_mode='uniform', activation='relu', dropout_rate=0.0, weight_constraint=0):\n",
    "    model = Sequential()\n",
    "    model.add(Dense(50, input_shape=(vocab_size,), activation = activation, kernel_initializer = init_mode, kernel_constraint=maxnorm(weight_constraint)))\n",
    "    model.add(Dropout(dropout_rate))\n",
    "    model.add(Dense(1, kernel_initializer = init_mode, activation= activation))\n",
    "    model.add(Dropout(dropout_rate))\n",
    "    model.add(Dense(num_labels))\n",
    "    model.add(Activation('softmax'))\n",
    "    \n",
    "    # Compile model\n",
    "    model.compile(loss = 'categorical_crossentropy',\n",
    "              optimizer = optimizer, # or 'sgd'\n",
    "              metrics = [metrics.categorical_accuracy, 'accuracy'])\n",
    "    return model"
   ]
  },
  {
   "cell_type": "markdown",
   "metadata": {},
   "source": [
    "# <a id='Reproductibility and Model Definition'></a> <u><font color='orange'>Reproductibility and Model Definition</font></u>"
   ]
  },
  {
   "cell_type": "code",
   "execution_count": 6,
   "metadata": {},
   "outputs": [],
   "source": [
    "# Fix random seed for reproducibility\n",
    "seed = 7\n",
    "np.random.seed(seed)\n",
    "\n",
    "# Define the model\n",
    "model = KerasClassifier(build_fn=create_model, verbose=0)"
   ]
  },
  {
   "cell_type": "markdown",
   "metadata": {},
   "source": [
    "# <a id='Create and Tune the Parameter Grip'></a> <u><font color='orange'>Create and Tune the Parameter Grip</font></u>"
   ]
  },
  {
   "cell_type": "code",
   "execution_count": 9,
   "metadata": {},
   "outputs": [
    {
     "name": "stdout",
     "output_type": "stream",
     "text": [
      "Fitting 3 folds for each of 128 candidates, totalling 384 fits\n",
      "[CV] activation=relu, batch_size=16, dropout_rate=0.1, epochs=30, init_mode=glorot_normal, optimizer=SGD, weight_constraint=1 \n",
      "[CV]  activation=relu, batch_size=16, dropout_rate=0.1, epochs=30, init_mode=glorot_normal, optimizer=SGD, weight_constraint=1, total=  44.0s\n",
      "[CV] activation=relu, batch_size=16, dropout_rate=0.1, epochs=30, init_mode=glorot_normal, optimizer=SGD, weight_constraint=1 \n"
     ]
    },
    {
     "name": "stderr",
     "output_type": "stream",
     "text": [
      "[Parallel(n_jobs=1)]: Done   1 out of   1 | elapsed:   44.7s remaining:    0.0s\n"
     ]
    },
    {
     "name": "stdout",
     "output_type": "stream",
     "text": [
      "[CV]  activation=relu, batch_size=16, dropout_rate=0.1, epochs=30, init_mode=glorot_normal, optimizer=SGD, weight_constraint=1, total=  43.8s\n",
      "[CV] activation=relu, batch_size=16, dropout_rate=0.1, epochs=30, init_mode=glorot_normal, optimizer=SGD, weight_constraint=1 \n",
      "[CV]  activation=relu, batch_size=16, dropout_rate=0.1, epochs=30, init_mode=glorot_normal, optimizer=SGD, weight_constraint=1, total=  42.0s\n",
      "[CV] activation=relu, batch_size=16, dropout_rate=0.1, epochs=30, init_mode=glorot_normal, optimizer=SGD, weight_constraint=2 \n",
      "[CV]  activation=relu, batch_size=16, dropout_rate=0.1, epochs=30, init_mode=glorot_normal, optimizer=SGD, weight_constraint=2, total=  43.8s\n",
      "[CV] activation=relu, batch_size=16, dropout_rate=0.1, epochs=30, init_mode=glorot_normal, optimizer=SGD, weight_constraint=2 \n",
      "[CV]  activation=relu, batch_size=16, dropout_rate=0.1, epochs=30, init_mode=glorot_normal, optimizer=SGD, weight_constraint=2, total=  44.9s\n",
      "[CV] activation=relu, batch_size=16, dropout_rate=0.1, epochs=30, init_mode=glorot_normal, optimizer=SGD, weight_constraint=2 \n",
      "[CV]  activation=relu, batch_size=16, dropout_rate=0.1, epochs=30, init_mode=glorot_normal, optimizer=SGD, weight_constraint=2, total=  44.7s\n",
      "[CV] activation=relu, batch_size=16, dropout_rate=0.1, epochs=30, init_mode=glorot_normal, optimizer=Adam, weight_constraint=1 \n",
      "[CV]  activation=relu, batch_size=16, dropout_rate=0.1, epochs=30, init_mode=glorot_normal, optimizer=Adam, weight_constraint=1, total=  47.9s\n",
      "[CV] activation=relu, batch_size=16, dropout_rate=0.1, epochs=30, init_mode=glorot_normal, optimizer=Adam, weight_constraint=1 \n",
      "[CV]  activation=relu, batch_size=16, dropout_rate=0.1, epochs=30, init_mode=glorot_normal, optimizer=Adam, weight_constraint=1, total=  46.2s\n",
      "[CV] activation=relu, batch_size=16, dropout_rate=0.1, epochs=30, init_mode=glorot_normal, optimizer=Adam, weight_constraint=1 \n",
      "[CV]  activation=relu, batch_size=16, dropout_rate=0.1, epochs=30, init_mode=glorot_normal, optimizer=Adam, weight_constraint=1, total=  51.8s\n",
      "[CV] activation=relu, batch_size=16, dropout_rate=0.1, epochs=30, init_mode=glorot_normal, optimizer=Adam, weight_constraint=2 \n",
      "[CV]  activation=relu, batch_size=16, dropout_rate=0.1, epochs=30, init_mode=glorot_normal, optimizer=Adam, weight_constraint=2, total=  46.8s\n",
      "[CV] activation=relu, batch_size=16, dropout_rate=0.1, epochs=30, init_mode=glorot_normal, optimizer=Adam, weight_constraint=2 \n",
      "[CV]  activation=relu, batch_size=16, dropout_rate=0.1, epochs=30, init_mode=glorot_normal, optimizer=Adam, weight_constraint=2, total=  52.8s\n",
      "[CV] activation=relu, batch_size=16, dropout_rate=0.1, epochs=30, init_mode=glorot_normal, optimizer=Adam, weight_constraint=2 \n",
      "[CV]  activation=relu, batch_size=16, dropout_rate=0.1, epochs=30, init_mode=glorot_normal, optimizer=Adam, weight_constraint=2, total=  48.3s\n",
      "[CV] activation=relu, batch_size=16, dropout_rate=0.1, epochs=30, init_mode=glorot_uniform, optimizer=SGD, weight_constraint=1 \n",
      "[CV]  activation=relu, batch_size=16, dropout_rate=0.1, epochs=30, init_mode=glorot_uniform, optimizer=SGD, weight_constraint=1, total=  45.9s\n",
      "[CV] activation=relu, batch_size=16, dropout_rate=0.1, epochs=30, init_mode=glorot_uniform, optimizer=SGD, weight_constraint=1 \n",
      "[CV]  activation=relu, batch_size=16, dropout_rate=0.1, epochs=30, init_mode=glorot_uniform, optimizer=SGD, weight_constraint=1, total=  48.3s\n",
      "[CV] activation=relu, batch_size=16, dropout_rate=0.1, epochs=30, init_mode=glorot_uniform, optimizer=SGD, weight_constraint=1 \n",
      "[CV]  activation=relu, batch_size=16, dropout_rate=0.1, epochs=30, init_mode=glorot_uniform, optimizer=SGD, weight_constraint=1, total=  49.0s\n",
      "[CV] activation=relu, batch_size=16, dropout_rate=0.1, epochs=30, init_mode=glorot_uniform, optimizer=SGD, weight_constraint=2 \n",
      "[CV]  activation=relu, batch_size=16, dropout_rate=0.1, epochs=30, init_mode=glorot_uniform, optimizer=SGD, weight_constraint=2, total=  48.8s\n",
      "[CV] activation=relu, batch_size=16, dropout_rate=0.1, epochs=30, init_mode=glorot_uniform, optimizer=SGD, weight_constraint=2 \n",
      "[CV]  activation=relu, batch_size=16, dropout_rate=0.1, epochs=30, init_mode=glorot_uniform, optimizer=SGD, weight_constraint=2, total=  44.6s\n",
      "[CV] activation=relu, batch_size=16, dropout_rate=0.1, epochs=30, init_mode=glorot_uniform, optimizer=SGD, weight_constraint=2 \n",
      "[CV]  activation=relu, batch_size=16, dropout_rate=0.1, epochs=30, init_mode=glorot_uniform, optimizer=SGD, weight_constraint=2, total=  49.4s\n",
      "[CV] activation=relu, batch_size=16, dropout_rate=0.1, epochs=30, init_mode=glorot_uniform, optimizer=Adam, weight_constraint=1 \n",
      "[CV]  activation=relu, batch_size=16, dropout_rate=0.1, epochs=30, init_mode=glorot_uniform, optimizer=Adam, weight_constraint=1, total=  52.4s\n",
      "[CV] activation=relu, batch_size=16, dropout_rate=0.1, epochs=30, init_mode=glorot_uniform, optimizer=Adam, weight_constraint=1 \n",
      "[CV]  activation=relu, batch_size=16, dropout_rate=0.1, epochs=30, init_mode=glorot_uniform, optimizer=Adam, weight_constraint=1, total=  54.6s\n",
      "[CV] activation=relu, batch_size=16, dropout_rate=0.1, epochs=30, init_mode=glorot_uniform, optimizer=Adam, weight_constraint=1 \n",
      "[CV]  activation=relu, batch_size=16, dropout_rate=0.1, epochs=30, init_mode=glorot_uniform, optimizer=Adam, weight_constraint=1, total=  51.0s\n",
      "[CV] activation=relu, batch_size=16, dropout_rate=0.1, epochs=30, init_mode=glorot_uniform, optimizer=Adam, weight_constraint=2 \n",
      "[CV]  activation=relu, batch_size=16, dropout_rate=0.1, epochs=30, init_mode=glorot_uniform, optimizer=Adam, weight_constraint=2, total=  55.2s\n",
      "[CV] activation=relu, batch_size=16, dropout_rate=0.1, epochs=30, init_mode=glorot_uniform, optimizer=Adam, weight_constraint=2 \n",
      "[CV]  activation=relu, batch_size=16, dropout_rate=0.1, epochs=30, init_mode=glorot_uniform, optimizer=Adam, weight_constraint=2, total=  57.0s\n",
      "[CV] activation=relu, batch_size=16, dropout_rate=0.1, epochs=30, init_mode=glorot_uniform, optimizer=Adam, weight_constraint=2 \n",
      "[CV]  activation=relu, batch_size=16, dropout_rate=0.1, epochs=30, init_mode=glorot_uniform, optimizer=Adam, weight_constraint=2, total=  57.4s\n",
      "[CV] activation=relu, batch_size=16, dropout_rate=0.1, epochs=50, init_mode=glorot_normal, optimizer=SGD, weight_constraint=1 \n",
      "[CV]  activation=relu, batch_size=16, dropout_rate=0.1, epochs=50, init_mode=glorot_normal, optimizer=SGD, weight_constraint=1, total= 1.2min\n",
      "[CV] activation=relu, batch_size=16, dropout_rate=0.1, epochs=50, init_mode=glorot_normal, optimizer=SGD, weight_constraint=1 \n",
      "[CV]  activation=relu, batch_size=16, dropout_rate=0.1, epochs=50, init_mode=glorot_normal, optimizer=SGD, weight_constraint=1, total= 1.3min\n",
      "[CV] activation=relu, batch_size=16, dropout_rate=0.1, epochs=50, init_mode=glorot_normal, optimizer=SGD, weight_constraint=1 \n",
      "[CV]  activation=relu, batch_size=16, dropout_rate=0.1, epochs=50, init_mode=glorot_normal, optimizer=SGD, weight_constraint=1, total= 1.3min\n",
      "[CV] activation=relu, batch_size=16, dropout_rate=0.1, epochs=50, init_mode=glorot_normal, optimizer=SGD, weight_constraint=2 \n",
      "[CV]  activation=relu, batch_size=16, dropout_rate=0.1, epochs=50, init_mode=glorot_normal, optimizer=SGD, weight_constraint=2, total= 1.4min\n",
      "[CV] activation=relu, batch_size=16, dropout_rate=0.1, epochs=50, init_mode=glorot_normal, optimizer=SGD, weight_constraint=2 \n",
      "[CV]  activation=relu, batch_size=16, dropout_rate=0.1, epochs=50, init_mode=glorot_normal, optimizer=SGD, weight_constraint=2, total= 1.4min\n",
      "[CV] activation=relu, batch_size=16, dropout_rate=0.1, epochs=50, init_mode=glorot_normal, optimizer=SGD, weight_constraint=2 \n",
      "[CV]  activation=relu, batch_size=16, dropout_rate=0.1, epochs=50, init_mode=glorot_normal, optimizer=SGD, weight_constraint=2, total= 1.5min\n",
      "[CV] activation=relu, batch_size=16, dropout_rate=0.1, epochs=50, init_mode=glorot_normal, optimizer=Adam, weight_constraint=1 \n",
      "[CV]  activation=relu, batch_size=16, dropout_rate=0.1, epochs=50, init_mode=glorot_normal, optimizer=Adam, weight_constraint=1, total= 1.5min\n",
      "[CV] activation=relu, batch_size=16, dropout_rate=0.1, epochs=50, init_mode=glorot_normal, optimizer=Adam, weight_constraint=1 \n",
      "[CV]  activation=relu, batch_size=16, dropout_rate=0.1, epochs=50, init_mode=glorot_normal, optimizer=Adam, weight_constraint=1, total= 1.5min\n",
      "[CV] activation=relu, batch_size=16, dropout_rate=0.1, epochs=50, init_mode=glorot_normal, optimizer=Adam, weight_constraint=1 \n"
     ]
    },
    {
     "name": "stdout",
     "output_type": "stream",
     "text": [
      "[CV]  activation=relu, batch_size=16, dropout_rate=0.1, epochs=50, init_mode=glorot_normal, optimizer=Adam, weight_constraint=1, total= 1.6min\n",
      "[CV] activation=relu, batch_size=16, dropout_rate=0.1, epochs=50, init_mode=glorot_normal, optimizer=Adam, weight_constraint=2 \n",
      "[CV]  activation=relu, batch_size=16, dropout_rate=0.1, epochs=50, init_mode=glorot_normal, optimizer=Adam, weight_constraint=2, total= 1.4min\n",
      "[CV] activation=relu, batch_size=16, dropout_rate=0.1, epochs=50, init_mode=glorot_normal, optimizer=Adam, weight_constraint=2 \n",
      "[CV]  activation=relu, batch_size=16, dropout_rate=0.1, epochs=50, init_mode=glorot_normal, optimizer=Adam, weight_constraint=2, total= 1.4min\n",
      "[CV] activation=relu, batch_size=16, dropout_rate=0.1, epochs=50, init_mode=glorot_normal, optimizer=Adam, weight_constraint=2 \n",
      "[CV]  activation=relu, batch_size=16, dropout_rate=0.1, epochs=50, init_mode=glorot_normal, optimizer=Adam, weight_constraint=2, total= 1.6min\n",
      "[CV] activation=relu, batch_size=16, dropout_rate=0.1, epochs=50, init_mode=glorot_uniform, optimizer=SGD, weight_constraint=1 \n",
      "[CV]  activation=relu, batch_size=16, dropout_rate=0.1, epochs=50, init_mode=glorot_uniform, optimizer=SGD, weight_constraint=1, total= 1.4min\n",
      "[CV] activation=relu, batch_size=16, dropout_rate=0.1, epochs=50, init_mode=glorot_uniform, optimizer=SGD, weight_constraint=1 \n",
      "[CV]  activation=relu, batch_size=16, dropout_rate=0.1, epochs=50, init_mode=glorot_uniform, optimizer=SGD, weight_constraint=1, total= 1.4min\n",
      "[CV] activation=relu, batch_size=16, dropout_rate=0.1, epochs=50, init_mode=glorot_uniform, optimizer=SGD, weight_constraint=1 \n",
      "[CV]  activation=relu, batch_size=16, dropout_rate=0.1, epochs=50, init_mode=glorot_uniform, optimizer=SGD, weight_constraint=1, total= 1.5min\n",
      "[CV] activation=relu, batch_size=16, dropout_rate=0.1, epochs=50, init_mode=glorot_uniform, optimizer=SGD, weight_constraint=2 \n",
      "[CV]  activation=relu, batch_size=16, dropout_rate=0.1, epochs=50, init_mode=glorot_uniform, optimizer=SGD, weight_constraint=2, total= 1.4min\n",
      "[CV] activation=relu, batch_size=16, dropout_rate=0.1, epochs=50, init_mode=glorot_uniform, optimizer=SGD, weight_constraint=2 \n",
      "[CV]  activation=relu, batch_size=16, dropout_rate=0.1, epochs=50, init_mode=glorot_uniform, optimizer=SGD, weight_constraint=2, total= 1.3min\n",
      "[CV] activation=relu, batch_size=16, dropout_rate=0.1, epochs=50, init_mode=glorot_uniform, optimizer=SGD, weight_constraint=2 \n",
      "[CV]  activation=relu, batch_size=16, dropout_rate=0.1, epochs=50, init_mode=glorot_uniform, optimizer=SGD, weight_constraint=2, total= 1.4min\n",
      "[CV] activation=relu, batch_size=16, dropout_rate=0.1, epochs=50, init_mode=glorot_uniform, optimizer=Adam, weight_constraint=1 \n",
      "[CV]  activation=relu, batch_size=16, dropout_rate=0.1, epochs=50, init_mode=glorot_uniform, optimizer=Adam, weight_constraint=1, total= 1.5min\n",
      "[CV] activation=relu, batch_size=16, dropout_rate=0.1, epochs=50, init_mode=glorot_uniform, optimizer=Adam, weight_constraint=1 \n",
      "[CV]  activation=relu, batch_size=16, dropout_rate=0.1, epochs=50, init_mode=glorot_uniform, optimizer=Adam, weight_constraint=1, total= 1.4min\n",
      "[CV] activation=relu, batch_size=16, dropout_rate=0.1, epochs=50, init_mode=glorot_uniform, optimizer=Adam, weight_constraint=1 \n",
      "[CV]  activation=relu, batch_size=16, dropout_rate=0.1, epochs=50, init_mode=glorot_uniform, optimizer=Adam, weight_constraint=1, total= 1.5min\n",
      "[CV] activation=relu, batch_size=16, dropout_rate=0.1, epochs=50, init_mode=glorot_uniform, optimizer=Adam, weight_constraint=2 \n",
      "[CV]  activation=relu, batch_size=16, dropout_rate=0.1, epochs=50, init_mode=glorot_uniform, optimizer=Adam, weight_constraint=2, total= 1.6min\n",
      "[CV] activation=relu, batch_size=16, dropout_rate=0.1, epochs=50, init_mode=glorot_uniform, optimizer=Adam, weight_constraint=2 \n",
      "[CV]  activation=relu, batch_size=16, dropout_rate=0.1, epochs=50, init_mode=glorot_uniform, optimizer=Adam, weight_constraint=2, total= 1.5min\n",
      "[CV] activation=relu, batch_size=16, dropout_rate=0.1, epochs=50, init_mode=glorot_uniform, optimizer=Adam, weight_constraint=2 \n",
      "[CV]  activation=relu, batch_size=16, dropout_rate=0.1, epochs=50, init_mode=glorot_uniform, optimizer=Adam, weight_constraint=2, total= 1.6min\n",
      "[CV] activation=relu, batch_size=16, dropout_rate=0.2, epochs=30, init_mode=glorot_normal, optimizer=SGD, weight_constraint=1 \n",
      "[CV]  activation=relu, batch_size=16, dropout_rate=0.2, epochs=30, init_mode=glorot_normal, optimizer=SGD, weight_constraint=1, total=  54.8s\n",
      "[CV] activation=relu, batch_size=16, dropout_rate=0.2, epochs=30, init_mode=glorot_normal, optimizer=SGD, weight_constraint=1 \n",
      "[CV]  activation=relu, batch_size=16, dropout_rate=0.2, epochs=30, init_mode=glorot_normal, optimizer=SGD, weight_constraint=1, total=  52.0s\n",
      "[CV] activation=relu, batch_size=16, dropout_rate=0.2, epochs=30, init_mode=glorot_normal, optimizer=SGD, weight_constraint=1 \n",
      "[CV]  activation=relu, batch_size=16, dropout_rate=0.2, epochs=30, init_mode=glorot_normal, optimizer=SGD, weight_constraint=1, total=  57.6s\n",
      "[CV] activation=relu, batch_size=16, dropout_rate=0.2, epochs=30, init_mode=glorot_normal, optimizer=SGD, weight_constraint=2 \n",
      "[CV]  activation=relu, batch_size=16, dropout_rate=0.2, epochs=30, init_mode=glorot_normal, optimizer=SGD, weight_constraint=2, total=  53.0s\n",
      "[CV] activation=relu, batch_size=16, dropout_rate=0.2, epochs=30, init_mode=glorot_normal, optimizer=SGD, weight_constraint=2 \n",
      "[CV]  activation=relu, batch_size=16, dropout_rate=0.2, epochs=30, init_mode=glorot_normal, optimizer=SGD, weight_constraint=2, total=  59.7s\n",
      "[CV] activation=relu, batch_size=16, dropout_rate=0.2, epochs=30, init_mode=glorot_normal, optimizer=SGD, weight_constraint=2 \n",
      "[CV]  activation=relu, batch_size=16, dropout_rate=0.2, epochs=30, init_mode=glorot_normal, optimizer=SGD, weight_constraint=2, total=  55.8s\n",
      "[CV] activation=relu, batch_size=16, dropout_rate=0.2, epochs=30, init_mode=glorot_normal, optimizer=Adam, weight_constraint=1 \n",
      "[CV]  activation=relu, batch_size=16, dropout_rate=0.2, epochs=30, init_mode=glorot_normal, optimizer=Adam, weight_constraint=1, total=  58.4s\n",
      "[CV] activation=relu, batch_size=16, dropout_rate=0.2, epochs=30, init_mode=glorot_normal, optimizer=Adam, weight_constraint=1 \n",
      "[CV]  activation=relu, batch_size=16, dropout_rate=0.2, epochs=30, init_mode=glorot_normal, optimizer=Adam, weight_constraint=1, total= 1.1min\n",
      "[CV] activation=relu, batch_size=16, dropout_rate=0.2, epochs=30, init_mode=glorot_normal, optimizer=Adam, weight_constraint=1 \n",
      "[CV]  activation=relu, batch_size=16, dropout_rate=0.2, epochs=30, init_mode=glorot_normal, optimizer=Adam, weight_constraint=1, total= 1.0min\n",
      "[CV] activation=relu, batch_size=16, dropout_rate=0.2, epochs=30, init_mode=glorot_normal, optimizer=Adam, weight_constraint=2 \n",
      "[CV]  activation=relu, batch_size=16, dropout_rate=0.2, epochs=30, init_mode=glorot_normal, optimizer=Adam, weight_constraint=2, total=  59.6s\n",
      "[CV] activation=relu, batch_size=16, dropout_rate=0.2, epochs=30, init_mode=glorot_normal, optimizer=Adam, weight_constraint=2 \n",
      "[CV]  activation=relu, batch_size=16, dropout_rate=0.2, epochs=30, init_mode=glorot_normal, optimizer=Adam, weight_constraint=2, total= 1.0min\n",
      "[CV] activation=relu, batch_size=16, dropout_rate=0.2, epochs=30, init_mode=glorot_normal, optimizer=Adam, weight_constraint=2 \n",
      "[CV]  activation=relu, batch_size=16, dropout_rate=0.2, epochs=30, init_mode=glorot_normal, optimizer=Adam, weight_constraint=2, total= 1.2min\n",
      "[CV] activation=relu, batch_size=16, dropout_rate=0.2, epochs=30, init_mode=glorot_uniform, optimizer=SGD, weight_constraint=1 \n",
      "[CV]  activation=relu, batch_size=16, dropout_rate=0.2, epochs=30, init_mode=glorot_uniform, optimizer=SGD, weight_constraint=1, total=  58.0s\n",
      "[CV] activation=relu, batch_size=16, dropout_rate=0.2, epochs=30, init_mode=glorot_uniform, optimizer=SGD, weight_constraint=1 \n",
      "[CV]  activation=relu, batch_size=16, dropout_rate=0.2, epochs=30, init_mode=glorot_uniform, optimizer=SGD, weight_constraint=1, total=  56.3s\n",
      "[CV] activation=relu, batch_size=16, dropout_rate=0.2, epochs=30, init_mode=glorot_uniform, optimizer=SGD, weight_constraint=1 \n",
      "[CV]  activation=relu, batch_size=16, dropout_rate=0.2, epochs=30, init_mode=glorot_uniform, optimizer=SGD, weight_constraint=1, total=  58.7s\n",
      "[CV] activation=relu, batch_size=16, dropout_rate=0.2, epochs=30, init_mode=glorot_uniform, optimizer=SGD, weight_constraint=2 \n"
     ]
    },
    {
     "name": "stdout",
     "output_type": "stream",
     "text": [
      "[CV]  activation=relu, batch_size=16, dropout_rate=0.2, epochs=30, init_mode=glorot_uniform, optimizer=SGD, weight_constraint=2, total= 1.0min\n",
      "[CV] activation=relu, batch_size=16, dropout_rate=0.2, epochs=30, init_mode=glorot_uniform, optimizer=SGD, weight_constraint=2 \n",
      "[CV]  activation=relu, batch_size=16, dropout_rate=0.2, epochs=30, init_mode=glorot_uniform, optimizer=SGD, weight_constraint=2, total=  55.2s\n",
      "[CV] activation=relu, batch_size=16, dropout_rate=0.2, epochs=30, init_mode=glorot_uniform, optimizer=SGD, weight_constraint=2 \n",
      "[CV]  activation=relu, batch_size=16, dropout_rate=0.2, epochs=30, init_mode=glorot_uniform, optimizer=SGD, weight_constraint=2, total=  50.0s\n",
      "[CV] activation=relu, batch_size=16, dropout_rate=0.2, epochs=30, init_mode=glorot_uniform, optimizer=Adam, weight_constraint=1 \n",
      "[CV]  activation=relu, batch_size=16, dropout_rate=0.2, epochs=30, init_mode=glorot_uniform, optimizer=Adam, weight_constraint=1, total=  54.6s\n",
      "[CV] activation=relu, batch_size=16, dropout_rate=0.2, epochs=30, init_mode=glorot_uniform, optimizer=Adam, weight_constraint=1 \n",
      "[CV]  activation=relu, batch_size=16, dropout_rate=0.2, epochs=30, init_mode=glorot_uniform, optimizer=Adam, weight_constraint=1, total=  54.0s\n",
      "[CV] activation=relu, batch_size=16, dropout_rate=0.2, epochs=30, init_mode=glorot_uniform, optimizer=Adam, weight_constraint=1 \n",
      "[CV]  activation=relu, batch_size=16, dropout_rate=0.2, epochs=30, init_mode=glorot_uniform, optimizer=Adam, weight_constraint=1, total=  59.9s\n",
      "[CV] activation=relu, batch_size=16, dropout_rate=0.2, epochs=30, init_mode=glorot_uniform, optimizer=Adam, weight_constraint=2 \n",
      "[CV]  activation=relu, batch_size=16, dropout_rate=0.2, epochs=30, init_mode=glorot_uniform, optimizer=Adam, weight_constraint=2, total= 1.2min\n",
      "[CV] activation=relu, batch_size=16, dropout_rate=0.2, epochs=30, init_mode=glorot_uniform, optimizer=Adam, weight_constraint=2 \n",
      "[CV]  activation=relu, batch_size=16, dropout_rate=0.2, epochs=30, init_mode=glorot_uniform, optimizer=Adam, weight_constraint=2, total= 1.0min\n",
      "[CV] activation=relu, batch_size=16, dropout_rate=0.2, epochs=30, init_mode=glorot_uniform, optimizer=Adam, weight_constraint=2 \n",
      "[CV]  activation=relu, batch_size=16, dropout_rate=0.2, epochs=30, init_mode=glorot_uniform, optimizer=Adam, weight_constraint=2, total= 1.2min\n",
      "[CV] activation=relu, batch_size=16, dropout_rate=0.2, epochs=50, init_mode=glorot_normal, optimizer=SGD, weight_constraint=1 \n",
      "[CV]  activation=relu, batch_size=16, dropout_rate=0.2, epochs=50, init_mode=glorot_normal, optimizer=SGD, weight_constraint=1, total= 1.5min\n",
      "[CV] activation=relu, batch_size=16, dropout_rate=0.2, epochs=50, init_mode=glorot_normal, optimizer=SGD, weight_constraint=1 \n",
      "[CV]  activation=relu, batch_size=16, dropout_rate=0.2, epochs=50, init_mode=glorot_normal, optimizer=SGD, weight_constraint=1, total= 1.5min\n",
      "[CV] activation=relu, batch_size=16, dropout_rate=0.2, epochs=50, init_mode=glorot_normal, optimizer=SGD, weight_constraint=1 \n",
      "[CV]  activation=relu, batch_size=16, dropout_rate=0.2, epochs=50, init_mode=glorot_normal, optimizer=SGD, weight_constraint=1, total= 1.6min\n",
      "[CV] activation=relu, batch_size=16, dropout_rate=0.2, epochs=50, init_mode=glorot_normal, optimizer=SGD, weight_constraint=2 \n",
      "[CV]  activation=relu, batch_size=16, dropout_rate=0.2, epochs=50, init_mode=glorot_normal, optimizer=SGD, weight_constraint=2, total= 1.5min\n",
      "[CV] activation=relu, batch_size=16, dropout_rate=0.2, epochs=50, init_mode=glorot_normal, optimizer=SGD, weight_constraint=2 \n",
      "[CV]  activation=relu, batch_size=16, dropout_rate=0.2, epochs=50, init_mode=glorot_normal, optimizer=SGD, weight_constraint=2, total= 1.7min\n",
      "[CV] activation=relu, batch_size=16, dropout_rate=0.2, epochs=50, init_mode=glorot_normal, optimizer=SGD, weight_constraint=2 \n",
      "[CV]  activation=relu, batch_size=16, dropout_rate=0.2, epochs=50, init_mode=glorot_normal, optimizer=SGD, weight_constraint=2, total= 1.6min\n",
      "[CV] activation=relu, batch_size=16, dropout_rate=0.2, epochs=50, init_mode=glorot_normal, optimizer=Adam, weight_constraint=1 \n",
      "[CV]  activation=relu, batch_size=16, dropout_rate=0.2, epochs=50, init_mode=glorot_normal, optimizer=Adam, weight_constraint=1, total= 1.7min\n",
      "[CV] activation=relu, batch_size=16, dropout_rate=0.2, epochs=50, init_mode=glorot_normal, optimizer=Adam, weight_constraint=1 \n",
      "[CV]  activation=relu, batch_size=16, dropout_rate=0.2, epochs=50, init_mode=glorot_normal, optimizer=Adam, weight_constraint=1, total= 1.7min\n",
      "[CV] activation=relu, batch_size=16, dropout_rate=0.2, epochs=50, init_mode=glorot_normal, optimizer=Adam, weight_constraint=1 \n",
      "[CV]  activation=relu, batch_size=16, dropout_rate=0.2, epochs=50, init_mode=glorot_normal, optimizer=Adam, weight_constraint=1, total= 2.1min\n",
      "[CV] activation=relu, batch_size=16, dropout_rate=0.2, epochs=50, init_mode=glorot_normal, optimizer=Adam, weight_constraint=2 \n",
      "[CV]  activation=relu, batch_size=16, dropout_rate=0.2, epochs=50, init_mode=glorot_normal, optimizer=Adam, weight_constraint=2, total= 2.1min\n",
      "[CV] activation=relu, batch_size=16, dropout_rate=0.2, epochs=50, init_mode=glorot_normal, optimizer=Adam, weight_constraint=2 \n",
      "[CV]  activation=relu, batch_size=16, dropout_rate=0.2, epochs=50, init_mode=glorot_normal, optimizer=Adam, weight_constraint=2, total= 1.7min\n",
      "[CV] activation=relu, batch_size=16, dropout_rate=0.2, epochs=50, init_mode=glorot_normal, optimizer=Adam, weight_constraint=2 \n",
      "[CV]  activation=relu, batch_size=16, dropout_rate=0.2, epochs=50, init_mode=glorot_normal, optimizer=Adam, weight_constraint=2, total= 1.7min\n",
      "[CV] activation=relu, batch_size=16, dropout_rate=0.2, epochs=50, init_mode=glorot_uniform, optimizer=SGD, weight_constraint=1 \n",
      "[CV]  activation=relu, batch_size=16, dropout_rate=0.2, epochs=50, init_mode=glorot_uniform, optimizer=SGD, weight_constraint=1, total= 1.7min\n",
      "[CV] activation=relu, batch_size=16, dropout_rate=0.2, epochs=50, init_mode=glorot_uniform, optimizer=SGD, weight_constraint=1 \n",
      "[CV]  activation=relu, batch_size=16, dropout_rate=0.2, epochs=50, init_mode=glorot_uniform, optimizer=SGD, weight_constraint=1, total= 1.6min\n",
      "[CV] activation=relu, batch_size=16, dropout_rate=0.2, epochs=50, init_mode=glorot_uniform, optimizer=SGD, weight_constraint=1 \n",
      "[CV]  activation=relu, batch_size=16, dropout_rate=0.2, epochs=50, init_mode=glorot_uniform, optimizer=SGD, weight_constraint=1, total= 1.6min\n",
      "[CV] activation=relu, batch_size=16, dropout_rate=0.2, epochs=50, init_mode=glorot_uniform, optimizer=SGD, weight_constraint=2 \n",
      "[CV]  activation=relu, batch_size=16, dropout_rate=0.2, epochs=50, init_mode=glorot_uniform, optimizer=SGD, weight_constraint=2, total= 1.5min\n",
      "[CV] activation=relu, batch_size=16, dropout_rate=0.2, epochs=50, init_mode=glorot_uniform, optimizer=SGD, weight_constraint=2 \n",
      "[CV]  activation=relu, batch_size=16, dropout_rate=0.2, epochs=50, init_mode=glorot_uniform, optimizer=SGD, weight_constraint=2, total= 1.7min\n",
      "[CV] activation=relu, batch_size=16, dropout_rate=0.2, epochs=50, init_mode=glorot_uniform, optimizer=SGD, weight_constraint=2 \n",
      "[CV]  activation=relu, batch_size=16, dropout_rate=0.2, epochs=50, init_mode=glorot_uniform, optimizer=SGD, weight_constraint=2, total= 1.6min\n",
      "[CV] activation=relu, batch_size=16, dropout_rate=0.2, epochs=50, init_mode=glorot_uniform, optimizer=Adam, weight_constraint=1 \n",
      "[CV]  activation=relu, batch_size=16, dropout_rate=0.2, epochs=50, init_mode=glorot_uniform, optimizer=Adam, weight_constraint=1, total= 1.7min\n",
      "[CV] activation=relu, batch_size=16, dropout_rate=0.2, epochs=50, init_mode=glorot_uniform, optimizer=Adam, weight_constraint=1 \n",
      "[CV]  activation=relu, batch_size=16, dropout_rate=0.2, epochs=50, init_mode=glorot_uniform, optimizer=Adam, weight_constraint=1, total= 1.8min\n",
      "[CV] activation=relu, batch_size=16, dropout_rate=0.2, epochs=50, init_mode=glorot_uniform, optimizer=Adam, weight_constraint=1 \n",
      "[CV]  activation=relu, batch_size=16, dropout_rate=0.2, epochs=50, init_mode=glorot_uniform, optimizer=Adam, weight_constraint=1, total= 1.9min\n",
      "[CV] activation=relu, batch_size=16, dropout_rate=0.2, epochs=50, init_mode=glorot_uniform, optimizer=Adam, weight_constraint=2 \n",
      "[CV]  activation=relu, batch_size=16, dropout_rate=0.2, epochs=50, init_mode=glorot_uniform, optimizer=Adam, weight_constraint=2, total= 1.8min\n",
      "[CV] activation=relu, batch_size=16, dropout_rate=0.2, epochs=50, init_mode=glorot_uniform, optimizer=Adam, weight_constraint=2 \n"
     ]
    },
    {
     "name": "stdout",
     "output_type": "stream",
     "text": [
      "[CV]  activation=relu, batch_size=16, dropout_rate=0.2, epochs=50, init_mode=glorot_uniform, optimizer=Adam, weight_constraint=2, total= 2.0min\n",
      "[CV] activation=relu, batch_size=16, dropout_rate=0.2, epochs=50, init_mode=glorot_uniform, optimizer=Adam, weight_constraint=2 \n",
      "[CV]  activation=relu, batch_size=16, dropout_rate=0.2, epochs=50, init_mode=glorot_uniform, optimizer=Adam, weight_constraint=2, total= 2.0min\n",
      "[CV] activation=relu, batch_size=32, dropout_rate=0.1, epochs=30, init_mode=glorot_normal, optimizer=SGD, weight_constraint=1 \n",
      "[CV]  activation=relu, batch_size=32, dropout_rate=0.1, epochs=30, init_mode=glorot_normal, optimizer=SGD, weight_constraint=1, total=  47.0s\n",
      "[CV] activation=relu, batch_size=32, dropout_rate=0.1, epochs=30, init_mode=glorot_normal, optimizer=SGD, weight_constraint=1 \n",
      "[CV]  activation=relu, batch_size=32, dropout_rate=0.1, epochs=30, init_mode=glorot_normal, optimizer=SGD, weight_constraint=1, total=  46.7s\n",
      "[CV] activation=relu, batch_size=32, dropout_rate=0.1, epochs=30, init_mode=glorot_normal, optimizer=SGD, weight_constraint=1 \n",
      "[CV]  activation=relu, batch_size=32, dropout_rate=0.1, epochs=30, init_mode=glorot_normal, optimizer=SGD, weight_constraint=1, total=  47.6s\n",
      "[CV] activation=relu, batch_size=32, dropout_rate=0.1, epochs=30, init_mode=glorot_normal, optimizer=SGD, weight_constraint=2 \n",
      "[CV]  activation=relu, batch_size=32, dropout_rate=0.1, epochs=30, init_mode=glorot_normal, optimizer=SGD, weight_constraint=2, total=  40.3s\n",
      "[CV] activation=relu, batch_size=32, dropout_rate=0.1, epochs=30, init_mode=glorot_normal, optimizer=SGD, weight_constraint=2 \n",
      "[CV]  activation=relu, batch_size=32, dropout_rate=0.1, epochs=30, init_mode=glorot_normal, optimizer=SGD, weight_constraint=2, total=  43.6s\n",
      "[CV] activation=relu, batch_size=32, dropout_rate=0.1, epochs=30, init_mode=glorot_normal, optimizer=SGD, weight_constraint=2 \n",
      "[CV]  activation=relu, batch_size=32, dropout_rate=0.1, epochs=30, init_mode=glorot_normal, optimizer=SGD, weight_constraint=2, total=  47.9s\n",
      "[CV] activation=relu, batch_size=32, dropout_rate=0.1, epochs=30, init_mode=glorot_normal, optimizer=Adam, weight_constraint=1 \n",
      "[CV]  activation=relu, batch_size=32, dropout_rate=0.1, epochs=30, init_mode=glorot_normal, optimizer=Adam, weight_constraint=1, total=  48.3s\n",
      "[CV] activation=relu, batch_size=32, dropout_rate=0.1, epochs=30, init_mode=glorot_normal, optimizer=Adam, weight_constraint=1 \n",
      "[CV]  activation=relu, batch_size=32, dropout_rate=0.1, epochs=30, init_mode=glorot_normal, optimizer=Adam, weight_constraint=1, total=  48.1s\n",
      "[CV] activation=relu, batch_size=32, dropout_rate=0.1, epochs=30, init_mode=glorot_normal, optimizer=Adam, weight_constraint=1 \n",
      "[CV]  activation=relu, batch_size=32, dropout_rate=0.1, epochs=30, init_mode=glorot_normal, optimizer=Adam, weight_constraint=1, total=  43.3s\n",
      "[CV] activation=relu, batch_size=32, dropout_rate=0.1, epochs=30, init_mode=glorot_normal, optimizer=Adam, weight_constraint=2 \n",
      "[CV]  activation=relu, batch_size=32, dropout_rate=0.1, epochs=30, init_mode=glorot_normal, optimizer=Adam, weight_constraint=2, total=  47.9s\n",
      "[CV] activation=relu, batch_size=32, dropout_rate=0.1, epochs=30, init_mode=glorot_normal, optimizer=Adam, weight_constraint=2 \n",
      "[CV]  activation=relu, batch_size=32, dropout_rate=0.1, epochs=30, init_mode=glorot_normal, optimizer=Adam, weight_constraint=2, total=  45.5s\n",
      "[CV] activation=relu, batch_size=32, dropout_rate=0.1, epochs=30, init_mode=glorot_normal, optimizer=Adam, weight_constraint=2 \n",
      "[CV]  activation=relu, batch_size=32, dropout_rate=0.1, epochs=30, init_mode=glorot_normal, optimizer=Adam, weight_constraint=2, total=  51.7s\n",
      "[CV] activation=relu, batch_size=32, dropout_rate=0.1, epochs=30, init_mode=glorot_uniform, optimizer=SGD, weight_constraint=1 \n",
      "[CV]  activation=relu, batch_size=32, dropout_rate=0.1, epochs=30, init_mode=glorot_uniform, optimizer=SGD, weight_constraint=1, total=  49.8s\n",
      "[CV] activation=relu, batch_size=32, dropout_rate=0.1, epochs=30, init_mode=glorot_uniform, optimizer=SGD, weight_constraint=1 \n",
      "[CV]  activation=relu, batch_size=32, dropout_rate=0.1, epochs=30, init_mode=glorot_uniform, optimizer=SGD, weight_constraint=1, total=  49.9s\n",
      "[CV] activation=relu, batch_size=32, dropout_rate=0.1, epochs=30, init_mode=glorot_uniform, optimizer=SGD, weight_constraint=1 \n",
      "[CV]  activation=relu, batch_size=32, dropout_rate=0.1, epochs=30, init_mode=glorot_uniform, optimizer=SGD, weight_constraint=1, total=  48.8s\n",
      "[CV] activation=relu, batch_size=32, dropout_rate=0.1, epochs=30, init_mode=glorot_uniform, optimizer=SGD, weight_constraint=2 \n",
      "[CV]  activation=relu, batch_size=32, dropout_rate=0.1, epochs=30, init_mode=glorot_uniform, optimizer=SGD, weight_constraint=2, total=  43.9s\n",
      "[CV] activation=relu, batch_size=32, dropout_rate=0.1, epochs=30, init_mode=glorot_uniform, optimizer=SGD, weight_constraint=2 \n",
      "[CV]  activation=relu, batch_size=32, dropout_rate=0.1, epochs=30, init_mode=glorot_uniform, optimizer=SGD, weight_constraint=2, total=  50.3s\n",
      "[CV] activation=relu, batch_size=32, dropout_rate=0.1, epochs=30, init_mode=glorot_uniform, optimizer=SGD, weight_constraint=2 \n",
      "[CV]  activation=relu, batch_size=32, dropout_rate=0.1, epochs=30, init_mode=glorot_uniform, optimizer=SGD, weight_constraint=2, total=  48.9s\n",
      "[CV] activation=relu, batch_size=32, dropout_rate=0.1, epochs=30, init_mode=glorot_uniform, optimizer=Adam, weight_constraint=1 \n",
      "[CV]  activation=relu, batch_size=32, dropout_rate=0.1, epochs=30, init_mode=glorot_uniform, optimizer=Adam, weight_constraint=1, total=  45.4s\n",
      "[CV] activation=relu, batch_size=32, dropout_rate=0.1, epochs=30, init_mode=glorot_uniform, optimizer=Adam, weight_constraint=1 \n",
      "[CV]  activation=relu, batch_size=32, dropout_rate=0.1, epochs=30, init_mode=glorot_uniform, optimizer=Adam, weight_constraint=1, total=  42.8s\n",
      "[CV] activation=relu, batch_size=32, dropout_rate=0.1, epochs=30, init_mode=glorot_uniform, optimizer=Adam, weight_constraint=1 \n",
      "[CV]  activation=relu, batch_size=32, dropout_rate=0.1, epochs=30, init_mode=glorot_uniform, optimizer=Adam, weight_constraint=1, total=  48.2s\n",
      "[CV] activation=relu, batch_size=32, dropout_rate=0.1, epochs=30, init_mode=glorot_uniform, optimizer=Adam, weight_constraint=2 \n",
      "[CV]  activation=relu, batch_size=32, dropout_rate=0.1, epochs=30, init_mode=glorot_uniform, optimizer=Adam, weight_constraint=2, total=  54.1s\n",
      "[CV] activation=relu, batch_size=32, dropout_rate=0.1, epochs=30, init_mode=glorot_uniform, optimizer=Adam, weight_constraint=2 \n",
      "[CV]  activation=relu, batch_size=32, dropout_rate=0.1, epochs=30, init_mode=glorot_uniform, optimizer=Adam, weight_constraint=2, total=  44.7s\n",
      "[CV] activation=relu, batch_size=32, dropout_rate=0.1, epochs=30, init_mode=glorot_uniform, optimizer=Adam, weight_constraint=2 \n",
      "[CV]  activation=relu, batch_size=32, dropout_rate=0.1, epochs=30, init_mode=glorot_uniform, optimizer=Adam, weight_constraint=2, total=  48.1s\n",
      "[CV] activation=relu, batch_size=32, dropout_rate=0.1, epochs=50, init_mode=glorot_normal, optimizer=SGD, weight_constraint=1 \n",
      "[CV]  activation=relu, batch_size=32, dropout_rate=0.1, epochs=50, init_mode=glorot_normal, optimizer=SGD, weight_constraint=1, total= 1.3min\n",
      "[CV] activation=relu, batch_size=32, dropout_rate=0.1, epochs=50, init_mode=glorot_normal, optimizer=SGD, weight_constraint=1 \n",
      "[CV]  activation=relu, batch_size=32, dropout_rate=0.1, epochs=50, init_mode=glorot_normal, optimizer=SGD, weight_constraint=1, total= 1.1min\n",
      "[CV] activation=relu, batch_size=32, dropout_rate=0.1, epochs=50, init_mode=glorot_normal, optimizer=SGD, weight_constraint=1 \n",
      "[CV]  activation=relu, batch_size=32, dropout_rate=0.1, epochs=50, init_mode=glorot_normal, optimizer=SGD, weight_constraint=1, total= 1.1min\n",
      "[CV] activation=relu, batch_size=32, dropout_rate=0.1, epochs=50, init_mode=glorot_normal, optimizer=SGD, weight_constraint=2 \n",
      "[CV]  activation=relu, batch_size=32, dropout_rate=0.1, epochs=50, init_mode=glorot_normal, optimizer=SGD, weight_constraint=2, total= 1.2min\n",
      "[CV] activation=relu, batch_size=32, dropout_rate=0.1, epochs=50, init_mode=glorot_normal, optimizer=SGD, weight_constraint=2 \n",
      "[CV]  activation=relu, batch_size=32, dropout_rate=0.1, epochs=50, init_mode=glorot_normal, optimizer=SGD, weight_constraint=2, total= 1.1min\n",
      "[CV] activation=relu, batch_size=32, dropout_rate=0.1, epochs=50, init_mode=glorot_normal, optimizer=SGD, weight_constraint=2 \n"
     ]
    },
    {
     "name": "stdout",
     "output_type": "stream",
     "text": [
      "[CV]  activation=relu, batch_size=32, dropout_rate=0.1, epochs=50, init_mode=glorot_normal, optimizer=SGD, weight_constraint=2, total= 3.5min\n",
      "[CV] activation=relu, batch_size=32, dropout_rate=0.1, epochs=50, init_mode=glorot_normal, optimizer=Adam, weight_constraint=1 \n",
      "[CV]  activation=relu, batch_size=32, dropout_rate=0.1, epochs=50, init_mode=glorot_normal, optimizer=Adam, weight_constraint=1, total= 1.1min\n",
      "[CV] activation=relu, batch_size=32, dropout_rate=0.1, epochs=50, init_mode=glorot_normal, optimizer=Adam, weight_constraint=1 \n",
      "[CV]  activation=relu, batch_size=32, dropout_rate=0.1, epochs=50, init_mode=glorot_normal, optimizer=Adam, weight_constraint=1, total= 1.2min\n",
      "[CV] activation=relu, batch_size=32, dropout_rate=0.1, epochs=50, init_mode=glorot_normal, optimizer=Adam, weight_constraint=1 \n",
      "[CV]  activation=relu, batch_size=32, dropout_rate=0.1, epochs=50, init_mode=glorot_normal, optimizer=Adam, weight_constraint=1, total= 1.2min\n",
      "[CV] activation=relu, batch_size=32, dropout_rate=0.1, epochs=50, init_mode=glorot_normal, optimizer=Adam, weight_constraint=2 \n",
      "[CV]  activation=relu, batch_size=32, dropout_rate=0.1, epochs=50, init_mode=glorot_normal, optimizer=Adam, weight_constraint=2, total= 1.3min\n",
      "[CV] activation=relu, batch_size=32, dropout_rate=0.1, epochs=50, init_mode=glorot_normal, optimizer=Adam, weight_constraint=2 \n",
      "[CV]  activation=relu, batch_size=32, dropout_rate=0.1, epochs=50, init_mode=glorot_normal, optimizer=Adam, weight_constraint=2, total= 1.2min\n",
      "[CV] activation=relu, batch_size=32, dropout_rate=0.1, epochs=50, init_mode=glorot_normal, optimizer=Adam, weight_constraint=2 \n",
      "[CV]  activation=relu, batch_size=32, dropout_rate=0.1, epochs=50, init_mode=glorot_normal, optimizer=Adam, weight_constraint=2, total= 1.3min\n",
      "[CV] activation=relu, batch_size=32, dropout_rate=0.1, epochs=50, init_mode=glorot_uniform, optimizer=SGD, weight_constraint=1 \n",
      "[CV]  activation=relu, batch_size=32, dropout_rate=0.1, epochs=50, init_mode=glorot_uniform, optimizer=SGD, weight_constraint=1, total= 1.3min\n",
      "[CV] activation=relu, batch_size=32, dropout_rate=0.1, epochs=50, init_mode=glorot_uniform, optimizer=SGD, weight_constraint=1 \n",
      "[CV]  activation=relu, batch_size=32, dropout_rate=0.1, epochs=50, init_mode=glorot_uniform, optimizer=SGD, weight_constraint=1, total= 1.4min\n",
      "[CV] activation=relu, batch_size=32, dropout_rate=0.1, epochs=50, init_mode=glorot_uniform, optimizer=SGD, weight_constraint=1 \n",
      "[CV]  activation=relu, batch_size=32, dropout_rate=0.1, epochs=50, init_mode=glorot_uniform, optimizer=SGD, weight_constraint=1, total= 1.4min\n",
      "[CV] activation=relu, batch_size=32, dropout_rate=0.1, epochs=50, init_mode=glorot_uniform, optimizer=SGD, weight_constraint=2 \n",
      "[CV]  activation=relu, batch_size=32, dropout_rate=0.1, epochs=50, init_mode=glorot_uniform, optimizer=SGD, weight_constraint=2, total= 1.3min\n",
      "[CV] activation=relu, batch_size=32, dropout_rate=0.1, epochs=50, init_mode=glorot_uniform, optimizer=SGD, weight_constraint=2 \n",
      "[CV]  activation=relu, batch_size=32, dropout_rate=0.1, epochs=50, init_mode=glorot_uniform, optimizer=SGD, weight_constraint=2, total= 1.4min\n",
      "[CV] activation=relu, batch_size=32, dropout_rate=0.1, epochs=50, init_mode=glorot_uniform, optimizer=SGD, weight_constraint=2 \n",
      "[CV]  activation=relu, batch_size=32, dropout_rate=0.1, epochs=50, init_mode=glorot_uniform, optimizer=SGD, weight_constraint=2, total= 1.4min\n",
      "[CV] activation=relu, batch_size=32, dropout_rate=0.1, epochs=50, init_mode=glorot_uniform, optimizer=Adam, weight_constraint=1 \n",
      "[CV]  activation=relu, batch_size=32, dropout_rate=0.1, epochs=50, init_mode=glorot_uniform, optimizer=Adam, weight_constraint=1, total= 1.5min\n",
      "[CV] activation=relu, batch_size=32, dropout_rate=0.1, epochs=50, init_mode=glorot_uniform, optimizer=Adam, weight_constraint=1 \n",
      "[CV]  activation=relu, batch_size=32, dropout_rate=0.1, epochs=50, init_mode=glorot_uniform, optimizer=Adam, weight_constraint=1, total= 1.2min\n",
      "[CV] activation=relu, batch_size=32, dropout_rate=0.1, epochs=50, init_mode=glorot_uniform, optimizer=Adam, weight_constraint=1 \n",
      "[CV]  activation=relu, batch_size=32, dropout_rate=0.1, epochs=50, init_mode=glorot_uniform, optimizer=Adam, weight_constraint=1, total= 1.5min\n",
      "[CV] activation=relu, batch_size=32, dropout_rate=0.1, epochs=50, init_mode=glorot_uniform, optimizer=Adam, weight_constraint=2 \n",
      "[CV]  activation=relu, batch_size=32, dropout_rate=0.1, epochs=50, init_mode=glorot_uniform, optimizer=Adam, weight_constraint=2, total= 1.3min\n",
      "[CV] activation=relu, batch_size=32, dropout_rate=0.1, epochs=50, init_mode=glorot_uniform, optimizer=Adam, weight_constraint=2 \n",
      "[CV]  activation=relu, batch_size=32, dropout_rate=0.1, epochs=50, init_mode=glorot_uniform, optimizer=Adam, weight_constraint=2, total= 1.5min\n",
      "[CV] activation=relu, batch_size=32, dropout_rate=0.1, epochs=50, init_mode=glorot_uniform, optimizer=Adam, weight_constraint=2 \n",
      "[CV]  activation=relu, batch_size=32, dropout_rate=0.1, epochs=50, init_mode=glorot_uniform, optimizer=Adam, weight_constraint=2, total= 1.3min\n",
      "[CV] activation=relu, batch_size=32, dropout_rate=0.2, epochs=30, init_mode=glorot_normal, optimizer=SGD, weight_constraint=1 \n",
      "[CV]  activation=relu, batch_size=32, dropout_rate=0.2, epochs=30, init_mode=glorot_normal, optimizer=SGD, weight_constraint=1, total=  53.6s\n",
      "[CV] activation=relu, batch_size=32, dropout_rate=0.2, epochs=30, init_mode=glorot_normal, optimizer=SGD, weight_constraint=1 \n",
      "[CV]  activation=relu, batch_size=32, dropout_rate=0.2, epochs=30, init_mode=glorot_normal, optimizer=SGD, weight_constraint=1, total=  54.1s\n",
      "[CV] activation=relu, batch_size=32, dropout_rate=0.2, epochs=30, init_mode=glorot_normal, optimizer=SGD, weight_constraint=1 \n",
      "[CV]  activation=relu, batch_size=32, dropout_rate=0.2, epochs=30, init_mode=glorot_normal, optimizer=SGD, weight_constraint=1, total=  52.4s\n",
      "[CV] activation=relu, batch_size=32, dropout_rate=0.2, epochs=30, init_mode=glorot_normal, optimizer=SGD, weight_constraint=2 \n",
      "[CV]  activation=relu, batch_size=32, dropout_rate=0.2, epochs=30, init_mode=glorot_normal, optimizer=SGD, weight_constraint=2, total=  57.5s\n",
      "[CV] activation=relu, batch_size=32, dropout_rate=0.2, epochs=30, init_mode=glorot_normal, optimizer=SGD, weight_constraint=2 \n",
      "[CV]  activation=relu, batch_size=32, dropout_rate=0.2, epochs=30, init_mode=glorot_normal, optimizer=SGD, weight_constraint=2, total=  51.8s\n",
      "[CV] activation=relu, batch_size=32, dropout_rate=0.2, epochs=30, init_mode=glorot_normal, optimizer=SGD, weight_constraint=2 \n",
      "[CV]  activation=relu, batch_size=32, dropout_rate=0.2, epochs=30, init_mode=glorot_normal, optimizer=SGD, weight_constraint=2, total=  58.6s\n",
      "[CV] activation=relu, batch_size=32, dropout_rate=0.2, epochs=30, init_mode=glorot_normal, optimizer=Adam, weight_constraint=1 \n",
      "[CV]  activation=relu, batch_size=32, dropout_rate=0.2, epochs=30, init_mode=glorot_normal, optimizer=Adam, weight_constraint=1, total=  56.3s\n",
      "[CV] activation=relu, batch_size=32, dropout_rate=0.2, epochs=30, init_mode=glorot_normal, optimizer=Adam, weight_constraint=1 \n",
      "[CV]  activation=relu, batch_size=32, dropout_rate=0.2, epochs=30, init_mode=glorot_normal, optimizer=Adam, weight_constraint=1, total= 1.0min\n",
      "[CV] activation=relu, batch_size=32, dropout_rate=0.2, epochs=30, init_mode=glorot_normal, optimizer=Adam, weight_constraint=1 \n",
      "[CV]  activation=relu, batch_size=32, dropout_rate=0.2, epochs=30, init_mode=glorot_normal, optimizer=Adam, weight_constraint=1, total=  57.9s\n",
      "[CV] activation=relu, batch_size=32, dropout_rate=0.2, epochs=30, init_mode=glorot_normal, optimizer=Adam, weight_constraint=2 \n",
      "[CV]  activation=relu, batch_size=32, dropout_rate=0.2, epochs=30, init_mode=glorot_normal, optimizer=Adam, weight_constraint=2, total=  56.2s\n",
      "[CV] activation=relu, batch_size=32, dropout_rate=0.2, epochs=30, init_mode=glorot_normal, optimizer=Adam, weight_constraint=2 \n",
      "[CV]  activation=relu, batch_size=32, dropout_rate=0.2, epochs=30, init_mode=glorot_normal, optimizer=Adam, weight_constraint=2, total=  54.1s\n",
      "[CV] activation=relu, batch_size=32, dropout_rate=0.2, epochs=30, init_mode=glorot_normal, optimizer=Adam, weight_constraint=2 \n",
      "[CV]  activation=relu, batch_size=32, dropout_rate=0.2, epochs=30, init_mode=glorot_normal, optimizer=Adam, weight_constraint=2, total=  53.1s\n",
      "[CV] activation=relu, batch_size=32, dropout_rate=0.2, epochs=30, init_mode=glorot_uniform, optimizer=SGD, weight_constraint=1 \n"
     ]
    },
    {
     "name": "stdout",
     "output_type": "stream",
     "text": [
      "[CV]  activation=relu, batch_size=32, dropout_rate=0.2, epochs=30, init_mode=glorot_uniform, optimizer=SGD, weight_constraint=1, total=  51.6s\n",
      "[CV] activation=relu, batch_size=32, dropout_rate=0.2, epochs=30, init_mode=glorot_uniform, optimizer=SGD, weight_constraint=1 \n",
      "[CV]  activation=relu, batch_size=32, dropout_rate=0.2, epochs=30, init_mode=glorot_uniform, optimizer=SGD, weight_constraint=1, total= 1.0min\n",
      "[CV] activation=relu, batch_size=32, dropout_rate=0.2, epochs=30, init_mode=glorot_uniform, optimizer=SGD, weight_constraint=1 \n",
      "[CV]  activation=relu, batch_size=32, dropout_rate=0.2, epochs=30, init_mode=glorot_uniform, optimizer=SGD, weight_constraint=1, total= 1.0min\n",
      "[CV] activation=relu, batch_size=32, dropout_rate=0.2, epochs=30, init_mode=glorot_uniform, optimizer=SGD, weight_constraint=2 \n",
      "[CV]  activation=relu, batch_size=32, dropout_rate=0.2, epochs=30, init_mode=glorot_uniform, optimizer=SGD, weight_constraint=2, total= 1.0min\n",
      "[CV] activation=relu, batch_size=32, dropout_rate=0.2, epochs=30, init_mode=glorot_uniform, optimizer=SGD, weight_constraint=2 \n",
      "[CV]  activation=relu, batch_size=32, dropout_rate=0.2, epochs=30, init_mode=glorot_uniform, optimizer=SGD, weight_constraint=2, total=  54.0s\n",
      "[CV] activation=relu, batch_size=32, dropout_rate=0.2, epochs=30, init_mode=glorot_uniform, optimizer=SGD, weight_constraint=2 \n",
      "[CV]  activation=relu, batch_size=32, dropout_rate=0.2, epochs=30, init_mode=glorot_uniform, optimizer=SGD, weight_constraint=2, total=  55.1s\n",
      "[CV] activation=relu, batch_size=32, dropout_rate=0.2, epochs=30, init_mode=glorot_uniform, optimizer=Adam, weight_constraint=1 \n",
      "[CV]  activation=relu, batch_size=32, dropout_rate=0.2, epochs=30, init_mode=glorot_uniform, optimizer=Adam, weight_constraint=1, total= 1.0min\n",
      "[CV] activation=relu, batch_size=32, dropout_rate=0.2, epochs=30, init_mode=glorot_uniform, optimizer=Adam, weight_constraint=1 \n",
      "[CV]  activation=relu, batch_size=32, dropout_rate=0.2, epochs=30, init_mode=glorot_uniform, optimizer=Adam, weight_constraint=1, total= 1.1min\n",
      "[CV] activation=relu, batch_size=32, dropout_rate=0.2, epochs=30, init_mode=glorot_uniform, optimizer=Adam, weight_constraint=1 \n",
      "[CV]  activation=relu, batch_size=32, dropout_rate=0.2, epochs=30, init_mode=glorot_uniform, optimizer=Adam, weight_constraint=1, total=  55.9s\n",
      "[CV] activation=relu, batch_size=32, dropout_rate=0.2, epochs=30, init_mode=glorot_uniform, optimizer=Adam, weight_constraint=2 \n",
      "[CV]  activation=relu, batch_size=32, dropout_rate=0.2, epochs=30, init_mode=glorot_uniform, optimizer=Adam, weight_constraint=2, total= 1.1min\n",
      "[CV] activation=relu, batch_size=32, dropout_rate=0.2, epochs=30, init_mode=glorot_uniform, optimizer=Adam, weight_constraint=2 \n",
      "[CV]  activation=relu, batch_size=32, dropout_rate=0.2, epochs=30, init_mode=glorot_uniform, optimizer=Adam, weight_constraint=2, total= 1.0min\n",
      "[CV] activation=relu, batch_size=32, dropout_rate=0.2, epochs=30, init_mode=glorot_uniform, optimizer=Adam, weight_constraint=2 \n",
      "[CV]  activation=relu, batch_size=32, dropout_rate=0.2, epochs=30, init_mode=glorot_uniform, optimizer=Adam, weight_constraint=2, total=  56.0s\n",
      "[CV] activation=relu, batch_size=32, dropout_rate=0.2, epochs=50, init_mode=glorot_normal, optimizer=SGD, weight_constraint=1 \n",
      "[CV]  activation=relu, batch_size=32, dropout_rate=0.2, epochs=50, init_mode=glorot_normal, optimizer=SGD, weight_constraint=1, total= 1.3min\n",
      "[CV] activation=relu, batch_size=32, dropout_rate=0.2, epochs=50, init_mode=glorot_normal, optimizer=SGD, weight_constraint=1 \n",
      "[CV]  activation=relu, batch_size=32, dropout_rate=0.2, epochs=50, init_mode=glorot_normal, optimizer=SGD, weight_constraint=1, total= 1.3min\n",
      "[CV] activation=relu, batch_size=32, dropout_rate=0.2, epochs=50, init_mode=glorot_normal, optimizer=SGD, weight_constraint=1 \n",
      "[CV]  activation=relu, batch_size=32, dropout_rate=0.2, epochs=50, init_mode=glorot_normal, optimizer=SGD, weight_constraint=1, total= 1.3min\n",
      "[CV] activation=relu, batch_size=32, dropout_rate=0.2, epochs=50, init_mode=glorot_normal, optimizer=SGD, weight_constraint=2 \n",
      "[CV]  activation=relu, batch_size=32, dropout_rate=0.2, epochs=50, init_mode=glorot_normal, optimizer=SGD, weight_constraint=2, total= 1.2min\n",
      "[CV] activation=relu, batch_size=32, dropout_rate=0.2, epochs=50, init_mode=glorot_normal, optimizer=SGD, weight_constraint=2 \n",
      "[CV]  activation=relu, batch_size=32, dropout_rate=0.2, epochs=50, init_mode=glorot_normal, optimizer=SGD, weight_constraint=2, total= 1.3min\n",
      "[CV] activation=relu, batch_size=32, dropout_rate=0.2, epochs=50, init_mode=glorot_normal, optimizer=SGD, weight_constraint=2 \n",
      "[CV]  activation=relu, batch_size=32, dropout_rate=0.2, epochs=50, init_mode=glorot_normal, optimizer=SGD, weight_constraint=2, total= 1.4min\n",
      "[CV] activation=relu, batch_size=32, dropout_rate=0.2, epochs=50, init_mode=glorot_normal, optimizer=Adam, weight_constraint=1 \n",
      "[CV]  activation=relu, batch_size=32, dropout_rate=0.2, epochs=50, init_mode=glorot_normal, optimizer=Adam, weight_constraint=1, total= 1.6min\n",
      "[CV] activation=relu, batch_size=32, dropout_rate=0.2, epochs=50, init_mode=glorot_normal, optimizer=Adam, weight_constraint=1 \n",
      "[CV]  activation=relu, batch_size=32, dropout_rate=0.2, epochs=50, init_mode=glorot_normal, optimizer=Adam, weight_constraint=1, total= 1.3min\n",
      "[CV] activation=relu, batch_size=32, dropout_rate=0.2, epochs=50, init_mode=glorot_normal, optimizer=Adam, weight_constraint=1 \n",
      "[CV]  activation=relu, batch_size=32, dropout_rate=0.2, epochs=50, init_mode=glorot_normal, optimizer=Adam, weight_constraint=1, total= 1.6min\n",
      "[CV] activation=relu, batch_size=32, dropout_rate=0.2, epochs=50, init_mode=glorot_normal, optimizer=Adam, weight_constraint=2 \n",
      "[CV]  activation=relu, batch_size=32, dropout_rate=0.2, epochs=50, init_mode=glorot_normal, optimizer=Adam, weight_constraint=2, total= 1.4min\n",
      "[CV] activation=relu, batch_size=32, dropout_rate=0.2, epochs=50, init_mode=glorot_normal, optimizer=Adam, weight_constraint=2 \n",
      "[CV]  activation=relu, batch_size=32, dropout_rate=0.2, epochs=50, init_mode=glorot_normal, optimizer=Adam, weight_constraint=2, total= 1.4min\n",
      "[CV] activation=relu, batch_size=32, dropout_rate=0.2, epochs=50, init_mode=glorot_normal, optimizer=Adam, weight_constraint=2 \n",
      "[CV]  activation=relu, batch_size=32, dropout_rate=0.2, epochs=50, init_mode=glorot_normal, optimizer=Adam, weight_constraint=2, total= 1.7min\n",
      "[CV] activation=relu, batch_size=32, dropout_rate=0.2, epochs=50, init_mode=glorot_uniform, optimizer=SGD, weight_constraint=1 \n",
      "[CV]  activation=relu, batch_size=32, dropout_rate=0.2, epochs=50, init_mode=glorot_uniform, optimizer=SGD, weight_constraint=1, total= 1.6min\n",
      "[CV] activation=relu, batch_size=32, dropout_rate=0.2, epochs=50, init_mode=glorot_uniform, optimizer=SGD, weight_constraint=1 \n",
      "[CV]  activation=relu, batch_size=32, dropout_rate=0.2, epochs=50, init_mode=glorot_uniform, optimizer=SGD, weight_constraint=1, total= 1.6min\n",
      "[CV] activation=relu, batch_size=32, dropout_rate=0.2, epochs=50, init_mode=glorot_uniform, optimizer=SGD, weight_constraint=1 \n",
      "[CV]  activation=relu, batch_size=32, dropout_rate=0.2, epochs=50, init_mode=glorot_uniform, optimizer=SGD, weight_constraint=1, total= 1.4min\n",
      "[CV] activation=relu, batch_size=32, dropout_rate=0.2, epochs=50, init_mode=glorot_uniform, optimizer=SGD, weight_constraint=2 \n",
      "[CV]  activation=relu, batch_size=32, dropout_rate=0.2, epochs=50, init_mode=glorot_uniform, optimizer=SGD, weight_constraint=2, total= 1.5min\n",
      "[CV] activation=relu, batch_size=32, dropout_rate=0.2, epochs=50, init_mode=glorot_uniform, optimizer=SGD, weight_constraint=2 \n",
      "[CV]  activation=relu, batch_size=32, dropout_rate=0.2, epochs=50, init_mode=glorot_uniform, optimizer=SGD, weight_constraint=2, total= 1.4min\n",
      "[CV] activation=relu, batch_size=32, dropout_rate=0.2, epochs=50, init_mode=glorot_uniform, optimizer=SGD, weight_constraint=2 \n",
      "[CV]  activation=relu, batch_size=32, dropout_rate=0.2, epochs=50, init_mode=glorot_uniform, optimizer=SGD, weight_constraint=2, total= 1.4min\n",
      "[CV] activation=relu, batch_size=32, dropout_rate=0.2, epochs=50, init_mode=glorot_uniform, optimizer=Adam, weight_constraint=1 \n",
      "[CV]  activation=relu, batch_size=32, dropout_rate=0.2, epochs=50, init_mode=glorot_uniform, optimizer=Adam, weight_constraint=1, total= 1.8min\n",
      "[CV] activation=relu, batch_size=32, dropout_rate=0.2, epochs=50, init_mode=glorot_uniform, optimizer=Adam, weight_constraint=1 \n"
     ]
    },
    {
     "name": "stdout",
     "output_type": "stream",
     "text": [
      "[CV]  activation=relu, batch_size=32, dropout_rate=0.2, epochs=50, init_mode=glorot_uniform, optimizer=Adam, weight_constraint=1, total= 1.6min\n",
      "[CV] activation=relu, batch_size=32, dropout_rate=0.2, epochs=50, init_mode=glorot_uniform, optimizer=Adam, weight_constraint=1 \n",
      "[CV]  activation=relu, batch_size=32, dropout_rate=0.2, epochs=50, init_mode=glorot_uniform, optimizer=Adam, weight_constraint=1, total= 1.7min\n",
      "[CV] activation=relu, batch_size=32, dropout_rate=0.2, epochs=50, init_mode=glorot_uniform, optimizer=Adam, weight_constraint=2 \n",
      "[CV]  activation=relu, batch_size=32, dropout_rate=0.2, epochs=50, init_mode=glorot_uniform, optimizer=Adam, weight_constraint=2, total= 1.5min\n",
      "[CV] activation=relu, batch_size=32, dropout_rate=0.2, epochs=50, init_mode=glorot_uniform, optimizer=Adam, weight_constraint=2 \n",
      "[CV]  activation=relu, batch_size=32, dropout_rate=0.2, epochs=50, init_mode=glorot_uniform, optimizer=Adam, weight_constraint=2, total= 1.5min\n",
      "[CV] activation=relu, batch_size=32, dropout_rate=0.2, epochs=50, init_mode=glorot_uniform, optimizer=Adam, weight_constraint=2 \n",
      "[CV]  activation=relu, batch_size=32, dropout_rate=0.2, epochs=50, init_mode=glorot_uniform, optimizer=Adam, weight_constraint=2, total= 1.5min\n",
      "[CV] activation=sigmoid, batch_size=16, dropout_rate=0.1, epochs=30, init_mode=glorot_normal, optimizer=SGD, weight_constraint=1 \n",
      "[CV]  activation=sigmoid, batch_size=16, dropout_rate=0.1, epochs=30, init_mode=glorot_normal, optimizer=SGD, weight_constraint=1, total= 2.0min\n",
      "[CV] activation=sigmoid, batch_size=16, dropout_rate=0.1, epochs=30, init_mode=glorot_normal, optimizer=SGD, weight_constraint=1 \n",
      "[CV]  activation=sigmoid, batch_size=16, dropout_rate=0.1, epochs=30, init_mode=glorot_normal, optimizer=SGD, weight_constraint=1, total= 2.0min\n",
      "[CV] activation=sigmoid, batch_size=16, dropout_rate=0.1, epochs=30, init_mode=glorot_normal, optimizer=SGD, weight_constraint=1 \n",
      "[CV]  activation=sigmoid, batch_size=16, dropout_rate=0.1, epochs=30, init_mode=glorot_normal, optimizer=SGD, weight_constraint=1, total= 2.0min\n",
      "[CV] activation=sigmoid, batch_size=16, dropout_rate=0.1, epochs=30, init_mode=glorot_normal, optimizer=SGD, weight_constraint=2 \n",
      "[CV]  activation=sigmoid, batch_size=16, dropout_rate=0.1, epochs=30, init_mode=glorot_normal, optimizer=SGD, weight_constraint=2, total= 1.7min\n",
      "[CV] activation=sigmoid, batch_size=16, dropout_rate=0.1, epochs=30, init_mode=glorot_normal, optimizer=SGD, weight_constraint=2 \n",
      "[CV]  activation=sigmoid, batch_size=16, dropout_rate=0.1, epochs=30, init_mode=glorot_normal, optimizer=SGD, weight_constraint=2, total=87.8min\n",
      "[CV] activation=sigmoid, batch_size=16, dropout_rate=0.1, epochs=30, init_mode=glorot_normal, optimizer=SGD, weight_constraint=2 \n",
      "[CV]  activation=sigmoid, batch_size=16, dropout_rate=0.1, epochs=30, init_mode=glorot_normal, optimizer=SGD, weight_constraint=2, total= 1.5min\n",
      "[CV] activation=sigmoid, batch_size=16, dropout_rate=0.1, epochs=30, init_mode=glorot_normal, optimizer=Adam, weight_constraint=1 \n",
      "[CV]  activation=sigmoid, batch_size=16, dropout_rate=0.1, epochs=30, init_mode=glorot_normal, optimizer=Adam, weight_constraint=1, total= 2.0min\n",
      "[CV] activation=sigmoid, batch_size=16, dropout_rate=0.1, epochs=30, init_mode=glorot_normal, optimizer=Adam, weight_constraint=1 \n",
      "[CV]  activation=sigmoid, batch_size=16, dropout_rate=0.1, epochs=30, init_mode=glorot_normal, optimizer=Adam, weight_constraint=1, total= 1.9min\n",
      "[CV] activation=sigmoid, batch_size=16, dropout_rate=0.1, epochs=30, init_mode=glorot_normal, optimizer=Adam, weight_constraint=1 \n",
      "[CV]  activation=sigmoid, batch_size=16, dropout_rate=0.1, epochs=30, init_mode=glorot_normal, optimizer=Adam, weight_constraint=1, total= 2.1min\n",
      "[CV] activation=sigmoid, batch_size=16, dropout_rate=0.1, epochs=30, init_mode=glorot_normal, optimizer=Adam, weight_constraint=2 \n",
      "[CV]  activation=sigmoid, batch_size=16, dropout_rate=0.1, epochs=30, init_mode=glorot_normal, optimizer=Adam, weight_constraint=2, total= 2.1min\n",
      "[CV] activation=sigmoid, batch_size=16, dropout_rate=0.1, epochs=30, init_mode=glorot_normal, optimizer=Adam, weight_constraint=2 \n",
      "[CV]  activation=sigmoid, batch_size=16, dropout_rate=0.1, epochs=30, init_mode=glorot_normal, optimizer=Adam, weight_constraint=2, total= 2.0min\n",
      "[CV] activation=sigmoid, batch_size=16, dropout_rate=0.1, epochs=30, init_mode=glorot_normal, optimizer=Adam, weight_constraint=2 \n",
      "[CV]  activation=sigmoid, batch_size=16, dropout_rate=0.1, epochs=30, init_mode=glorot_normal, optimizer=Adam, weight_constraint=2, total= 2.1min\n",
      "[CV] activation=sigmoid, batch_size=16, dropout_rate=0.1, epochs=30, init_mode=glorot_uniform, optimizer=SGD, weight_constraint=1 \n",
      "[CV]  activation=sigmoid, batch_size=16, dropout_rate=0.1, epochs=30, init_mode=glorot_uniform, optimizer=SGD, weight_constraint=1, total= 2.0min\n",
      "[CV] activation=sigmoid, batch_size=16, dropout_rate=0.1, epochs=30, init_mode=glorot_uniform, optimizer=SGD, weight_constraint=1 \n",
      "[CV]  activation=sigmoid, batch_size=16, dropout_rate=0.1, epochs=30, init_mode=glorot_uniform, optimizer=SGD, weight_constraint=1, total= 1.7min\n",
      "[CV] activation=sigmoid, batch_size=16, dropout_rate=0.1, epochs=30, init_mode=glorot_uniform, optimizer=SGD, weight_constraint=1 \n",
      "[CV]  activation=sigmoid, batch_size=16, dropout_rate=0.1, epochs=30, init_mode=glorot_uniform, optimizer=SGD, weight_constraint=1, total= 1.7min\n",
      "[CV] activation=sigmoid, batch_size=16, dropout_rate=0.1, epochs=30, init_mode=glorot_uniform, optimizer=SGD, weight_constraint=2 \n",
      "[CV]  activation=sigmoid, batch_size=16, dropout_rate=0.1, epochs=30, init_mode=glorot_uniform, optimizer=SGD, weight_constraint=2, total= 1.7min\n",
      "[CV] activation=sigmoid, batch_size=16, dropout_rate=0.1, epochs=30, init_mode=glorot_uniform, optimizer=SGD, weight_constraint=2 \n",
      "[CV]  activation=sigmoid, batch_size=16, dropout_rate=0.1, epochs=30, init_mode=glorot_uniform, optimizer=SGD, weight_constraint=2, total= 1.8min\n",
      "[CV] activation=sigmoid, batch_size=16, dropout_rate=0.1, epochs=30, init_mode=glorot_uniform, optimizer=SGD, weight_constraint=2 \n",
      "[CV]  activation=sigmoid, batch_size=16, dropout_rate=0.1, epochs=30, init_mode=glorot_uniform, optimizer=SGD, weight_constraint=2, total= 2.0min\n",
      "[CV] activation=sigmoid, batch_size=16, dropout_rate=0.1, epochs=30, init_mode=glorot_uniform, optimizer=Adam, weight_constraint=1 \n",
      "[CV]  activation=sigmoid, batch_size=16, dropout_rate=0.1, epochs=30, init_mode=glorot_uniform, optimizer=Adam, weight_constraint=1, total= 2.0min\n",
      "[CV] activation=sigmoid, batch_size=16, dropout_rate=0.1, epochs=30, init_mode=glorot_uniform, optimizer=Adam, weight_constraint=1 \n",
      "[CV]  activation=sigmoid, batch_size=16, dropout_rate=0.1, epochs=30, init_mode=glorot_uniform, optimizer=Adam, weight_constraint=1, total= 2.2min\n",
      "[CV] activation=sigmoid, batch_size=16, dropout_rate=0.1, epochs=30, init_mode=glorot_uniform, optimizer=Adam, weight_constraint=1 \n",
      "[CV]  activation=sigmoid, batch_size=16, dropout_rate=0.1, epochs=30, init_mode=glorot_uniform, optimizer=Adam, weight_constraint=1, total= 2.2min\n",
      "[CV] activation=sigmoid, batch_size=16, dropout_rate=0.1, epochs=30, init_mode=glorot_uniform, optimizer=Adam, weight_constraint=2 \n",
      "[CV]  activation=sigmoid, batch_size=16, dropout_rate=0.1, epochs=30, init_mode=glorot_uniform, optimizer=Adam, weight_constraint=2, total=14.9min\n",
      "[CV] activation=sigmoid, batch_size=16, dropout_rate=0.1, epochs=30, init_mode=glorot_uniform, optimizer=Adam, weight_constraint=2 \n",
      "[CV]  activation=sigmoid, batch_size=16, dropout_rate=0.1, epochs=30, init_mode=glorot_uniform, optimizer=Adam, weight_constraint=2, total= 3.8min\n",
      "[CV] activation=sigmoid, batch_size=16, dropout_rate=0.1, epochs=30, init_mode=glorot_uniform, optimizer=Adam, weight_constraint=2 \n",
      "[CV]  activation=sigmoid, batch_size=16, dropout_rate=0.1, epochs=30, init_mode=glorot_uniform, optimizer=Adam, weight_constraint=2, total=17.4min\n",
      "[CV] activation=sigmoid, batch_size=16, dropout_rate=0.1, epochs=50, init_mode=glorot_normal, optimizer=SGD, weight_constraint=1 \n",
      "[CV]  activation=sigmoid, batch_size=16, dropout_rate=0.1, epochs=50, init_mode=glorot_normal, optimizer=SGD, weight_constraint=1, total= 3.0min\n",
      "[CV] activation=sigmoid, batch_size=16, dropout_rate=0.1, epochs=50, init_mode=glorot_normal, optimizer=SGD, weight_constraint=1 \n"
     ]
    },
    {
     "name": "stdout",
     "output_type": "stream",
     "text": [
      "[CV]  activation=sigmoid, batch_size=16, dropout_rate=0.1, epochs=50, init_mode=glorot_normal, optimizer=SGD, weight_constraint=1, total=23.2min\n",
      "[CV] activation=sigmoid, batch_size=16, dropout_rate=0.1, epochs=50, init_mode=glorot_normal, optimizer=SGD, weight_constraint=1 \n",
      "[CV]  activation=sigmoid, batch_size=16, dropout_rate=0.1, epochs=50, init_mode=glorot_normal, optimizer=SGD, weight_constraint=1, total= 2.9min\n",
      "[CV] activation=sigmoid, batch_size=16, dropout_rate=0.1, epochs=50, init_mode=glorot_normal, optimizer=SGD, weight_constraint=2 \n",
      "[CV]  activation=sigmoid, batch_size=16, dropout_rate=0.1, epochs=50, init_mode=glorot_normal, optimizer=SGD, weight_constraint=2, total=17.9min\n",
      "[CV] activation=sigmoid, batch_size=16, dropout_rate=0.1, epochs=50, init_mode=glorot_normal, optimizer=SGD, weight_constraint=2 \n",
      "[CV]  activation=sigmoid, batch_size=16, dropout_rate=0.1, epochs=50, init_mode=glorot_normal, optimizer=SGD, weight_constraint=2, total=44.4min\n",
      "[CV] activation=sigmoid, batch_size=16, dropout_rate=0.1, epochs=50, init_mode=glorot_normal, optimizer=SGD, weight_constraint=2 \n",
      "[CV]  activation=sigmoid, batch_size=16, dropout_rate=0.1, epochs=50, init_mode=glorot_normal, optimizer=SGD, weight_constraint=2, total= 5.5min\n",
      "[CV] activation=sigmoid, batch_size=16, dropout_rate=0.1, epochs=50, init_mode=glorot_normal, optimizer=Adam, weight_constraint=1 \n",
      "[CV]  activation=sigmoid, batch_size=16, dropout_rate=0.1, epochs=50, init_mode=glorot_normal, optimizer=Adam, weight_constraint=1, total= 2.9min\n",
      "[CV] activation=sigmoid, batch_size=16, dropout_rate=0.1, epochs=50, init_mode=glorot_normal, optimizer=Adam, weight_constraint=1 \n",
      "[CV]  activation=sigmoid, batch_size=16, dropout_rate=0.1, epochs=50, init_mode=glorot_normal, optimizer=Adam, weight_constraint=1, total= 3.5min\n",
      "[CV] activation=sigmoid, batch_size=16, dropout_rate=0.1, epochs=50, init_mode=glorot_normal, optimizer=Adam, weight_constraint=1 \n",
      "[CV]  activation=sigmoid, batch_size=16, dropout_rate=0.1, epochs=50, init_mode=glorot_normal, optimizer=Adam, weight_constraint=1, total= 3.3min\n",
      "[CV] activation=sigmoid, batch_size=16, dropout_rate=0.1, epochs=50, init_mode=glorot_normal, optimizer=Adam, weight_constraint=2 \n",
      "[CV]  activation=sigmoid, batch_size=16, dropout_rate=0.1, epochs=50, init_mode=glorot_normal, optimizer=Adam, weight_constraint=2, total= 3.0min\n",
      "[CV] activation=sigmoid, batch_size=16, dropout_rate=0.1, epochs=50, init_mode=glorot_normal, optimizer=Adam, weight_constraint=2 \n",
      "[CV]  activation=sigmoid, batch_size=16, dropout_rate=0.1, epochs=50, init_mode=glorot_normal, optimizer=Adam, weight_constraint=2, total= 3.0min\n",
      "[CV] activation=sigmoid, batch_size=16, dropout_rate=0.1, epochs=50, init_mode=glorot_normal, optimizer=Adam, weight_constraint=2 \n",
      "[CV]  activation=sigmoid, batch_size=16, dropout_rate=0.1, epochs=50, init_mode=glorot_normal, optimizer=Adam, weight_constraint=2, total= 3.4min\n",
      "[CV] activation=sigmoid, batch_size=16, dropout_rate=0.1, epochs=50, init_mode=glorot_uniform, optimizer=SGD, weight_constraint=1 \n",
      "[CV]  activation=sigmoid, batch_size=16, dropout_rate=0.1, epochs=50, init_mode=glorot_uniform, optimizer=SGD, weight_constraint=1, total= 2.8min\n",
      "[CV] activation=sigmoid, batch_size=16, dropout_rate=0.1, epochs=50, init_mode=glorot_uniform, optimizer=SGD, weight_constraint=1 \n",
      "[CV]  activation=sigmoid, batch_size=16, dropout_rate=0.1, epochs=50, init_mode=glorot_uniform, optimizer=SGD, weight_constraint=1, total= 3.3min\n",
      "[CV] activation=sigmoid, batch_size=16, dropout_rate=0.1, epochs=50, init_mode=glorot_uniform, optimizer=SGD, weight_constraint=1 \n",
      "[CV]  activation=sigmoid, batch_size=16, dropout_rate=0.1, epochs=50, init_mode=glorot_uniform, optimizer=SGD, weight_constraint=1, total= 3.5min\n",
      "[CV] activation=sigmoid, batch_size=16, dropout_rate=0.1, epochs=50, init_mode=glorot_uniform, optimizer=SGD, weight_constraint=2 \n",
      "[CV]  activation=sigmoid, batch_size=16, dropout_rate=0.1, epochs=50, init_mode=glorot_uniform, optimizer=SGD, weight_constraint=2, total= 3.5min\n",
      "[CV] activation=sigmoid, batch_size=16, dropout_rate=0.1, epochs=50, init_mode=glorot_uniform, optimizer=SGD, weight_constraint=2 \n",
      "[CV]  activation=sigmoid, batch_size=16, dropout_rate=0.1, epochs=50, init_mode=glorot_uniform, optimizer=SGD, weight_constraint=2, total= 7.7min\n",
      "[CV] activation=sigmoid, batch_size=16, dropout_rate=0.1, epochs=50, init_mode=glorot_uniform, optimizer=SGD, weight_constraint=2 \n",
      "[CV]  activation=sigmoid, batch_size=16, dropout_rate=0.1, epochs=50, init_mode=glorot_uniform, optimizer=SGD, weight_constraint=2, total= 3.4min\n",
      "[CV] activation=sigmoid, batch_size=16, dropout_rate=0.1, epochs=50, init_mode=glorot_uniform, optimizer=Adam, weight_constraint=1 \n",
      "[CV]  activation=sigmoid, batch_size=16, dropout_rate=0.1, epochs=50, init_mode=glorot_uniform, optimizer=Adam, weight_constraint=1, total= 3.0min\n",
      "[CV] activation=sigmoid, batch_size=16, dropout_rate=0.1, epochs=50, init_mode=glorot_uniform, optimizer=Adam, weight_constraint=1 \n",
      "[CV]  activation=sigmoid, batch_size=16, dropout_rate=0.1, epochs=50, init_mode=glorot_uniform, optimizer=Adam, weight_constraint=1, total= 3.7min\n",
      "[CV] activation=sigmoid, batch_size=16, dropout_rate=0.1, epochs=50, init_mode=glorot_uniform, optimizer=Adam, weight_constraint=1 \n",
      "[CV]  activation=sigmoid, batch_size=16, dropout_rate=0.1, epochs=50, init_mode=glorot_uniform, optimizer=Adam, weight_constraint=1, total= 3.7min\n",
      "[CV] activation=sigmoid, batch_size=16, dropout_rate=0.1, epochs=50, init_mode=glorot_uniform, optimizer=Adam, weight_constraint=2 \n",
      "[CV]  activation=sigmoid, batch_size=16, dropout_rate=0.1, epochs=50, init_mode=glorot_uniform, optimizer=Adam, weight_constraint=2, total= 3.0min\n",
      "[CV] activation=sigmoid, batch_size=16, dropout_rate=0.1, epochs=50, init_mode=glorot_uniform, optimizer=Adam, weight_constraint=2 \n",
      "[CV]  activation=sigmoid, batch_size=16, dropout_rate=0.1, epochs=50, init_mode=glorot_uniform, optimizer=Adam, weight_constraint=2, total= 3.1min\n",
      "[CV] activation=sigmoid, batch_size=16, dropout_rate=0.1, epochs=50, init_mode=glorot_uniform, optimizer=Adam, weight_constraint=2 \n",
      "[CV]  activation=sigmoid, batch_size=16, dropout_rate=0.1, epochs=50, init_mode=glorot_uniform, optimizer=Adam, weight_constraint=2, total= 3.4min\n",
      "[CV] activation=sigmoid, batch_size=16, dropout_rate=0.2, epochs=30, init_mode=glorot_normal, optimizer=SGD, weight_constraint=1 \n",
      "[CV]  activation=sigmoid, batch_size=16, dropout_rate=0.2, epochs=30, init_mode=glorot_normal, optimizer=SGD, weight_constraint=1, total= 2.0min\n",
      "[CV] activation=sigmoid, batch_size=16, dropout_rate=0.2, epochs=30, init_mode=glorot_normal, optimizer=SGD, weight_constraint=1 \n",
      "[CV]  activation=sigmoid, batch_size=16, dropout_rate=0.2, epochs=30, init_mode=glorot_normal, optimizer=SGD, weight_constraint=1, total= 2.0min\n",
      "[CV] activation=sigmoid, batch_size=16, dropout_rate=0.2, epochs=30, init_mode=glorot_normal, optimizer=SGD, weight_constraint=1 \n",
      "[CV]  activation=sigmoid, batch_size=16, dropout_rate=0.2, epochs=30, init_mode=glorot_normal, optimizer=SGD, weight_constraint=1, total= 1.9min\n",
      "[CV] activation=sigmoid, batch_size=16, dropout_rate=0.2, epochs=30, init_mode=glorot_normal, optimizer=SGD, weight_constraint=2 \n",
      "[CV]  activation=sigmoid, batch_size=16, dropout_rate=0.2, epochs=30, init_mode=glorot_normal, optimizer=SGD, weight_constraint=2, total= 2.3min\n",
      "[CV] activation=sigmoid, batch_size=16, dropout_rate=0.2, epochs=30, init_mode=glorot_normal, optimizer=SGD, weight_constraint=2 \n",
      "[CV]  activation=sigmoid, batch_size=16, dropout_rate=0.2, epochs=30, init_mode=glorot_normal, optimizer=SGD, weight_constraint=2, total= 2.3min\n",
      "[CV] activation=sigmoid, batch_size=16, dropout_rate=0.2, epochs=30, init_mode=glorot_normal, optimizer=SGD, weight_constraint=2 \n",
      "[CV]  activation=sigmoid, batch_size=16, dropout_rate=0.2, epochs=30, init_mode=glorot_normal, optimizer=SGD, weight_constraint=2, total= 2.1min\n",
      "[CV] activation=sigmoid, batch_size=16, dropout_rate=0.2, epochs=30, init_mode=glorot_normal, optimizer=Adam, weight_constraint=1 \n",
      "[CV]  activation=sigmoid, batch_size=16, dropout_rate=0.2, epochs=30, init_mode=glorot_normal, optimizer=Adam, weight_constraint=1, total= 2.3min\n",
      "[CV] activation=sigmoid, batch_size=16, dropout_rate=0.2, epochs=30, init_mode=glorot_normal, optimizer=Adam, weight_constraint=1 \n"
     ]
    },
    {
     "name": "stdout",
     "output_type": "stream",
     "text": [
      "[CV]  activation=sigmoid, batch_size=16, dropout_rate=0.2, epochs=30, init_mode=glorot_normal, optimizer=Adam, weight_constraint=1, total= 2.4min\n",
      "[CV] activation=sigmoid, batch_size=16, dropout_rate=0.2, epochs=30, init_mode=glorot_normal, optimizer=Adam, weight_constraint=1 \n",
      "[CV]  activation=sigmoid, batch_size=16, dropout_rate=0.2, epochs=30, init_mode=glorot_normal, optimizer=Adam, weight_constraint=1, total= 2.7min\n",
      "[CV] activation=sigmoid, batch_size=16, dropout_rate=0.2, epochs=30, init_mode=glorot_normal, optimizer=Adam, weight_constraint=2 \n",
      "[CV]  activation=sigmoid, batch_size=16, dropout_rate=0.2, epochs=30, init_mode=glorot_normal, optimizer=Adam, weight_constraint=2, total= 2.1min\n",
      "[CV] activation=sigmoid, batch_size=16, dropout_rate=0.2, epochs=30, init_mode=glorot_normal, optimizer=Adam, weight_constraint=2 \n",
      "[CV]  activation=sigmoid, batch_size=16, dropout_rate=0.2, epochs=30, init_mode=glorot_normal, optimizer=Adam, weight_constraint=2, total= 5.8min\n",
      "[CV] activation=sigmoid, batch_size=16, dropout_rate=0.2, epochs=30, init_mode=glorot_normal, optimizer=Adam, weight_constraint=2 \n",
      "[CV]  activation=sigmoid, batch_size=16, dropout_rate=0.2, epochs=30, init_mode=glorot_normal, optimizer=Adam, weight_constraint=2, total= 2.0min\n",
      "[CV] activation=sigmoid, batch_size=16, dropout_rate=0.2, epochs=30, init_mode=glorot_uniform, optimizer=SGD, weight_constraint=1 \n",
      "[CV]  activation=sigmoid, batch_size=16, dropout_rate=0.2, epochs=30, init_mode=glorot_uniform, optimizer=SGD, weight_constraint=1, total= 2.3min\n",
      "[CV] activation=sigmoid, batch_size=16, dropout_rate=0.2, epochs=30, init_mode=glorot_uniform, optimizer=SGD, weight_constraint=1 \n",
      "[CV]  activation=sigmoid, batch_size=16, dropout_rate=0.2, epochs=30, init_mode=glorot_uniform, optimizer=SGD, weight_constraint=1, total= 2.2min\n",
      "[CV] activation=sigmoid, batch_size=16, dropout_rate=0.2, epochs=30, init_mode=glorot_uniform, optimizer=SGD, weight_constraint=1 \n",
      "[CV]  activation=sigmoid, batch_size=16, dropout_rate=0.2, epochs=30, init_mode=glorot_uniform, optimizer=SGD, weight_constraint=1, total= 2.2min\n",
      "[CV] activation=sigmoid, batch_size=16, dropout_rate=0.2, epochs=30, init_mode=glorot_uniform, optimizer=SGD, weight_constraint=2 \n",
      "[CV]  activation=sigmoid, batch_size=16, dropout_rate=0.2, epochs=30, init_mode=glorot_uniform, optimizer=SGD, weight_constraint=2, total= 2.3min\n",
      "[CV] activation=sigmoid, batch_size=16, dropout_rate=0.2, epochs=30, init_mode=glorot_uniform, optimizer=SGD, weight_constraint=2 \n",
      "[CV]  activation=sigmoid, batch_size=16, dropout_rate=0.2, epochs=30, init_mode=glorot_uniform, optimizer=SGD, weight_constraint=2, total= 2.0min\n",
      "[CV] activation=sigmoid, batch_size=16, dropout_rate=0.2, epochs=30, init_mode=glorot_uniform, optimizer=SGD, weight_constraint=2 \n",
      "[CV]  activation=sigmoid, batch_size=16, dropout_rate=0.2, epochs=30, init_mode=glorot_uniform, optimizer=SGD, weight_constraint=2, total= 2.0min\n",
      "[CV] activation=sigmoid, batch_size=16, dropout_rate=0.2, epochs=30, init_mode=glorot_uniform, optimizer=Adam, weight_constraint=1 \n",
      "[CV]  activation=sigmoid, batch_size=16, dropout_rate=0.2, epochs=30, init_mode=glorot_uniform, optimizer=Adam, weight_constraint=1, total= 1.9min\n",
      "[CV] activation=sigmoid, batch_size=16, dropout_rate=0.2, epochs=30, init_mode=glorot_uniform, optimizer=Adam, weight_constraint=1 \n",
      "[CV]  activation=sigmoid, batch_size=16, dropout_rate=0.2, epochs=30, init_mode=glorot_uniform, optimizer=Adam, weight_constraint=1, total= 2.5min\n",
      "[CV] activation=sigmoid, batch_size=16, dropout_rate=0.2, epochs=30, init_mode=glorot_uniform, optimizer=Adam, weight_constraint=1 \n",
      "[CV]  activation=sigmoid, batch_size=16, dropout_rate=0.2, epochs=30, init_mode=glorot_uniform, optimizer=Adam, weight_constraint=1, total= 2.1min\n",
      "[CV] activation=sigmoid, batch_size=16, dropout_rate=0.2, epochs=30, init_mode=glorot_uniform, optimizer=Adam, weight_constraint=2 \n",
      "[CV]  activation=sigmoid, batch_size=16, dropout_rate=0.2, epochs=30, init_mode=glorot_uniform, optimizer=Adam, weight_constraint=2, total= 2.6min\n",
      "[CV] activation=sigmoid, batch_size=16, dropout_rate=0.2, epochs=30, init_mode=glorot_uniform, optimizer=Adam, weight_constraint=2 \n",
      "[CV]  activation=sigmoid, batch_size=16, dropout_rate=0.2, epochs=30, init_mode=glorot_uniform, optimizer=Adam, weight_constraint=2, total= 2.5min\n",
      "[CV] activation=sigmoid, batch_size=16, dropout_rate=0.2, epochs=30, init_mode=glorot_uniform, optimizer=Adam, weight_constraint=2 \n",
      "[CV]  activation=sigmoid, batch_size=16, dropout_rate=0.2, epochs=30, init_mode=glorot_uniform, optimizer=Adam, weight_constraint=2, total= 2.6min\n",
      "[CV] activation=sigmoid, batch_size=16, dropout_rate=0.2, epochs=50, init_mode=glorot_normal, optimizer=SGD, weight_constraint=1 \n",
      "[CV]  activation=sigmoid, batch_size=16, dropout_rate=0.2, epochs=50, init_mode=glorot_normal, optimizer=SGD, weight_constraint=1, total= 3.1min\n",
      "[CV] activation=sigmoid, batch_size=16, dropout_rate=0.2, epochs=50, init_mode=glorot_normal, optimizer=SGD, weight_constraint=1 \n",
      "[CV]  activation=sigmoid, batch_size=16, dropout_rate=0.2, epochs=50, init_mode=glorot_normal, optimizer=SGD, weight_constraint=1, total= 3.2min\n",
      "[CV] activation=sigmoid, batch_size=16, dropout_rate=0.2, epochs=50, init_mode=glorot_normal, optimizer=SGD, weight_constraint=1 \n",
      "[CV]  activation=sigmoid, batch_size=16, dropout_rate=0.2, epochs=50, init_mode=glorot_normal, optimizer=SGD, weight_constraint=1, total= 3.1min\n",
      "[CV] activation=sigmoid, batch_size=16, dropout_rate=0.2, epochs=50, init_mode=glorot_normal, optimizer=SGD, weight_constraint=2 \n",
      "[CV]  activation=sigmoid, batch_size=16, dropout_rate=0.2, epochs=50, init_mode=glorot_normal, optimizer=SGD, weight_constraint=2, total= 3.2min\n",
      "[CV] activation=sigmoid, batch_size=16, dropout_rate=0.2, epochs=50, init_mode=glorot_normal, optimizer=SGD, weight_constraint=2 \n",
      "[CV]  activation=sigmoid, batch_size=16, dropout_rate=0.2, epochs=50, init_mode=glorot_normal, optimizer=SGD, weight_constraint=2, total= 3.1min\n",
      "[CV] activation=sigmoid, batch_size=16, dropout_rate=0.2, epochs=50, init_mode=glorot_normal, optimizer=SGD, weight_constraint=2 \n",
      "[CV]  activation=sigmoid, batch_size=16, dropout_rate=0.2, epochs=50, init_mode=glorot_normal, optimizer=SGD, weight_constraint=2, total= 3.4min\n",
      "[CV] activation=sigmoid, batch_size=16, dropout_rate=0.2, epochs=50, init_mode=glorot_normal, optimizer=Adam, weight_constraint=1 \n",
      "[CV]  activation=sigmoid, batch_size=16, dropout_rate=0.2, epochs=50, init_mode=glorot_normal, optimizer=Adam, weight_constraint=1, total= 3.8min\n",
      "[CV] activation=sigmoid, batch_size=16, dropout_rate=0.2, epochs=50, init_mode=glorot_normal, optimizer=Adam, weight_constraint=1 \n",
      "[CV]  activation=sigmoid, batch_size=16, dropout_rate=0.2, epochs=50, init_mode=glorot_normal, optimizer=Adam, weight_constraint=1, total= 3.3min\n",
      "[CV] activation=sigmoid, batch_size=16, dropout_rate=0.2, epochs=50, init_mode=glorot_normal, optimizer=Adam, weight_constraint=1 \n",
      "[CV]  activation=sigmoid, batch_size=16, dropout_rate=0.2, epochs=50, init_mode=glorot_normal, optimizer=Adam, weight_constraint=1, total= 3.8min\n",
      "[CV] activation=sigmoid, batch_size=16, dropout_rate=0.2, epochs=50, init_mode=glorot_normal, optimizer=Adam, weight_constraint=2 \n",
      "[CV]  activation=sigmoid, batch_size=16, dropout_rate=0.2, epochs=50, init_mode=glorot_normal, optimizer=Adam, weight_constraint=2, total= 3.9min\n",
      "[CV] activation=sigmoid, batch_size=16, dropout_rate=0.2, epochs=50, init_mode=glorot_normal, optimizer=Adam, weight_constraint=2 \n",
      "[CV]  activation=sigmoid, batch_size=16, dropout_rate=0.2, epochs=50, init_mode=glorot_normal, optimizer=Adam, weight_constraint=2, total= 3.5min\n",
      "[CV] activation=sigmoid, batch_size=16, dropout_rate=0.2, epochs=50, init_mode=glorot_normal, optimizer=Adam, weight_constraint=2 \n",
      "[CV]  activation=sigmoid, batch_size=16, dropout_rate=0.2, epochs=50, init_mode=glorot_normal, optimizer=Adam, weight_constraint=2, total= 4.1min\n",
      "[CV] activation=sigmoid, batch_size=16, dropout_rate=0.2, epochs=50, init_mode=glorot_uniform, optimizer=SGD, weight_constraint=1 \n",
      "[CV]  activation=sigmoid, batch_size=16, dropout_rate=0.2, epochs=50, init_mode=glorot_uniform, optimizer=SGD, weight_constraint=1, total= 3.6min\n",
      "[CV] activation=sigmoid, batch_size=16, dropout_rate=0.2, epochs=50, init_mode=glorot_uniform, optimizer=SGD, weight_constraint=1 \n"
     ]
    },
    {
     "name": "stdout",
     "output_type": "stream",
     "text": [
      "[CV]  activation=sigmoid, batch_size=16, dropout_rate=0.2, epochs=50, init_mode=glorot_uniform, optimizer=SGD, weight_constraint=1, total= 2.9min\n",
      "[CV] activation=sigmoid, batch_size=16, dropout_rate=0.2, epochs=50, init_mode=glorot_uniform, optimizer=SGD, weight_constraint=1 \n",
      "[CV]  activation=sigmoid, batch_size=16, dropout_rate=0.2, epochs=50, init_mode=glorot_uniform, optimizer=SGD, weight_constraint=1, total= 3.5min\n",
      "[CV] activation=sigmoid, batch_size=16, dropout_rate=0.2, epochs=50, init_mode=glorot_uniform, optimizer=SGD, weight_constraint=2 \n",
      "[CV]  activation=sigmoid, batch_size=16, dropout_rate=0.2, epochs=50, init_mode=glorot_uniform, optimizer=SGD, weight_constraint=2, total= 3.9min\n",
      "[CV] activation=sigmoid, batch_size=16, dropout_rate=0.2, epochs=50, init_mode=glorot_uniform, optimizer=SGD, weight_constraint=2 \n",
      "[CV]  activation=sigmoid, batch_size=16, dropout_rate=0.2, epochs=50, init_mode=glorot_uniform, optimizer=SGD, weight_constraint=2, total= 3.5min\n",
      "[CV] activation=sigmoid, batch_size=16, dropout_rate=0.2, epochs=50, init_mode=glorot_uniform, optimizer=SGD, weight_constraint=2 \n",
      "[CV]  activation=sigmoid, batch_size=16, dropout_rate=0.2, epochs=50, init_mode=glorot_uniform, optimizer=SGD, weight_constraint=2, total= 3.9min\n",
      "[CV] activation=sigmoid, batch_size=16, dropout_rate=0.2, epochs=50, init_mode=glorot_uniform, optimizer=Adam, weight_constraint=1 \n",
      "[CV]  activation=sigmoid, batch_size=16, dropout_rate=0.2, epochs=50, init_mode=glorot_uniform, optimizer=Adam, weight_constraint=1, total= 3.4min\n",
      "[CV] activation=sigmoid, batch_size=16, dropout_rate=0.2, epochs=50, init_mode=glorot_uniform, optimizer=Adam, weight_constraint=1 \n",
      "[CV]  activation=sigmoid, batch_size=16, dropout_rate=0.2, epochs=50, init_mode=glorot_uniform, optimizer=Adam, weight_constraint=1, total= 6.5min\n",
      "[CV] activation=sigmoid, batch_size=16, dropout_rate=0.2, epochs=50, init_mode=glorot_uniform, optimizer=Adam, weight_constraint=1 \n",
      "[CV]  activation=sigmoid, batch_size=16, dropout_rate=0.2, epochs=50, init_mode=glorot_uniform, optimizer=Adam, weight_constraint=1, total= 4.0min\n",
      "[CV] activation=sigmoid, batch_size=16, dropout_rate=0.2, epochs=50, init_mode=glorot_uniform, optimizer=Adam, weight_constraint=2 \n",
      "[CV]  activation=sigmoid, batch_size=16, dropout_rate=0.2, epochs=50, init_mode=glorot_uniform, optimizer=Adam, weight_constraint=2, total= 4.2min\n",
      "[CV] activation=sigmoid, batch_size=16, dropout_rate=0.2, epochs=50, init_mode=glorot_uniform, optimizer=Adam, weight_constraint=2 \n",
      "[CV]  activation=sigmoid, batch_size=16, dropout_rate=0.2, epochs=50, init_mode=glorot_uniform, optimizer=Adam, weight_constraint=2, total= 3.8min\n",
      "[CV] activation=sigmoid, batch_size=16, dropout_rate=0.2, epochs=50, init_mode=glorot_uniform, optimizer=Adam, weight_constraint=2 \n",
      "[CV]  activation=sigmoid, batch_size=16, dropout_rate=0.2, epochs=50, init_mode=glorot_uniform, optimizer=Adam, weight_constraint=2, total= 4.2min\n",
      "[CV] activation=sigmoid, batch_size=32, dropout_rate=0.1, epochs=30, init_mode=glorot_normal, optimizer=SGD, weight_constraint=1 \n",
      "[CV]  activation=sigmoid, batch_size=32, dropout_rate=0.1, epochs=30, init_mode=glorot_normal, optimizer=SGD, weight_constraint=1, total= 1.3min\n",
      "[CV] activation=sigmoid, batch_size=32, dropout_rate=0.1, epochs=30, init_mode=glorot_normal, optimizer=SGD, weight_constraint=1 \n",
      "[CV]  activation=sigmoid, batch_size=32, dropout_rate=0.1, epochs=30, init_mode=glorot_normal, optimizer=SGD, weight_constraint=1, total= 1.5min\n",
      "[CV] activation=sigmoid, batch_size=32, dropout_rate=0.1, epochs=30, init_mode=glorot_normal, optimizer=SGD, weight_constraint=1 \n",
      "[CV]  activation=sigmoid, batch_size=32, dropout_rate=0.1, epochs=30, init_mode=glorot_normal, optimizer=SGD, weight_constraint=1, total= 1.5min\n",
      "[CV] activation=sigmoid, batch_size=32, dropout_rate=0.1, epochs=30, init_mode=glorot_normal, optimizer=SGD, weight_constraint=2 \n",
      "[CV]  activation=sigmoid, batch_size=32, dropout_rate=0.1, epochs=30, init_mode=glorot_normal, optimizer=SGD, weight_constraint=2, total= 1.4min\n",
      "[CV] activation=sigmoid, batch_size=32, dropout_rate=0.1, epochs=30, init_mode=glorot_normal, optimizer=SGD, weight_constraint=2 \n",
      "[CV]  activation=sigmoid, batch_size=32, dropout_rate=0.1, epochs=30, init_mode=glorot_normal, optimizer=SGD, weight_constraint=2, total= 1.5min\n",
      "[CV] activation=sigmoid, batch_size=32, dropout_rate=0.1, epochs=30, init_mode=glorot_normal, optimizer=SGD, weight_constraint=2 \n",
      "[CV]  activation=sigmoid, batch_size=32, dropout_rate=0.1, epochs=30, init_mode=glorot_normal, optimizer=SGD, weight_constraint=2, total= 1.5min\n",
      "[CV] activation=sigmoid, batch_size=32, dropout_rate=0.1, epochs=30, init_mode=glorot_normal, optimizer=Adam, weight_constraint=1 \n",
      "[CV]  activation=sigmoid, batch_size=32, dropout_rate=0.1, epochs=30, init_mode=glorot_normal, optimizer=Adam, weight_constraint=1, total= 1.6min\n",
      "[CV] activation=sigmoid, batch_size=32, dropout_rate=0.1, epochs=30, init_mode=glorot_normal, optimizer=Adam, weight_constraint=1 \n",
      "[CV]  activation=sigmoid, batch_size=32, dropout_rate=0.1, epochs=30, init_mode=glorot_normal, optimizer=Adam, weight_constraint=1, total= 1.5min\n",
      "[CV] activation=sigmoid, batch_size=32, dropout_rate=0.1, epochs=30, init_mode=glorot_normal, optimizer=Adam, weight_constraint=1 \n",
      "[CV]  activation=sigmoid, batch_size=32, dropout_rate=0.1, epochs=30, init_mode=glorot_normal, optimizer=Adam, weight_constraint=1, total= 1.6min\n",
      "[CV] activation=sigmoid, batch_size=32, dropout_rate=0.1, epochs=30, init_mode=glorot_normal, optimizer=Adam, weight_constraint=2 \n",
      "[CV]  activation=sigmoid, batch_size=32, dropout_rate=0.1, epochs=30, init_mode=glorot_normal, optimizer=Adam, weight_constraint=2, total= 1.6min\n",
      "[CV] activation=sigmoid, batch_size=32, dropout_rate=0.1, epochs=30, init_mode=glorot_normal, optimizer=Adam, weight_constraint=2 \n",
      "[CV]  activation=sigmoid, batch_size=32, dropout_rate=0.1, epochs=30, init_mode=glorot_normal, optimizer=Adam, weight_constraint=2, total= 1.6min\n",
      "[CV] activation=sigmoid, batch_size=32, dropout_rate=0.1, epochs=30, init_mode=glorot_normal, optimizer=Adam, weight_constraint=2 \n",
      "[CV]  activation=sigmoid, batch_size=32, dropout_rate=0.1, epochs=30, init_mode=glorot_normal, optimizer=Adam, weight_constraint=2, total= 1.6min\n",
      "[CV] activation=sigmoid, batch_size=32, dropout_rate=0.1, epochs=30, init_mode=glorot_uniform, optimizer=SGD, weight_constraint=1 \n",
      "[CV]  activation=sigmoid, batch_size=32, dropout_rate=0.1, epochs=30, init_mode=glorot_uniform, optimizer=SGD, weight_constraint=1, total= 1.6min\n",
      "[CV] activation=sigmoid, batch_size=32, dropout_rate=0.1, epochs=30, init_mode=glorot_uniform, optimizer=SGD, weight_constraint=1 \n",
      "[CV]  activation=sigmoid, batch_size=32, dropout_rate=0.1, epochs=30, init_mode=glorot_uniform, optimizer=SGD, weight_constraint=1, total= 1.6min\n",
      "[CV] activation=sigmoid, batch_size=32, dropout_rate=0.1, epochs=30, init_mode=glorot_uniform, optimizer=SGD, weight_constraint=1 \n",
      "[CV]  activation=sigmoid, batch_size=32, dropout_rate=0.1, epochs=30, init_mode=glorot_uniform, optimizer=SGD, weight_constraint=1, total= 1.5min\n",
      "[CV] activation=sigmoid, batch_size=32, dropout_rate=0.1, epochs=30, init_mode=glorot_uniform, optimizer=SGD, weight_constraint=2 \n",
      "[CV]  activation=sigmoid, batch_size=32, dropout_rate=0.1, epochs=30, init_mode=glorot_uniform, optimizer=SGD, weight_constraint=2, total= 1.6min\n",
      "[CV] activation=sigmoid, batch_size=32, dropout_rate=0.1, epochs=30, init_mode=glorot_uniform, optimizer=SGD, weight_constraint=2 \n",
      "[CV]  activation=sigmoid, batch_size=32, dropout_rate=0.1, epochs=30, init_mode=glorot_uniform, optimizer=SGD, weight_constraint=2, total= 1.4min\n",
      "[CV] activation=sigmoid, batch_size=32, dropout_rate=0.1, epochs=30, init_mode=glorot_uniform, optimizer=SGD, weight_constraint=2 \n",
      "[CV]  activation=sigmoid, batch_size=32, dropout_rate=0.1, epochs=30, init_mode=glorot_uniform, optimizer=SGD, weight_constraint=2, total= 1.4min\n",
      "[CV] activation=sigmoid, batch_size=32, dropout_rate=0.1, epochs=30, init_mode=glorot_uniform, optimizer=Adam, weight_constraint=1 \n",
      "[CV]  activation=sigmoid, batch_size=32, dropout_rate=0.1, epochs=30, init_mode=glorot_uniform, optimizer=Adam, weight_constraint=1, total= 1.4min\n",
      "[CV] activation=sigmoid, batch_size=32, dropout_rate=0.1, epochs=30, init_mode=glorot_uniform, optimizer=Adam, weight_constraint=1 \n"
     ]
    },
    {
     "name": "stdout",
     "output_type": "stream",
     "text": [
      "[CV]  activation=sigmoid, batch_size=32, dropout_rate=0.1, epochs=30, init_mode=glorot_uniform, optimizer=Adam, weight_constraint=1, total= 1.5min\n",
      "[CV] activation=sigmoid, batch_size=32, dropout_rate=0.1, epochs=30, init_mode=glorot_uniform, optimizer=Adam, weight_constraint=1 \n",
      "[CV]  activation=sigmoid, batch_size=32, dropout_rate=0.1, epochs=30, init_mode=glorot_uniform, optimizer=Adam, weight_constraint=1, total= 1.4min\n",
      "[CV] activation=sigmoid, batch_size=32, dropout_rate=0.1, epochs=30, init_mode=glorot_uniform, optimizer=Adam, weight_constraint=2 \n",
      "[CV]  activation=sigmoid, batch_size=32, dropout_rate=0.1, epochs=30, init_mode=glorot_uniform, optimizer=Adam, weight_constraint=2, total= 1.7min\n",
      "[CV] activation=sigmoid, batch_size=32, dropout_rate=0.1, epochs=30, init_mode=glorot_uniform, optimizer=Adam, weight_constraint=2 \n",
      "[CV]  activation=sigmoid, batch_size=32, dropout_rate=0.1, epochs=30, init_mode=glorot_uniform, optimizer=Adam, weight_constraint=2, total= 1.4min\n",
      "[CV] activation=sigmoid, batch_size=32, dropout_rate=0.1, epochs=30, init_mode=glorot_uniform, optimizer=Adam, weight_constraint=2 \n",
      "[CV]  activation=sigmoid, batch_size=32, dropout_rate=0.1, epochs=30, init_mode=glorot_uniform, optimizer=Adam, weight_constraint=2, total= 1.7min\n",
      "[CV] activation=sigmoid, batch_size=32, dropout_rate=0.1, epochs=50, init_mode=glorot_normal, optimizer=SGD, weight_constraint=1 \n",
      "[CV]  activation=sigmoid, batch_size=32, dropout_rate=0.1, epochs=50, init_mode=glorot_normal, optimizer=SGD, weight_constraint=1, total= 2.4min\n",
      "[CV] activation=sigmoid, batch_size=32, dropout_rate=0.1, epochs=50, init_mode=glorot_normal, optimizer=SGD, weight_constraint=1 \n",
      "[CV]  activation=sigmoid, batch_size=32, dropout_rate=0.1, epochs=50, init_mode=glorot_normal, optimizer=SGD, weight_constraint=1, total= 2.2min\n",
      "[CV] activation=sigmoid, batch_size=32, dropout_rate=0.1, epochs=50, init_mode=glorot_normal, optimizer=SGD, weight_constraint=1 \n",
      "[CV]  activation=sigmoid, batch_size=32, dropout_rate=0.1, epochs=50, init_mode=glorot_normal, optimizer=SGD, weight_constraint=1, total= 2.1min\n",
      "[CV] activation=sigmoid, batch_size=32, dropout_rate=0.1, epochs=50, init_mode=glorot_normal, optimizer=SGD, weight_constraint=2 \n",
      "[CV]  activation=sigmoid, batch_size=32, dropout_rate=0.1, epochs=50, init_mode=glorot_normal, optimizer=SGD, weight_constraint=2, total= 2.1min\n",
      "[CV] activation=sigmoid, batch_size=32, dropout_rate=0.1, epochs=50, init_mode=glorot_normal, optimizer=SGD, weight_constraint=2 \n",
      "[CV]  activation=sigmoid, batch_size=32, dropout_rate=0.1, epochs=50, init_mode=glorot_normal, optimizer=SGD, weight_constraint=2, total= 2.1min\n",
      "[CV] activation=sigmoid, batch_size=32, dropout_rate=0.1, epochs=50, init_mode=glorot_normal, optimizer=SGD, weight_constraint=2 \n",
      "[CV]  activation=sigmoid, batch_size=32, dropout_rate=0.1, epochs=50, init_mode=glorot_normal, optimizer=SGD, weight_constraint=2, total= 2.1min\n",
      "[CV] activation=sigmoid, batch_size=32, dropout_rate=0.1, epochs=50, init_mode=glorot_normal, optimizer=Adam, weight_constraint=1 \n",
      "[CV]  activation=sigmoid, batch_size=32, dropout_rate=0.1, epochs=50, init_mode=glorot_normal, optimizer=Adam, weight_constraint=1, total= 2.5min\n",
      "[CV] activation=sigmoid, batch_size=32, dropout_rate=0.1, epochs=50, init_mode=glorot_normal, optimizer=Adam, weight_constraint=1 \n",
      "[CV]  activation=sigmoid, batch_size=32, dropout_rate=0.1, epochs=50, init_mode=glorot_normal, optimizer=Adam, weight_constraint=1, total= 2.5min\n",
      "[CV] activation=sigmoid, batch_size=32, dropout_rate=0.1, epochs=50, init_mode=glorot_normal, optimizer=Adam, weight_constraint=1 \n",
      "[CV]  activation=sigmoid, batch_size=32, dropout_rate=0.1, epochs=50, init_mode=glorot_normal, optimizer=Adam, weight_constraint=1, total= 2.5min\n",
      "[CV] activation=sigmoid, batch_size=32, dropout_rate=0.1, epochs=50, init_mode=glorot_normal, optimizer=Adam, weight_constraint=2 \n",
      "[CV]  activation=sigmoid, batch_size=32, dropout_rate=0.1, epochs=50, init_mode=glorot_normal, optimizer=Adam, weight_constraint=2, total= 2.5min\n",
      "[CV] activation=sigmoid, batch_size=32, dropout_rate=0.1, epochs=50, init_mode=glorot_normal, optimizer=Adam, weight_constraint=2 \n",
      "[CV]  activation=sigmoid, batch_size=32, dropout_rate=0.1, epochs=50, init_mode=glorot_normal, optimizer=Adam, weight_constraint=2, total= 2.2min\n",
      "[CV] activation=sigmoid, batch_size=32, dropout_rate=0.1, epochs=50, init_mode=glorot_normal, optimizer=Adam, weight_constraint=2 \n",
      "[CV]  activation=sigmoid, batch_size=32, dropout_rate=0.1, epochs=50, init_mode=glorot_normal, optimizer=Adam, weight_constraint=2, total= 2.5min\n",
      "[CV] activation=sigmoid, batch_size=32, dropout_rate=0.1, epochs=50, init_mode=glorot_uniform, optimizer=SGD, weight_constraint=1 \n",
      "[CV]  activation=sigmoid, batch_size=32, dropout_rate=0.1, epochs=50, init_mode=glorot_uniform, optimizer=SGD, weight_constraint=1, total= 2.3min\n",
      "[CV] activation=sigmoid, batch_size=32, dropout_rate=0.1, epochs=50, init_mode=glorot_uniform, optimizer=SGD, weight_constraint=1 \n",
      "[CV]  activation=sigmoid, batch_size=32, dropout_rate=0.1, epochs=50, init_mode=glorot_uniform, optimizer=SGD, weight_constraint=1, total= 2.2min\n",
      "[CV] activation=sigmoid, batch_size=32, dropout_rate=0.1, epochs=50, init_mode=glorot_uniform, optimizer=SGD, weight_constraint=1 \n",
      "[CV]  activation=sigmoid, batch_size=32, dropout_rate=0.1, epochs=50, init_mode=glorot_uniform, optimizer=SGD, weight_constraint=1, total= 2.5min\n",
      "[CV] activation=sigmoid, batch_size=32, dropout_rate=0.1, epochs=50, init_mode=glorot_uniform, optimizer=SGD, weight_constraint=2 \n",
      "[CV]  activation=sigmoid, batch_size=32, dropout_rate=0.1, epochs=50, init_mode=glorot_uniform, optimizer=SGD, weight_constraint=2, total= 2.1min\n",
      "[CV] activation=sigmoid, batch_size=32, dropout_rate=0.1, epochs=50, init_mode=glorot_uniform, optimizer=SGD, weight_constraint=2 \n",
      "[CV]  activation=sigmoid, batch_size=32, dropout_rate=0.1, epochs=50, init_mode=glorot_uniform, optimizer=SGD, weight_constraint=2, total= 2.3min\n",
      "[CV] activation=sigmoid, batch_size=32, dropout_rate=0.1, epochs=50, init_mode=glorot_uniform, optimizer=SGD, weight_constraint=2 \n",
      "[CV]  activation=sigmoid, batch_size=32, dropout_rate=0.1, epochs=50, init_mode=glorot_uniform, optimizer=SGD, weight_constraint=2, total= 2.5min\n",
      "[CV] activation=sigmoid, batch_size=32, dropout_rate=0.1, epochs=50, init_mode=glorot_uniform, optimizer=Adam, weight_constraint=1 \n",
      "[CV]  activation=sigmoid, batch_size=32, dropout_rate=0.1, epochs=50, init_mode=glorot_uniform, optimizer=Adam, weight_constraint=1, total= 2.1min\n",
      "[CV] activation=sigmoid, batch_size=32, dropout_rate=0.1, epochs=50, init_mode=glorot_uniform, optimizer=Adam, weight_constraint=1 \n",
      "[CV]  activation=sigmoid, batch_size=32, dropout_rate=0.1, epochs=50, init_mode=glorot_uniform, optimizer=Adam, weight_constraint=1, total= 2.7min\n",
      "[CV] activation=sigmoid, batch_size=32, dropout_rate=0.1, epochs=50, init_mode=glorot_uniform, optimizer=Adam, weight_constraint=1 \n",
      "[CV]  activation=sigmoid, batch_size=32, dropout_rate=0.1, epochs=50, init_mode=glorot_uniform, optimizer=Adam, weight_constraint=1, total= 2.3min\n",
      "[CV] activation=sigmoid, batch_size=32, dropout_rate=0.1, epochs=50, init_mode=glorot_uniform, optimizer=Adam, weight_constraint=2 \n",
      "[CV]  activation=sigmoid, batch_size=32, dropout_rate=0.1, epochs=50, init_mode=glorot_uniform, optimizer=Adam, weight_constraint=2, total= 2.3min\n",
      "[CV] activation=sigmoid, batch_size=32, dropout_rate=0.1, epochs=50, init_mode=glorot_uniform, optimizer=Adam, weight_constraint=2 \n",
      "[CV]  activation=sigmoid, batch_size=32, dropout_rate=0.1, epochs=50, init_mode=glorot_uniform, optimizer=Adam, weight_constraint=2, total= 2.5min\n",
      "[CV] activation=sigmoid, batch_size=32, dropout_rate=0.1, epochs=50, init_mode=glorot_uniform, optimizer=Adam, weight_constraint=2 \n",
      "[CV]  activation=sigmoid, batch_size=32, dropout_rate=0.1, epochs=50, init_mode=glorot_uniform, optimizer=Adam, weight_constraint=2, total= 2.6min\n",
      "[CV] activation=sigmoid, batch_size=32, dropout_rate=0.2, epochs=30, init_mode=glorot_normal, optimizer=SGD, weight_constraint=1 \n",
      "[CV]  activation=sigmoid, batch_size=32, dropout_rate=0.2, epochs=30, init_mode=glorot_normal, optimizer=SGD, weight_constraint=1, total= 1.7min\n",
      "[CV] activation=sigmoid, batch_size=32, dropout_rate=0.2, epochs=30, init_mode=glorot_normal, optimizer=SGD, weight_constraint=1 \n"
     ]
    },
    {
     "name": "stdout",
     "output_type": "stream",
     "text": [
      "[CV]  activation=sigmoid, batch_size=32, dropout_rate=0.2, epochs=30, init_mode=glorot_normal, optimizer=SGD, weight_constraint=1, total= 1.7min\n",
      "[CV] activation=sigmoid, batch_size=32, dropout_rate=0.2, epochs=30, init_mode=glorot_normal, optimizer=SGD, weight_constraint=1 \n",
      "[CV]  activation=sigmoid, batch_size=32, dropout_rate=0.2, epochs=30, init_mode=glorot_normal, optimizer=SGD, weight_constraint=1, total= 1.4min\n",
      "[CV] activation=sigmoid, batch_size=32, dropout_rate=0.2, epochs=30, init_mode=glorot_normal, optimizer=SGD, weight_constraint=2 \n",
      "[CV]  activation=sigmoid, batch_size=32, dropout_rate=0.2, epochs=30, init_mode=glorot_normal, optimizer=SGD, weight_constraint=2, total= 1.7min\n",
      "[CV] activation=sigmoid, batch_size=32, dropout_rate=0.2, epochs=30, init_mode=glorot_normal, optimizer=SGD, weight_constraint=2 \n",
      "[CV]  activation=sigmoid, batch_size=32, dropout_rate=0.2, epochs=30, init_mode=glorot_normal, optimizer=SGD, weight_constraint=2, total= 1.7min\n",
      "[CV] activation=sigmoid, batch_size=32, dropout_rate=0.2, epochs=30, init_mode=glorot_normal, optimizer=SGD, weight_constraint=2 \n",
      "[CV]  activation=sigmoid, batch_size=32, dropout_rate=0.2, epochs=30, init_mode=glorot_normal, optimizer=SGD, weight_constraint=2, total= 1.6min\n",
      "[CV] activation=sigmoid, batch_size=32, dropout_rate=0.2, epochs=30, init_mode=glorot_normal, optimizer=Adam, weight_constraint=1 \n",
      "[CV]  activation=sigmoid, batch_size=32, dropout_rate=0.2, epochs=30, init_mode=glorot_normal, optimizer=Adam, weight_constraint=1, total= 1.9min\n",
      "[CV] activation=sigmoid, batch_size=32, dropout_rate=0.2, epochs=30, init_mode=glorot_normal, optimizer=Adam, weight_constraint=1 \n",
      "[CV]  activation=sigmoid, batch_size=32, dropout_rate=0.2, epochs=30, init_mode=glorot_normal, optimizer=Adam, weight_constraint=1, total= 1.8min\n",
      "[CV] activation=sigmoid, batch_size=32, dropout_rate=0.2, epochs=30, init_mode=glorot_normal, optimizer=Adam, weight_constraint=1 \n",
      "[CV]  activation=sigmoid, batch_size=32, dropout_rate=0.2, epochs=30, init_mode=glorot_normal, optimizer=Adam, weight_constraint=1, total= 1.6min\n",
      "[CV] activation=sigmoid, batch_size=32, dropout_rate=0.2, epochs=30, init_mode=glorot_normal, optimizer=Adam, weight_constraint=2 \n",
      "[CV]  activation=sigmoid, batch_size=32, dropout_rate=0.2, epochs=30, init_mode=glorot_normal, optimizer=Adam, weight_constraint=2, total= 1.8min\n",
      "[CV] activation=sigmoid, batch_size=32, dropout_rate=0.2, epochs=30, init_mode=glorot_normal, optimizer=Adam, weight_constraint=2 \n",
      "[CV]  activation=sigmoid, batch_size=32, dropout_rate=0.2, epochs=30, init_mode=glorot_normal, optimizer=Adam, weight_constraint=2, total= 1.8min\n",
      "[CV] activation=sigmoid, batch_size=32, dropout_rate=0.2, epochs=30, init_mode=glorot_normal, optimizer=Adam, weight_constraint=2 \n",
      "[CV]  activation=sigmoid, batch_size=32, dropout_rate=0.2, epochs=30, init_mode=glorot_normal, optimizer=Adam, weight_constraint=2, total= 1.5min\n",
      "[CV] activation=sigmoid, batch_size=32, dropout_rate=0.2, epochs=30, init_mode=glorot_uniform, optimizer=SGD, weight_constraint=1 \n",
      "[CV]  activation=sigmoid, batch_size=32, dropout_rate=0.2, epochs=30, init_mode=glorot_uniform, optimizer=SGD, weight_constraint=1, total= 1.8min\n",
      "[CV] activation=sigmoid, batch_size=32, dropout_rate=0.2, epochs=30, init_mode=glorot_uniform, optimizer=SGD, weight_constraint=1 \n",
      "[CV]  activation=sigmoid, batch_size=32, dropout_rate=0.2, epochs=30, init_mode=glorot_uniform, optimizer=SGD, weight_constraint=1, total= 1.7min\n",
      "[CV] activation=sigmoid, batch_size=32, dropout_rate=0.2, epochs=30, init_mode=glorot_uniform, optimizer=SGD, weight_constraint=1 \n",
      "[CV]  activation=sigmoid, batch_size=32, dropout_rate=0.2, epochs=30, init_mode=glorot_uniform, optimizer=SGD, weight_constraint=1, total= 1.7min\n",
      "[CV] activation=sigmoid, batch_size=32, dropout_rate=0.2, epochs=30, init_mode=glorot_uniform, optimizer=SGD, weight_constraint=2 \n",
      "[CV]  activation=sigmoid, batch_size=32, dropout_rate=0.2, epochs=30, init_mode=glorot_uniform, optimizer=SGD, weight_constraint=2, total= 1.8min\n",
      "[CV] activation=sigmoid, batch_size=32, dropout_rate=0.2, epochs=30, init_mode=glorot_uniform, optimizer=SGD, weight_constraint=2 \n",
      "[CV]  activation=sigmoid, batch_size=32, dropout_rate=0.2, epochs=30, init_mode=glorot_uniform, optimizer=SGD, weight_constraint=2, total= 1.6min\n",
      "[CV] activation=sigmoid, batch_size=32, dropout_rate=0.2, epochs=30, init_mode=glorot_uniform, optimizer=SGD, weight_constraint=2 \n",
      "[CV]  activation=sigmoid, batch_size=32, dropout_rate=0.2, epochs=30, init_mode=glorot_uniform, optimizer=SGD, weight_constraint=2, total= 1.5min\n",
      "[CV] activation=sigmoid, batch_size=32, dropout_rate=0.2, epochs=30, init_mode=glorot_uniform, optimizer=Adam, weight_constraint=1 \n",
      "[CV]  activation=sigmoid, batch_size=32, dropout_rate=0.2, epochs=30, init_mode=glorot_uniform, optimizer=Adam, weight_constraint=1, total= 1.8min\n",
      "[CV] activation=sigmoid, batch_size=32, dropout_rate=0.2, epochs=30, init_mode=glorot_uniform, optimizer=Adam, weight_constraint=1 \n",
      "[CV]  activation=sigmoid, batch_size=32, dropout_rate=0.2, epochs=30, init_mode=glorot_uniform, optimizer=Adam, weight_constraint=1, total= 1.8min\n",
      "[CV] activation=sigmoid, batch_size=32, dropout_rate=0.2, epochs=30, init_mode=glorot_uniform, optimizer=Adam, weight_constraint=1 \n",
      "[CV]  activation=sigmoid, batch_size=32, dropout_rate=0.2, epochs=30, init_mode=glorot_uniform, optimizer=Adam, weight_constraint=1, total= 1.8min\n",
      "[CV] activation=sigmoid, batch_size=32, dropout_rate=0.2, epochs=30, init_mode=glorot_uniform, optimizer=Adam, weight_constraint=2 \n",
      "[CV]  activation=sigmoid, batch_size=32, dropout_rate=0.2, epochs=30, init_mode=glorot_uniform, optimizer=Adam, weight_constraint=2, total= 1.8min\n",
      "[CV] activation=sigmoid, batch_size=32, dropout_rate=0.2, epochs=30, init_mode=glorot_uniform, optimizer=Adam, weight_constraint=2 \n",
      "[CV]  activation=sigmoid, batch_size=32, dropout_rate=0.2, epochs=30, init_mode=glorot_uniform, optimizer=Adam, weight_constraint=2, total= 1.9min\n",
      "[CV] activation=sigmoid, batch_size=32, dropout_rate=0.2, epochs=30, init_mode=glorot_uniform, optimizer=Adam, weight_constraint=2 \n",
      "[CV]  activation=sigmoid, batch_size=32, dropout_rate=0.2, epochs=30, init_mode=glorot_uniform, optimizer=Adam, weight_constraint=2, total= 1.8min\n",
      "[CV] activation=sigmoid, batch_size=32, dropout_rate=0.2, epochs=50, init_mode=glorot_normal, optimizer=SGD, weight_constraint=1 \n",
      "[CV]  activation=sigmoid, batch_size=32, dropout_rate=0.2, epochs=50, init_mode=glorot_normal, optimizer=SGD, weight_constraint=1, total= 2.5min\n",
      "[CV] activation=sigmoid, batch_size=32, dropout_rate=0.2, epochs=50, init_mode=glorot_normal, optimizer=SGD, weight_constraint=1 \n",
      "[CV]  activation=sigmoid, batch_size=32, dropout_rate=0.2, epochs=50, init_mode=glorot_normal, optimizer=SGD, weight_constraint=1, total= 2.5min\n",
      "[CV] activation=sigmoid, batch_size=32, dropout_rate=0.2, epochs=50, init_mode=glorot_normal, optimizer=SGD, weight_constraint=1 \n",
      "[CV]  activation=sigmoid, batch_size=32, dropout_rate=0.2, epochs=50, init_mode=glorot_normal, optimizer=SGD, weight_constraint=1, total= 2.4min\n",
      "[CV] activation=sigmoid, batch_size=32, dropout_rate=0.2, epochs=50, init_mode=glorot_normal, optimizer=SGD, weight_constraint=2 \n",
      "[CV]  activation=sigmoid, batch_size=32, dropout_rate=0.2, epochs=50, init_mode=glorot_normal, optimizer=SGD, weight_constraint=2, total= 2.7min\n",
      "[CV] activation=sigmoid, batch_size=32, dropout_rate=0.2, epochs=50, init_mode=glorot_normal, optimizer=SGD, weight_constraint=2 \n",
      "[CV]  activation=sigmoid, batch_size=32, dropout_rate=0.2, epochs=50, init_mode=glorot_normal, optimizer=SGD, weight_constraint=2, total= 2.7min\n",
      "[CV] activation=sigmoid, batch_size=32, dropout_rate=0.2, epochs=50, init_mode=glorot_normal, optimizer=SGD, weight_constraint=2 \n",
      "[CV]  activation=sigmoid, batch_size=32, dropout_rate=0.2, epochs=50, init_mode=glorot_normal, optimizer=SGD, weight_constraint=2, total= 2.7min\n",
      "[CV] activation=sigmoid, batch_size=32, dropout_rate=0.2, epochs=50, init_mode=glorot_normal, optimizer=Adam, weight_constraint=1 \n",
      "[CV]  activation=sigmoid, batch_size=32, dropout_rate=0.2, epochs=50, init_mode=glorot_normal, optimizer=Adam, weight_constraint=1, total= 2.5min\n",
      "[CV] activation=sigmoid, batch_size=32, dropout_rate=0.2, epochs=50, init_mode=glorot_normal, optimizer=Adam, weight_constraint=1 \n"
     ]
    },
    {
     "name": "stdout",
     "output_type": "stream",
     "text": [
      "[CV]  activation=sigmoid, batch_size=32, dropout_rate=0.2, epochs=50, init_mode=glorot_normal, optimizer=Adam, weight_constraint=1, total= 2.5min\n",
      "[CV] activation=sigmoid, batch_size=32, dropout_rate=0.2, epochs=50, init_mode=glorot_normal, optimizer=Adam, weight_constraint=1 \n",
      "[CV]  activation=sigmoid, batch_size=32, dropout_rate=0.2, epochs=50, init_mode=glorot_normal, optimizer=Adam, weight_constraint=1, total= 2.8min\n",
      "[CV] activation=sigmoid, batch_size=32, dropout_rate=0.2, epochs=50, init_mode=glorot_normal, optimizer=Adam, weight_constraint=2 \n",
      "[CV]  activation=sigmoid, batch_size=32, dropout_rate=0.2, epochs=50, init_mode=glorot_normal, optimizer=Adam, weight_constraint=2, total= 2.8min\n",
      "[CV] activation=sigmoid, batch_size=32, dropout_rate=0.2, epochs=50, init_mode=glorot_normal, optimizer=Adam, weight_constraint=2 \n",
      "[CV]  activation=sigmoid, batch_size=32, dropout_rate=0.2, epochs=50, init_mode=glorot_normal, optimizer=Adam, weight_constraint=2, total= 2.8min\n",
      "[CV] activation=sigmoid, batch_size=32, dropout_rate=0.2, epochs=50, init_mode=glorot_normal, optimizer=Adam, weight_constraint=2 \n",
      "[CV]  activation=sigmoid, batch_size=32, dropout_rate=0.2, epochs=50, init_mode=glorot_normal, optimizer=Adam, weight_constraint=2, total= 2.3min\n",
      "[CV] activation=sigmoid, batch_size=32, dropout_rate=0.2, epochs=50, init_mode=glorot_uniform, optimizer=SGD, weight_constraint=1 \n",
      "[CV]  activation=sigmoid, batch_size=32, dropout_rate=0.2, epochs=50, init_mode=glorot_uniform, optimizer=SGD, weight_constraint=1, total= 2.7min\n",
      "[CV] activation=sigmoid, batch_size=32, dropout_rate=0.2, epochs=50, init_mode=glorot_uniform, optimizer=SGD, weight_constraint=1 \n",
      "[CV]  activation=sigmoid, batch_size=32, dropout_rate=0.2, epochs=50, init_mode=glorot_uniform, optimizer=SGD, weight_constraint=1, total= 2.7min\n",
      "[CV] activation=sigmoid, batch_size=32, dropout_rate=0.2, epochs=50, init_mode=glorot_uniform, optimizer=SGD, weight_constraint=1 \n",
      "[CV]  activation=sigmoid, batch_size=32, dropout_rate=0.2, epochs=50, init_mode=glorot_uniform, optimizer=SGD, weight_constraint=1, total= 2.6min\n",
      "[CV] activation=sigmoid, batch_size=32, dropout_rate=0.2, epochs=50, init_mode=glorot_uniform, optimizer=SGD, weight_constraint=2 \n",
      "[CV]  activation=sigmoid, batch_size=32, dropout_rate=0.2, epochs=50, init_mode=glorot_uniform, optimizer=SGD, weight_constraint=2, total= 2.6min\n",
      "[CV] activation=sigmoid, batch_size=32, dropout_rate=0.2, epochs=50, init_mode=glorot_uniform, optimizer=SGD, weight_constraint=2 \n",
      "[CV]  activation=sigmoid, batch_size=32, dropout_rate=0.2, epochs=50, init_mode=glorot_uniform, optimizer=SGD, weight_constraint=2, total= 2.8min\n",
      "[CV] activation=sigmoid, batch_size=32, dropout_rate=0.2, epochs=50, init_mode=glorot_uniform, optimizer=SGD, weight_constraint=2 \n",
      "[CV]  activation=sigmoid, batch_size=32, dropout_rate=0.2, epochs=50, init_mode=glorot_uniform, optimizer=SGD, weight_constraint=2, total= 2.4min\n",
      "[CV] activation=sigmoid, batch_size=32, dropout_rate=0.2, epochs=50, init_mode=glorot_uniform, optimizer=Adam, weight_constraint=1 \n",
      "[CV]  activation=sigmoid, batch_size=32, dropout_rate=0.2, epochs=50, init_mode=glorot_uniform, optimizer=Adam, weight_constraint=1, total= 2.7min\n",
      "[CV] activation=sigmoid, batch_size=32, dropout_rate=0.2, epochs=50, init_mode=glorot_uniform, optimizer=Adam, weight_constraint=1 \n",
      "[CV]  activation=sigmoid, batch_size=32, dropout_rate=0.2, epochs=50, init_mode=glorot_uniform, optimizer=Adam, weight_constraint=1, total= 2.6min\n",
      "[CV] activation=sigmoid, batch_size=32, dropout_rate=0.2, epochs=50, init_mode=glorot_uniform, optimizer=Adam, weight_constraint=1 \n",
      "[CV]  activation=sigmoid, batch_size=32, dropout_rate=0.2, epochs=50, init_mode=glorot_uniform, optimizer=Adam, weight_constraint=1, total= 2.9min\n",
      "[CV] activation=sigmoid, batch_size=32, dropout_rate=0.2, epochs=50, init_mode=glorot_uniform, optimizer=Adam, weight_constraint=2 \n",
      "[CV]  activation=sigmoid, batch_size=32, dropout_rate=0.2, epochs=50, init_mode=glorot_uniform, optimizer=Adam, weight_constraint=2, total= 2.4min\n",
      "[CV] activation=sigmoid, batch_size=32, dropout_rate=0.2, epochs=50, init_mode=glorot_uniform, optimizer=Adam, weight_constraint=2 \n",
      "[CV]  activation=sigmoid, batch_size=32, dropout_rate=0.2, epochs=50, init_mode=glorot_uniform, optimizer=Adam, weight_constraint=2, total= 2.9min\n",
      "[CV] activation=sigmoid, batch_size=32, dropout_rate=0.2, epochs=50, init_mode=glorot_uniform, optimizer=Adam, weight_constraint=2 \n",
      "[CV]  activation=sigmoid, batch_size=32, dropout_rate=0.2, epochs=50, init_mode=glorot_uniform, optimizer=Adam, weight_constraint=2, total= 2.5min\n"
     ]
    },
    {
     "name": "stderr",
     "output_type": "stream",
     "text": [
      "[Parallel(n_jobs=1)]: Done 384 out of 384 | elapsed: 907.5min finished\n"
     ]
    }
   ],
   "source": [
    "##Parameter Tuning\n",
    "optimizer = ['SGD', 'Adam']\n",
    "init_mode = ['glorot_normal', 'glorot_uniform']\n",
    "epochs = [30, 50]\n",
    "batch_size = [16, 32]\n",
    "activation = ['relu',  'sigmoid']\n",
    "weight_constraint = [1, 2]\n",
    "dropout_rate = [0.1, 0.2]\n",
    "param_grid = dict(optimizer=optimizer, init_mode=init_mode, epochs=epochs, batch_size=batch_size, activation=activation, dropout_rate=dropout_rate, weight_constraint=weight_constraint)\n",
    "grid = GridSearchCV(estimator=model, param_grid=param_grid, cv=3, n_jobs=1, refit=True, verbose=2)\n",
    "grid_result = grid.fit(x_train, y_train)"
   ]
  },
  {
   "cell_type": "markdown",
   "metadata": {},
   "source": [
    "# <a id='Get the results of all Models and Find the Best One'></a> <u><font color='orange'>Get the results of all Models and Find the Best One</font></u>"
   ]
  },
  {
   "cell_type": "code",
   "execution_count": 10,
   "metadata": {},
   "outputs": [
    {
     "name": "stdout",
     "output_type": "stream",
     "text": [
      "Best: 0.133000 using {'activation': 'relu', 'batch_size': 16, 'dropout_rate': 0.1, 'epochs': 50, 'init_mode': 'glorot_normal', 'optimizer': 'Adam', 'weight_constraint': 2}\n",
      "0.095750 (0.003726) with: {'activation': 'relu', 'batch_size': 16, 'dropout_rate': 0.1, 'epochs': 30, 'init_mode': 'glorot_normal', 'optimizer': 'SGD', 'weight_constraint': 1}\n",
      "0.102125 (0.014167) with: {'activation': 'relu', 'batch_size': 16, 'dropout_rate': 0.1, 'epochs': 30, 'init_mode': 'glorot_normal', 'optimizer': 'SGD', 'weight_constraint': 2}\n",
      "0.118500 (0.008455) with: {'activation': 'relu', 'batch_size': 16, 'dropout_rate': 0.1, 'epochs': 30, 'init_mode': 'glorot_normal', 'optimizer': 'Adam', 'weight_constraint': 1}\n",
      "0.118500 (0.003429) with: {'activation': 'relu', 'batch_size': 16, 'dropout_rate': 0.1, 'epochs': 30, 'init_mode': 'glorot_normal', 'optimizer': 'Adam', 'weight_constraint': 2}\n",
      "0.103875 (0.007170) with: {'activation': 'relu', 'batch_size': 16, 'dropout_rate': 0.1, 'epochs': 30, 'init_mode': 'glorot_uniform', 'optimizer': 'SGD', 'weight_constraint': 1}\n",
      "0.096375 (0.007916) with: {'activation': 'relu', 'batch_size': 16, 'dropout_rate': 0.1, 'epochs': 30, 'init_mode': 'glorot_uniform', 'optimizer': 'SGD', 'weight_constraint': 2}\n",
      "0.119750 (0.003616) with: {'activation': 'relu', 'batch_size': 16, 'dropout_rate': 0.1, 'epochs': 30, 'init_mode': 'glorot_uniform', 'optimizer': 'Adam', 'weight_constraint': 1}\n",
      "0.122125 (0.004483) with: {'activation': 'relu', 'batch_size': 16, 'dropout_rate': 0.1, 'epochs': 30, 'init_mode': 'glorot_uniform', 'optimizer': 'Adam', 'weight_constraint': 2}\n",
      "0.116500 (0.011014) with: {'activation': 'relu', 'batch_size': 16, 'dropout_rate': 0.1, 'epochs': 50, 'init_mode': 'glorot_normal', 'optimizer': 'SGD', 'weight_constraint': 1}\n",
      "0.107625 (0.007118) with: {'activation': 'relu', 'batch_size': 16, 'dropout_rate': 0.1, 'epochs': 50, 'init_mode': 'glorot_normal', 'optimizer': 'SGD', 'weight_constraint': 2}\n",
      "0.127500 (0.007262) with: {'activation': 'relu', 'batch_size': 16, 'dropout_rate': 0.1, 'epochs': 50, 'init_mode': 'glorot_normal', 'optimizer': 'Adam', 'weight_constraint': 1}\n",
      "0.133000 (0.003088) with: {'activation': 'relu', 'batch_size': 16, 'dropout_rate': 0.1, 'epochs': 50, 'init_mode': 'glorot_normal', 'optimizer': 'Adam', 'weight_constraint': 2}\n",
      "0.116625 (0.004044) with: {'activation': 'relu', 'batch_size': 16, 'dropout_rate': 0.1, 'epochs': 50, 'init_mode': 'glorot_uniform', 'optimizer': 'SGD', 'weight_constraint': 1}\n",
      "0.106500 (0.008107) with: {'activation': 'relu', 'batch_size': 16, 'dropout_rate': 0.1, 'epochs': 50, 'init_mode': 'glorot_uniform', 'optimizer': 'SGD', 'weight_constraint': 2}\n",
      "0.123250 (0.004322) with: {'activation': 'relu', 'batch_size': 16, 'dropout_rate': 0.1, 'epochs': 50, 'init_mode': 'glorot_uniform', 'optimizer': 'Adam', 'weight_constraint': 1}\n",
      "0.124750 (0.018499) with: {'activation': 'relu', 'batch_size': 16, 'dropout_rate': 0.1, 'epochs': 50, 'init_mode': 'glorot_uniform', 'optimizer': 'Adam', 'weight_constraint': 2}\n",
      "0.108125 (0.003765) with: {'activation': 'relu', 'batch_size': 16, 'dropout_rate': 0.2, 'epochs': 30, 'init_mode': 'glorot_normal', 'optimizer': 'SGD', 'weight_constraint': 1}\n",
      "0.099500 (0.008492) with: {'activation': 'relu', 'batch_size': 16, 'dropout_rate': 0.2, 'epochs': 30, 'init_mode': 'glorot_normal', 'optimizer': 'SGD', 'weight_constraint': 2}\n",
      "0.114000 (0.010818) with: {'activation': 'relu', 'batch_size': 16, 'dropout_rate': 0.2, 'epochs': 30, 'init_mode': 'glorot_normal', 'optimizer': 'Adam', 'weight_constraint': 1}\n",
      "0.102000 (0.038366) with: {'activation': 'relu', 'batch_size': 16, 'dropout_rate': 0.2, 'epochs': 30, 'init_mode': 'glorot_normal', 'optimizer': 'Adam', 'weight_constraint': 2}\n",
      "0.108625 (0.008955) with: {'activation': 'relu', 'batch_size': 16, 'dropout_rate': 0.2, 'epochs': 30, 'init_mode': 'glorot_uniform', 'optimizer': 'SGD', 'weight_constraint': 1}\n",
      "0.098875 (0.006066) with: {'activation': 'relu', 'batch_size': 16, 'dropout_rate': 0.2, 'epochs': 30, 'init_mode': 'glorot_uniform', 'optimizer': 'SGD', 'weight_constraint': 2}\n",
      "0.123000 (0.014390) with: {'activation': 'relu', 'batch_size': 16, 'dropout_rate': 0.2, 'epochs': 30, 'init_mode': 'glorot_uniform', 'optimizer': 'Adam', 'weight_constraint': 1}\n",
      "0.122625 (0.009506) with: {'activation': 'relu', 'batch_size': 16, 'dropout_rate': 0.2, 'epochs': 30, 'init_mode': 'glorot_uniform', 'optimizer': 'Adam', 'weight_constraint': 2}\n",
      "0.108000 (0.003674) with: {'activation': 'relu', 'batch_size': 16, 'dropout_rate': 0.2, 'epochs': 50, 'init_mode': 'glorot_normal', 'optimizer': 'SGD', 'weight_constraint': 1}\n",
      "0.103125 (0.013444) with: {'activation': 'relu', 'batch_size': 16, 'dropout_rate': 0.2, 'epochs': 50, 'init_mode': 'glorot_normal', 'optimizer': 'SGD', 'weight_constraint': 2}\n",
      "0.125250 (0.004752) with: {'activation': 'relu', 'batch_size': 16, 'dropout_rate': 0.2, 'epochs': 50, 'init_mode': 'glorot_normal', 'optimizer': 'Adam', 'weight_constraint': 1}\n",
      "0.124875 (0.005862) with: {'activation': 'relu', 'batch_size': 16, 'dropout_rate': 0.2, 'epochs': 50, 'init_mode': 'glorot_normal', 'optimizer': 'Adam', 'weight_constraint': 2}\n",
      "0.107375 (0.012910) with: {'activation': 'relu', 'batch_size': 16, 'dropout_rate': 0.2, 'epochs': 50, 'init_mode': 'glorot_uniform', 'optimizer': 'SGD', 'weight_constraint': 1}\n",
      "0.101875 (0.007769) with: {'activation': 'relu', 'batch_size': 16, 'dropout_rate': 0.2, 'epochs': 50, 'init_mode': 'glorot_uniform', 'optimizer': 'SGD', 'weight_constraint': 2}\n",
      "0.124125 (0.009637) with: {'activation': 'relu', 'batch_size': 16, 'dropout_rate': 0.2, 'epochs': 50, 'init_mode': 'glorot_uniform', 'optimizer': 'Adam', 'weight_constraint': 1}\n",
      "0.122250 (0.006148) with: {'activation': 'relu', 'batch_size': 16, 'dropout_rate': 0.2, 'epochs': 50, 'init_mode': 'glorot_uniform', 'optimizer': 'Adam', 'weight_constraint': 2}\n",
      "0.096875 (0.005978) with: {'activation': 'relu', 'batch_size': 32, 'dropout_rate': 0.1, 'epochs': 30, 'init_mode': 'glorot_normal', 'optimizer': 'SGD', 'weight_constraint': 1}\n",
      "0.084250 (0.008395) with: {'activation': 'relu', 'batch_size': 32, 'dropout_rate': 0.1, 'epochs': 30, 'init_mode': 'glorot_normal', 'optimizer': 'SGD', 'weight_constraint': 2}\n",
      "0.105500 (0.004699) with: {'activation': 'relu', 'batch_size': 32, 'dropout_rate': 0.1, 'epochs': 30, 'init_mode': 'glorot_normal', 'optimizer': 'Adam', 'weight_constraint': 1}\n",
      "0.100500 (0.029464) with: {'activation': 'relu', 'batch_size': 32, 'dropout_rate': 0.1, 'epochs': 30, 'init_mode': 'glorot_normal', 'optimizer': 'Adam', 'weight_constraint': 2}\n",
      "0.094125 (0.004013) with: {'activation': 'relu', 'batch_size': 32, 'dropout_rate': 0.1, 'epochs': 30, 'init_mode': 'glorot_uniform', 'optimizer': 'SGD', 'weight_constraint': 1}\n",
      "0.096625 (0.003292) with: {'activation': 'relu', 'batch_size': 32, 'dropout_rate': 0.1, 'epochs': 30, 'init_mode': 'glorot_uniform', 'optimizer': 'SGD', 'weight_constraint': 2}\n",
      "0.112500 (0.015038) with: {'activation': 'relu', 'batch_size': 32, 'dropout_rate': 0.1, 'epochs': 30, 'init_mode': 'glorot_uniform', 'optimizer': 'Adam', 'weight_constraint': 1}\n",
      "0.111375 (0.007185) with: {'activation': 'relu', 'batch_size': 32, 'dropout_rate': 0.1, 'epochs': 30, 'init_mode': 'glorot_uniform', 'optimizer': 'Adam', 'weight_constraint': 2}\n",
      "0.100500 (0.009872) with: {'activation': 'relu', 'batch_size': 32, 'dropout_rate': 0.1, 'epochs': 50, 'init_mode': 'glorot_normal', 'optimizer': 'SGD', 'weight_constraint': 1}\n",
      "0.093125 (0.002753) with: {'activation': 'relu', 'batch_size': 32, 'dropout_rate': 0.1, 'epochs': 50, 'init_mode': 'glorot_normal', 'optimizer': 'SGD', 'weight_constraint': 2}\n",
      "0.127625 (0.004947) with: {'activation': 'relu', 'batch_size': 32, 'dropout_rate': 0.1, 'epochs': 50, 'init_mode': 'glorot_normal', 'optimizer': 'Adam', 'weight_constraint': 1}\n",
      "0.124000 (0.006113) with: {'activation': 'relu', 'batch_size': 32, 'dropout_rate': 0.1, 'epochs': 50, 'init_mode': 'glorot_normal', 'optimizer': 'Adam', 'weight_constraint': 2}\n",
      "0.103875 (0.007970) with: {'activation': 'relu', 'batch_size': 32, 'dropout_rate': 0.1, 'epochs': 50, 'init_mode': 'glorot_uniform', 'optimizer': 'SGD', 'weight_constraint': 1}\n",
      "0.098250 (0.009505) with: {'activation': 'relu', 'batch_size': 32, 'dropout_rate': 0.1, 'epochs': 50, 'init_mode': 'glorot_uniform', 'optimizer': 'SGD', 'weight_constraint': 2}\n",
      "0.114375 (0.006324) with: {'activation': 'relu', 'batch_size': 32, 'dropout_rate': 0.1, 'epochs': 50, 'init_mode': 'glorot_uniform', 'optimizer': 'Adam', 'weight_constraint': 1}\n",
      "0.119375 (0.008174) with: {'activation': 'relu', 'batch_size': 32, 'dropout_rate': 0.1, 'epochs': 50, 'init_mode': 'glorot_uniform', 'optimizer': 'Adam', 'weight_constraint': 2}\n",
      "0.099125 (0.003893) with: {'activation': 'relu', 'batch_size': 32, 'dropout_rate': 0.2, 'epochs': 30, 'init_mode': 'glorot_normal', 'optimizer': 'SGD', 'weight_constraint': 1}\n",
      "0.092875 (0.015985) with: {'activation': 'relu', 'batch_size': 32, 'dropout_rate': 0.2, 'epochs': 30, 'init_mode': 'glorot_normal', 'optimizer': 'SGD', 'weight_constraint': 2}\n",
      "0.109000 (0.004162) with: {'activation': 'relu', 'batch_size': 32, 'dropout_rate': 0.2, 'epochs': 30, 'init_mode': 'glorot_normal', 'optimizer': 'Adam', 'weight_constraint': 1}\n",
      "0.122375 (0.006388) with: {'activation': 'relu', 'batch_size': 32, 'dropout_rate': 0.2, 'epochs': 30, 'init_mode': 'glorot_normal', 'optimizer': 'Adam', 'weight_constraint': 2}\n",
      "0.081625 (0.012647) with: {'activation': 'relu', 'batch_size': 32, 'dropout_rate': 0.2, 'epochs': 30, 'init_mode': 'glorot_uniform', 'optimizer': 'SGD', 'weight_constraint': 1}\n",
      "0.087750 (0.010109) with: {'activation': 'relu', 'batch_size': 32, 'dropout_rate': 0.2, 'epochs': 30, 'init_mode': 'glorot_uniform', 'optimizer': 'SGD', 'weight_constraint': 2}\n",
      "0.091875 (0.025199) with: {'activation': 'relu', 'batch_size': 32, 'dropout_rate': 0.2, 'epochs': 30, 'init_mode': 'glorot_uniform', 'optimizer': 'Adam', 'weight_constraint': 1}\n",
      "0.108125 (0.004984) with: {'activation': 'relu', 'batch_size': 32, 'dropout_rate': 0.2, 'epochs': 30, 'init_mode': 'glorot_uniform', 'optimizer': 'Adam', 'weight_constraint': 2}\n",
      "0.108250 (0.010164) with: {'activation': 'relu', 'batch_size': 32, 'dropout_rate': 0.2, 'epochs': 50, 'init_mode': 'glorot_normal', 'optimizer': 'SGD', 'weight_constraint': 1}\n",
      "0.097875 (0.003836) with: {'activation': 'relu', 'batch_size': 32, 'dropout_rate': 0.2, 'epochs': 50, 'init_mode': 'glorot_normal', 'optimizer': 'SGD', 'weight_constraint': 2}\n",
      "0.125875 (0.006458) with: {'activation': 'relu', 'batch_size': 32, 'dropout_rate': 0.2, 'epochs': 50, 'init_mode': 'glorot_normal', 'optimizer': 'Adam', 'weight_constraint': 1}\n",
      "0.118500 (0.006839) with: {'activation': 'relu', 'batch_size': 32, 'dropout_rate': 0.2, 'epochs': 50, 'init_mode': 'glorot_normal', 'optimizer': 'Adam', 'weight_constraint': 2}\n",
      "0.107125 (0.002911) with: {'activation': 'relu', 'batch_size': 32, 'dropout_rate': 0.2, 'epochs': 50, 'init_mode': 'glorot_uniform', 'optimizer': 'SGD', 'weight_constraint': 1}\n",
      "0.097125 (0.010659) with: {'activation': 'relu', 'batch_size': 32, 'dropout_rate': 0.2, 'epochs': 50, 'init_mode': 'glorot_uniform', 'optimizer': 'SGD', 'weight_constraint': 2}\n",
      "0.118625 (0.003207) with: {'activation': 'relu', 'batch_size': 32, 'dropout_rate': 0.2, 'epochs': 50, 'init_mode': 'glorot_uniform', 'optimizer': 'Adam', 'weight_constraint': 1}\n",
      "0.111000 (0.004012) with: {'activation': 'relu', 'batch_size': 32, 'dropout_rate': 0.2, 'epochs': 50, 'init_mode': 'glorot_uniform', 'optimizer': 'Adam', 'weight_constraint': 2}\n",
      "0.079625 (0.004422) with: {'activation': 'sigmoid', 'batch_size': 16, 'dropout_rate': 0.1, 'epochs': 30, 'init_mode': 'glorot_normal', 'optimizer': 'SGD', 'weight_constraint': 1}\n",
      "0.070750 (0.005129) with: {'activation': 'sigmoid', 'batch_size': 16, 'dropout_rate': 0.1, 'epochs': 30, 'init_mode': 'glorot_normal', 'optimizer': 'SGD', 'weight_constraint': 2}\n",
      "0.089500 (0.004689) with: {'activation': 'sigmoid', 'batch_size': 16, 'dropout_rate': 0.1, 'epochs': 30, 'init_mode': 'glorot_normal', 'optimizer': 'Adam', 'weight_constraint': 1}\n",
      "0.084625 (0.007403) with: {'activation': 'sigmoid', 'batch_size': 16, 'dropout_rate': 0.1, 'epochs': 30, 'init_mode': 'glorot_normal', 'optimizer': 'Adam', 'weight_constraint': 2}\n",
      "0.075000 (0.004634) with: {'activation': 'sigmoid', 'batch_size': 16, 'dropout_rate': 0.1, 'epochs': 30, 'init_mode': 'glorot_uniform', 'optimizer': 'SGD', 'weight_constraint': 1}\n",
      "0.080125 (0.004788) with: {'activation': 'sigmoid', 'batch_size': 16, 'dropout_rate': 0.1, 'epochs': 30, 'init_mode': 'glorot_uniform', 'optimizer': 'SGD', 'weight_constraint': 2}\n",
      "0.090750 (0.005516) with: {'activation': 'sigmoid', 'batch_size': 16, 'dropout_rate': 0.1, 'epochs': 30, 'init_mode': 'glorot_uniform', 'optimizer': 'Adam', 'weight_constraint': 1}\n",
      "0.084500 (0.002839) with: {'activation': 'sigmoid', 'batch_size': 16, 'dropout_rate': 0.1, 'epochs': 30, 'init_mode': 'glorot_uniform', 'optimizer': 'Adam', 'weight_constraint': 2}\n",
      "0.083250 (0.005530) with: {'activation': 'sigmoid', 'batch_size': 16, 'dropout_rate': 0.1, 'epochs': 50, 'init_mode': 'glorot_normal', 'optimizer': 'SGD', 'weight_constraint': 1}\n",
      "0.083125 (0.008050) with: {'activation': 'sigmoid', 'batch_size': 16, 'dropout_rate': 0.1, 'epochs': 50, 'init_mode': 'glorot_normal', 'optimizer': 'SGD', 'weight_constraint': 2}\n",
      "0.087625 (0.010579) with: {'activation': 'sigmoid', 'batch_size': 16, 'dropout_rate': 0.1, 'epochs': 50, 'init_mode': 'glorot_normal', 'optimizer': 'Adam', 'weight_constraint': 1}\n",
      "0.089875 (0.001366) with: {'activation': 'sigmoid', 'batch_size': 16, 'dropout_rate': 0.1, 'epochs': 50, 'init_mode': 'glorot_normal', 'optimizer': 'Adam', 'weight_constraint': 2}\n",
      "0.090875 (0.008228) with: {'activation': 'sigmoid', 'batch_size': 16, 'dropout_rate': 0.1, 'epochs': 50, 'init_mode': 'glorot_uniform', 'optimizer': 'SGD', 'weight_constraint': 1}\n",
      "0.083625 (0.005326) with: {'activation': 'sigmoid', 'batch_size': 16, 'dropout_rate': 0.1, 'epochs': 50, 'init_mode': 'glorot_uniform', 'optimizer': 'SGD', 'weight_constraint': 2}\n",
      "0.097250 (0.001567) with: {'activation': 'sigmoid', 'batch_size': 16, 'dropout_rate': 0.1, 'epochs': 50, 'init_mode': 'glorot_uniform', 'optimizer': 'Adam', 'weight_constraint': 1}\n",
      "0.085875 (0.007698) with: {'activation': 'sigmoid', 'batch_size': 16, 'dropout_rate': 0.1, 'epochs': 50, 'init_mode': 'glorot_uniform', 'optimizer': 'Adam', 'weight_constraint': 2}\n",
      "0.078375 (0.009653) with: {'activation': 'sigmoid', 'batch_size': 16, 'dropout_rate': 0.2, 'epochs': 30, 'init_mode': 'glorot_normal', 'optimizer': 'SGD', 'weight_constraint': 1}\n",
      "0.076250 (0.005258) with: {'activation': 'sigmoid', 'batch_size': 16, 'dropout_rate': 0.2, 'epochs': 30, 'init_mode': 'glorot_normal', 'optimizer': 'SGD', 'weight_constraint': 2}\n",
      "0.092500 (0.007562) with: {'activation': 'sigmoid', 'batch_size': 16, 'dropout_rate': 0.2, 'epochs': 30, 'init_mode': 'glorot_normal', 'optimizer': 'Adam', 'weight_constraint': 1}\n",
      "0.088625 (0.008978) with: {'activation': 'sigmoid', 'batch_size': 16, 'dropout_rate': 0.2, 'epochs': 30, 'init_mode': 'glorot_normal', 'optimizer': 'Adam', 'weight_constraint': 2}\n",
      "0.089500 (0.004973) with: {'activation': 'sigmoid', 'batch_size': 16, 'dropout_rate': 0.2, 'epochs': 30, 'init_mode': 'glorot_uniform', 'optimizer': 'SGD', 'weight_constraint': 1}\n",
      "0.088250 (0.007963) with: {'activation': 'sigmoid', 'batch_size': 16, 'dropout_rate': 0.2, 'epochs': 30, 'init_mode': 'glorot_uniform', 'optimizer': 'SGD', 'weight_constraint': 2}\n",
      "0.090000 (0.001575) with: {'activation': 'sigmoid', 'batch_size': 16, 'dropout_rate': 0.2, 'epochs': 30, 'init_mode': 'glorot_uniform', 'optimizer': 'Adam', 'weight_constraint': 1}\n",
      "0.085875 (0.009224) with: {'activation': 'sigmoid', 'batch_size': 16, 'dropout_rate': 0.2, 'epochs': 30, 'init_mode': 'glorot_uniform', 'optimizer': 'Adam', 'weight_constraint': 2}\n",
      "0.095500 (0.007585) with: {'activation': 'sigmoid', 'batch_size': 16, 'dropout_rate': 0.2, 'epochs': 50, 'init_mode': 'glorot_normal', 'optimizer': 'SGD', 'weight_constraint': 1}\n",
      "0.079625 (0.015884) with: {'activation': 'sigmoid', 'batch_size': 16, 'dropout_rate': 0.2, 'epochs': 50, 'init_mode': 'glorot_normal', 'optimizer': 'SGD', 'weight_constraint': 2}\n",
      "0.101250 (0.011183) with: {'activation': 'sigmoid', 'batch_size': 16, 'dropout_rate': 0.2, 'epochs': 50, 'init_mode': 'glorot_normal', 'optimizer': 'Adam', 'weight_constraint': 1}\n",
      "0.089875 (0.002552) with: {'activation': 'sigmoid', 'batch_size': 16, 'dropout_rate': 0.2, 'epochs': 50, 'init_mode': 'glorot_normal', 'optimizer': 'Adam', 'weight_constraint': 2}\n",
      "0.086625 (0.011241) with: {'activation': 'sigmoid', 'batch_size': 16, 'dropout_rate': 0.2, 'epochs': 50, 'init_mode': 'glorot_uniform', 'optimizer': 'SGD', 'weight_constraint': 1}\n",
      "0.081125 (0.010167) with: {'activation': 'sigmoid', 'batch_size': 16, 'dropout_rate': 0.2, 'epochs': 50, 'init_mode': 'glorot_uniform', 'optimizer': 'SGD', 'weight_constraint': 2}\n",
      "0.100250 (0.011653) with: {'activation': 'sigmoid', 'batch_size': 16, 'dropout_rate': 0.2, 'epochs': 50, 'init_mode': 'glorot_uniform', 'optimizer': 'Adam', 'weight_constraint': 1}\n",
      "0.086000 (0.009512) with: {'activation': 'sigmoid', 'batch_size': 16, 'dropout_rate': 0.2, 'epochs': 50, 'init_mode': 'glorot_uniform', 'optimizer': 'Adam', 'weight_constraint': 2}\n",
      "0.060375 (0.008930) with: {'activation': 'sigmoid', 'batch_size': 32, 'dropout_rate': 0.1, 'epochs': 30, 'init_mode': 'glorot_normal', 'optimizer': 'SGD', 'weight_constraint': 1}\n",
      "0.056625 (0.006936) with: {'activation': 'sigmoid', 'batch_size': 32, 'dropout_rate': 0.1, 'epochs': 30, 'init_mode': 'glorot_normal', 'optimizer': 'SGD', 'weight_constraint': 2}\n",
      "0.082875 (0.008470) with: {'activation': 'sigmoid', 'batch_size': 32, 'dropout_rate': 0.1, 'epochs': 30, 'init_mode': 'glorot_normal', 'optimizer': 'Adam', 'weight_constraint': 1}\n",
      "0.079875 (0.006821) with: {'activation': 'sigmoid', 'batch_size': 32, 'dropout_rate': 0.1, 'epochs': 30, 'init_mode': 'glorot_normal', 'optimizer': 'Adam', 'weight_constraint': 2}\n",
      "0.055250 (0.005415) with: {'activation': 'sigmoid', 'batch_size': 32, 'dropout_rate': 0.1, 'epochs': 30, 'init_mode': 'glorot_uniform', 'optimizer': 'SGD', 'weight_constraint': 1}\n",
      "0.062750 (0.012112) with: {'activation': 'sigmoid', 'batch_size': 32, 'dropout_rate': 0.1, 'epochs': 30, 'init_mode': 'glorot_uniform', 'optimizer': 'SGD', 'weight_constraint': 2}\n",
      "0.087125 (0.001271) with: {'activation': 'sigmoid', 'batch_size': 32, 'dropout_rate': 0.1, 'epochs': 30, 'init_mode': 'glorot_uniform', 'optimizer': 'Adam', 'weight_constraint': 1}\n",
      "0.087375 (0.007821) with: {'activation': 'sigmoid', 'batch_size': 32, 'dropout_rate': 0.1, 'epochs': 30, 'init_mode': 'glorot_uniform', 'optimizer': 'Adam', 'weight_constraint': 2}\n",
      "0.079250 (0.007675) with: {'activation': 'sigmoid', 'batch_size': 32, 'dropout_rate': 0.1, 'epochs': 50, 'init_mode': 'glorot_normal', 'optimizer': 'SGD', 'weight_constraint': 1}\n",
      "0.072375 (0.004249) with: {'activation': 'sigmoid', 'batch_size': 32, 'dropout_rate': 0.1, 'epochs': 50, 'init_mode': 'glorot_normal', 'optimizer': 'SGD', 'weight_constraint': 2}\n",
      "0.090125 (0.007336) with: {'activation': 'sigmoid', 'batch_size': 32, 'dropout_rate': 0.1, 'epochs': 50, 'init_mode': 'glorot_normal', 'optimizer': 'Adam', 'weight_constraint': 1}\n",
      "0.086500 (0.004622) with: {'activation': 'sigmoid', 'batch_size': 32, 'dropout_rate': 0.1, 'epochs': 50, 'init_mode': 'glorot_normal', 'optimizer': 'Adam', 'weight_constraint': 2}\n",
      "0.069875 (0.014967) with: {'activation': 'sigmoid', 'batch_size': 32, 'dropout_rate': 0.1, 'epochs': 50, 'init_mode': 'glorot_uniform', 'optimizer': 'SGD', 'weight_constraint': 1}\n",
      "0.068250 (0.014651) with: {'activation': 'sigmoid', 'batch_size': 32, 'dropout_rate': 0.1, 'epochs': 50, 'init_mode': 'glorot_uniform', 'optimizer': 'SGD', 'weight_constraint': 2}\n",
      "0.094500 (0.005911) with: {'activation': 'sigmoid', 'batch_size': 32, 'dropout_rate': 0.1, 'epochs': 50, 'init_mode': 'glorot_uniform', 'optimizer': 'Adam', 'weight_constraint': 1}\n",
      "0.094125 (0.006925) with: {'activation': 'sigmoid', 'batch_size': 32, 'dropout_rate': 0.1, 'epochs': 50, 'init_mode': 'glorot_uniform', 'optimizer': 'Adam', 'weight_constraint': 2}\n",
      "0.068250 (0.009617) with: {'activation': 'sigmoid', 'batch_size': 32, 'dropout_rate': 0.2, 'epochs': 30, 'init_mode': 'glorot_normal', 'optimizer': 'SGD', 'weight_constraint': 1}\n",
      "0.062875 (0.015860) with: {'activation': 'sigmoid', 'batch_size': 32, 'dropout_rate': 0.2, 'epochs': 30, 'init_mode': 'glorot_normal', 'optimizer': 'SGD', 'weight_constraint': 2}\n",
      "0.081500 (0.008403) with: {'activation': 'sigmoid', 'batch_size': 32, 'dropout_rate': 0.2, 'epochs': 30, 'init_mode': 'glorot_normal', 'optimizer': 'Adam', 'weight_constraint': 1}\n",
      "0.086375 (0.003727) with: {'activation': 'sigmoid', 'batch_size': 32, 'dropout_rate': 0.2, 'epochs': 30, 'init_mode': 'glorot_normal', 'optimizer': 'Adam', 'weight_constraint': 2}\n",
      "0.055000 (0.006467) with: {'activation': 'sigmoid', 'batch_size': 32, 'dropout_rate': 0.2, 'epochs': 30, 'init_mode': 'glorot_uniform', 'optimizer': 'SGD', 'weight_constraint': 1}\n",
      "0.056750 (0.007662) with: {'activation': 'sigmoid', 'batch_size': 32, 'dropout_rate': 0.2, 'epochs': 30, 'init_mode': 'glorot_uniform', 'optimizer': 'SGD', 'weight_constraint': 2}\n",
      "0.093125 (0.003619) with: {'activation': 'sigmoid', 'batch_size': 32, 'dropout_rate': 0.2, 'epochs': 30, 'init_mode': 'glorot_uniform', 'optimizer': 'Adam', 'weight_constraint': 1}\n",
      "0.083875 (0.005230) with: {'activation': 'sigmoid', 'batch_size': 32, 'dropout_rate': 0.2, 'epochs': 30, 'init_mode': 'glorot_uniform', 'optimizer': 'Adam', 'weight_constraint': 2}\n",
      "0.081000 (0.004508) with: {'activation': 'sigmoid', 'batch_size': 32, 'dropout_rate': 0.2, 'epochs': 50, 'init_mode': 'glorot_normal', 'optimizer': 'SGD', 'weight_constraint': 1}\n",
      "0.079875 (0.003322) with: {'activation': 'sigmoid', 'batch_size': 32, 'dropout_rate': 0.2, 'epochs': 50, 'init_mode': 'glorot_normal', 'optimizer': 'SGD', 'weight_constraint': 2}\n",
      "0.088375 (0.008240) with: {'activation': 'sigmoid', 'batch_size': 32, 'dropout_rate': 0.2, 'epochs': 50, 'init_mode': 'glorot_normal', 'optimizer': 'Adam', 'weight_constraint': 1}\n",
      "0.085625 (0.006071) with: {'activation': 'sigmoid', 'batch_size': 32, 'dropout_rate': 0.2, 'epochs': 50, 'init_mode': 'glorot_normal', 'optimizer': 'Adam', 'weight_constraint': 2}\n",
      "0.067125 (0.011716) with: {'activation': 'sigmoid', 'batch_size': 32, 'dropout_rate': 0.2, 'epochs': 50, 'init_mode': 'glorot_uniform', 'optimizer': 'SGD', 'weight_constraint': 1}\n",
      "0.083875 (0.006291) with: {'activation': 'sigmoid', 'batch_size': 32, 'dropout_rate': 0.2, 'epochs': 50, 'init_mode': 'glorot_uniform', 'optimizer': 'SGD', 'weight_constraint': 2}\n",
      "0.088625 (0.005067) with: {'activation': 'sigmoid', 'batch_size': 32, 'dropout_rate': 0.2, 'epochs': 50, 'init_mode': 'glorot_uniform', 'optimizer': 'Adam', 'weight_constraint': 1}\n",
      "0.079500 (0.008924) with: {'activation': 'sigmoid', 'batch_size': 32, 'dropout_rate': 0.2, 'epochs': 50, 'init_mode': 'glorot_uniform', 'optimizer': 'Adam', 'weight_constraint': 2}\n"
     ]
    }
   ],
   "source": [
    "##Get all models results and find the best one.\n",
    "print(\"Best: %f using %s\" % (grid_result.best_score_, grid_result.best_params_))\n",
    "means = grid_result.cv_results_['mean_test_score']\n",
    "stds = grid_result.cv_results_['std_test_score']\n",
    "params = grid_result.cv_results_['params']\n",
    "for mean, stdev, param in zip(means, stds, params):\n",
    "    print(\"%f (%f) with: %r\" % (mean, stdev, param))"
   ]
  },
  {
   "cell_type": "code",
   "execution_count": 15,
   "metadata": {},
   "outputs": [],
   "source": [
    "##Parameter Grid for neurons in level 1 with all the previous parameters now fixed with the numbers from the previous best model.\n",
    "def create_model(neurons=1):\n",
    "    model = Sequential()\n",
    "    model.add(Dense(neurons, input_shape=(vocab_size,), activation = 'relu', kernel_initializer = 'glorot_normal', kernel_constraint=maxnorm(2)))\n",
    "    model.add(Dropout(0.1))\n",
    "    model.add(Dense(1, kernel_initializer = 'glorot_normal', activation= 'relu'))\n",
    "    model.add(Dropout(0.1))\n",
    "    model.add(Dense(num_labels))\n",
    "    model.add(Activation('softmax'))\n",
    "    \n",
    "    # Compile model\n",
    "    model.compile(loss = 'categorical_crossentropy',\n",
    "              optimizer = 'adam',\n",
    "              metrics = [metrics.categorical_accuracy, 'accuracy'])\n",
    "    return model"
   ]
  },
  {
   "cell_type": "code",
   "execution_count": 16,
   "metadata": {},
   "outputs": [],
   "source": [
    "# Fix random seed for reproducibility\n",
    "seed = 7\n",
    "np.random.seed(seed)\n",
    "\n",
    "# Define the model\n",
    "model = KerasClassifier(build_fn=create_model, batch_size=16, epochs=50, verbose=0)"
   ]
  },
  {
   "cell_type": "code",
   "execution_count": 21,
   "metadata": {},
   "outputs": [
    {
     "name": "stdout",
     "output_type": "stream",
     "text": [
      "Fitting 3 folds for each of 1 candidates, totalling 3 fits\n",
      "[CV] neurons=2048 ....................................................\n",
      "[CV] ..................................... neurons=2048, total=12.4min\n",
      "[CV] neurons=2048 ....................................................\n"
     ]
    },
    {
     "name": "stderr",
     "output_type": "stream",
     "text": [
      "[Parallel(n_jobs=1)]: Done   1 out of   1 | elapsed: 12.5min remaining:    0.0s\n"
     ]
    },
    {
     "name": "stdout",
     "output_type": "stream",
     "text": [
      "[CV] ..................................... neurons=2048, total=12.4min\n",
      "[CV] neurons=2048 ....................................................\n",
      "[CV] ..................................... neurons=2048, total=12.4min\n"
     ]
    },
    {
     "name": "stderr",
     "output_type": "stream",
     "text": [
      "[Parallel(n_jobs=1)]: Done   3 out of   3 | elapsed: 37.5min finished\n"
     ]
    }
   ],
   "source": [
    "##Parameter Tuning\n",
    "neurons = [512, 1024, 2048]\n",
    "param_grid = dict(neurons=neurons)\n",
    "grid = GridSearchCV(estimator=model, param_grid=param_grid, n_jobs=1, refit=True, verbose=2)\n",
    "grid_result = grid.fit(x_train, y_train)"
   ]
  },
  {
   "cell_type": "code",
   "execution_count": 22,
   "metadata": {},
   "outputs": [
    {
     "name": "stdout",
     "output_type": "stream",
     "text": [
      "Best: 0.061000 using {'neurons': 2048}\n",
      "0.061000 (0.003348) with: {'neurons': 2048}\n"
     ]
    }
   ],
   "source": [
    "##Get all models results and find the best one.\n",
    "print(\"Best: %f using %s\" % (grid_result.best_score_, grid_result.best_params_))\n",
    "means = grid_result.cv_results_['mean_test_score']\n",
    "stds = grid_result.cv_results_['std_test_score']\n",
    "params = grid_result.cv_results_['params']\n",
    "for mean, stdev, param in zip(means, stds, params):\n",
    "    print(\"%f (%f) with: %r\" % (mean, stdev, param))"
   ]
  },
  {
   "cell_type": "code",
   "execution_count": 23,
   "metadata": {},
   "outputs": [],
   "source": [
    "####Parameter Grid for neurons in level 2 with all the previous parameters now fixed.\n",
    "def create_model(neurons=1):\n",
    "    model = Sequential()\n",
    "    model.add(Dense(512, input_shape=(vocab_size,), activation = 'relu', kernel_initializer = 'glorot_normal', kernel_constraint=maxnorm(2)))\n",
    "    model.add(Dropout(0.1))\n",
    "    model.add(Dense(neurons, kernel_initializer = 'glorot_normal', activation= 'relu'))\n",
    "    model.add(Dropout(0.1))\n",
    "    model.add(Dense(num_labels))\n",
    "    model.add(Activation('softmax'))\n",
    "    \n",
    "    # Compile model\n",
    "    model.compile(loss = 'categorical_crossentropy',\n",
    "              optimizer = 'adam',\n",
    "              metrics = [metrics.categorical_accuracy, 'accuracy'])\n",
    "    return model"
   ]
  },
  {
   "cell_type": "code",
   "execution_count": 24,
   "metadata": {},
   "outputs": [],
   "source": [
    "# Fix random seed for reproducibility\n",
    "seed = 7\n",
    "np.random.seed(seed)\n",
    "\n",
    "# Define the model\n",
    "model = KerasClassifier(build_fn=create_model, batch_size=16, epochs=50, verbose=0)"
   ]
  },
  {
   "cell_type": "code",
   "execution_count": 25,
   "metadata": {},
   "outputs": [
    {
     "name": "stdout",
     "output_type": "stream",
     "text": [
      "Fitting 3 folds for each of 3 candidates, totalling 9 fits\n",
      "[CV] neurons=512 .....................................................\n",
      "[CV] ...................................... neurons=512, total= 7.3min\n",
      "[CV] neurons=512 .....................................................\n"
     ]
    },
    {
     "name": "stderr",
     "output_type": "stream",
     "text": [
      "[Parallel(n_jobs=1)]: Done   1 out of   1 | elapsed:  7.4min remaining:    0.0s\n"
     ]
    },
    {
     "name": "stdout",
     "output_type": "stream",
     "text": [
      "[CV] ...................................... neurons=512, total= 6.8min\n",
      "[CV] neurons=512 .....................................................\n",
      "[CV] ...................................... neurons=512, total= 7.8min\n",
      "[CV] neurons=1024 ....................................................\n",
      "[CV] ..................................... neurons=1024, total= 9.7min\n",
      "[CV] neurons=1024 ....................................................\n",
      "[CV] ..................................... neurons=1024, total=12.7min\n",
      "[CV] neurons=1024 ....................................................\n",
      "[CV] ..................................... neurons=1024, total=15.0min\n",
      "[CV] neurons=2048 ....................................................\n",
      "[CV] ..................................... neurons=2048, total=10.0min\n",
      "[CV] neurons=2048 ....................................................\n",
      "[CV] ..................................... neurons=2048, total=10.6min\n",
      "[CV] neurons=2048 ....................................................\n",
      "[CV] ..................................... neurons=2048, total=13.7min\n"
     ]
    },
    {
     "name": "stderr",
     "output_type": "stream",
     "text": [
      "[Parallel(n_jobs=1)]: Done   9 out of   9 | elapsed: 94.8min finished\n"
     ]
    }
   ],
   "source": [
    "##Parameter Tuning\n",
    "neurons = [512, 1024, 2048]\n",
    "param_grid = dict(neurons=neurons)\n",
    "grid = GridSearchCV(estimator=model, param_grid=param_grid, n_jobs=1, refit=True, verbose=2)\n",
    "grid_result = grid.fit(x_train, y_train)"
   ]
  },
  {
   "cell_type": "code",
   "execution_count": 26,
   "metadata": {},
   "outputs": [
    {
     "name": "stdout",
     "output_type": "stream",
     "text": [
      "Best: 0.557125 using {'neurons': 1024}\n",
      "0.546625 (0.012304) with: {'neurons': 512}\n",
      "0.557125 (0.004382) with: {'neurons': 1024}\n",
      "0.531000 (0.000619) with: {'neurons': 2048}\n"
     ]
    }
   ],
   "source": [
    "##Get all models results and find the best one.\n",
    "print(\"Best: %f using %s\" % (grid_result.best_score_, grid_result.best_params_))\n",
    "means = grid_result.cv_results_['mean_test_score']\n",
    "stds = grid_result.cv_results_['std_test_score']\n",
    "params = grid_result.cv_results_['params']\n",
    "for mean, stdev, param in zip(means, stds, params):\n",
    "    print(\"%f (%f) with: %r\" % (mean, stdev, param))"
   ]
  },
  {
   "cell_type": "code",
   "execution_count": 27,
   "metadata": {},
   "outputs": [],
   "source": [
    "##Parameter grid for the optimizer function with all other parameters fixed\n",
    "def create_model(optimizer='adam'):\n",
    "    model = Sequential()\n",
    "    model.add(Dense(512, input_shape=(vocab_size,), activation = 'relu', kernel_initializer = 'glorot_normal', kernel_constraint=maxnorm(2)))\n",
    "    model.add(Dropout(0.1))\n",
    "    model.add(Dense(1024, kernel_initializer = 'glorot_normal', activation= 'relu'))\n",
    "    model.add(Dropout(0.1))\n",
    "    model.add(Dense(num_labels))\n",
    "    model.add(Activation('softmax'))\n",
    "    \n",
    "    # Compile model\n",
    "    model.compile(loss = 'categorical_crossentropy',\n",
    "              optimizer = optimizer,\n",
    "              metrics = [metrics.categorical_accuracy, 'accuracy'])\n",
    "    return model"
   ]
  },
  {
   "cell_type": "code",
   "execution_count": 28,
   "metadata": {},
   "outputs": [],
   "source": [
    "# Fix random seed for reproducibility\n",
    "seed = 7\n",
    "np.random.seed(seed)\n",
    "\n",
    "# Define the model\n",
    "model = KerasClassifier(build_fn=create_model, batch_size=16, epochs=50, verbose=0)"
   ]
  },
  {
   "cell_type": "code",
   "execution_count": 29,
   "metadata": {
    "scrolled": true
   },
   "outputs": [
    {
     "name": "stdout",
     "output_type": "stream",
     "text": [
      "Fitting 3 folds for each of 1 candidates, totalling 3 fits\n",
      "[CV] optimizer=SGD ...................................................\n",
      "[CV] .................................... optimizer=SGD, total= 6.6min\n",
      "[CV] optimizer=SGD ...................................................\n"
     ]
    },
    {
     "name": "stderr",
     "output_type": "stream",
     "text": [
      "[Parallel(n_jobs=1)]: Done   1 out of   1 | elapsed:  6.7min remaining:    0.0s\n"
     ]
    },
    {
     "name": "stdout",
     "output_type": "stream",
     "text": [
      "[CV] .................................... optimizer=SGD, total= 7.5min\n",
      "[CV] optimizer=SGD ...................................................\n",
      "[CV] .................................... optimizer=SGD, total= 7.0min\n"
     ]
    },
    {
     "name": "stderr",
     "output_type": "stream",
     "text": [
      "[Parallel(n_jobs=1)]: Done   3 out of   3 | elapsed: 21.4min finished\n"
     ]
    }
   ],
   "source": [
    "##Parameter Tuning\n",
    "optimizer = ['SGD']\n",
    "param_grid = dict(optimizer=optimizer)\n",
    "grid = GridSearchCV(estimator=model, param_grid=param_grid, n_jobs=1, refit=True, verbose=2)\n",
    "grid_result = grid.fit(x_train, y_train)"
   ]
  },
  {
   "cell_type": "code",
   "execution_count": 30,
   "metadata": {},
   "outputs": [
    {
     "name": "stdout",
     "output_type": "stream",
     "text": [
      "Best: 0.617625 using {'optimizer': 'SGD'}\n",
      "0.617625 (0.004190) with: {'optimizer': 'SGD'}\n"
     ]
    }
   ],
   "source": [
    "##Get all models results and find the best one.\n",
    "print(\"Best: %f using %s\" % (grid_result.best_score_, grid_result.best_params_))\n",
    "means = grid_result.cv_results_['mean_test_score']\n",
    "stds = grid_result.cv_results_['std_test_score']\n",
    "params = grid_result.cv_results_['params']\n",
    "for mean, stdev, param in zip(means, stds, params):\n",
    "    print(\"%f (%f) with: %r\" % (mean, stdev, param))"
   ]
  },
  {
   "cell_type": "code",
   "execution_count": 31,
   "metadata": {},
   "outputs": [],
   "source": [
    "##Parameter grid for the 1st Level neurons with all other parameters fixed(this time 2nd Level neurons=1024)\n",
    "def create_model(neurons=1):\n",
    "    model = Sequential()\n",
    "    model.add(Dense(neurons, input_shape=(vocab_size,), activation = 'relu', kernel_initializer = 'glorot_normal', kernel_constraint=maxnorm(2)))\n",
    "    model.add(Dropout(0.1))\n",
    "    model.add(Dense(1024, kernel_initializer = 'glorot_normal', activation= 'relu'))\n",
    "    model.add(Dropout(0.1))\n",
    "    model.add(Dense(num_labels))\n",
    "    model.add(Activation('softmax'))\n",
    "    \n",
    "    # Compile model\n",
    "    model.compile(loss = 'categorical_crossentropy',\n",
    "              optimizer = 'SGD',\n",
    "              metrics = [metrics.categorical_accuracy, 'accuracy'])\n",
    "    return model"
   ]
  },
  {
   "cell_type": "code",
   "execution_count": 32,
   "metadata": {},
   "outputs": [],
   "source": [
    "# Fix random seed for reproducibility\n",
    "seed = 7\n",
    "np.random.seed(seed)\n",
    "\n",
    "# Define the model\n",
    "model = KerasClassifier(build_fn=create_model, batch_size=16, epochs=50, verbose=0)"
   ]
  },
  {
   "cell_type": "code",
   "execution_count": 33,
   "metadata": {
    "scrolled": true
   },
   "outputs": [
    {
     "name": "stdout",
     "output_type": "stream",
     "text": [
      "Fitting 3 folds for each of 2 candidates, totalling 6 fits\n",
      "[CV] neurons=1024 ....................................................\n",
      "[CV] ..................................... neurons=1024, total= 9.7min\n",
      "[CV] neurons=1024 ....................................................\n"
     ]
    },
    {
     "name": "stderr",
     "output_type": "stream",
     "text": [
      "[Parallel(n_jobs=1)]: Done   1 out of   1 | elapsed:  9.8min remaining:    0.0s\n"
     ]
    },
    {
     "name": "stdout",
     "output_type": "stream",
     "text": [
      "[CV] ..................................... neurons=1024, total= 8.7min\n",
      "[CV] neurons=1024 ....................................................\n",
      "[CV] ..................................... neurons=1024, total= 9.4min\n",
      "[CV] neurons=2048 ....................................................\n",
      "[CV] ..................................... neurons=2048, total=13.1min\n",
      "[CV] neurons=2048 ....................................................\n",
      "[CV] ..................................... neurons=2048, total=19.1min\n",
      "[CV] neurons=2048 ....................................................\n",
      "[CV] ..................................... neurons=2048, total=18.6min\n"
     ]
    },
    {
     "name": "stderr",
     "output_type": "stream",
     "text": [
      "[Parallel(n_jobs=1)]: Done   6 out of   6 | elapsed: 79.4min finished\n"
     ]
    }
   ],
   "source": [
    "##Parameter Tuning\n",
    "neurons = [1024, 2048]\n",
    "param_grid = dict(neurons=neurons)\n",
    "grid = GridSearchCV(estimator=model, param_grid=param_grid, n_jobs=1, refit=True, verbose=2)\n",
    "grid_result = grid.fit(x_train, y_train)"
   ]
  },
  {
   "cell_type": "code",
   "execution_count": 34,
   "metadata": {},
   "outputs": [
    {
     "name": "stdout",
     "output_type": "stream",
     "text": [
      "Best: 0.631125 using {'neurons': 2048}\n",
      "0.621750 (0.005634) with: {'neurons': 1024}\n",
      "0.631125 (0.004124) with: {'neurons': 2048}\n"
     ]
    }
   ],
   "source": [
    "##Get all models results and find the best one.\n",
    "print(\"Best: %f using %s\" % (grid_result.best_score_, grid_result.best_params_))\n",
    "means = grid_result.cv_results_['mean_test_score']\n",
    "stds = grid_result.cv_results_['std_test_score']\n",
    "params = grid_result.cv_results_['params']\n",
    "for mean, stdev, param in zip(means, stds, params):\n",
    "    print(\"%f (%f) with: %r\" % (mean, stdev, param))"
   ]
  },
  {
   "cell_type": "code",
   "execution_count": 35,
   "metadata": {},
   "outputs": [],
   "source": [
    "##Parameter grid for batch_size numbers(searching for potentian improvment)\n",
    "def create_model():\n",
    "    model = Sequential()\n",
    "    model.add(Dense(2048, input_shape=(vocab_size,), activation = 'relu', kernel_initializer = 'glorot_normal', kernel_constraint=maxnorm(2)))\n",
    "    model.add(Dropout(0.1))\n",
    "    model.add(Dense(1024, kernel_initializer = 'glorot_normal', activation= 'relu'))\n",
    "    model.add(Dropout(0.1))\n",
    "    model.add(Dense(num_labels))\n",
    "    model.add(Activation('softmax'))\n",
    "    \n",
    "    # Compile model\n",
    "    model.compile(loss = 'categorical_crossentropy',\n",
    "              optimizer = 'SGD',\n",
    "              metrics = [metrics.categorical_accuracy, 'accuracy'])\n",
    "    return model"
   ]
  },
  {
   "cell_type": "code",
   "execution_count": 36,
   "metadata": {},
   "outputs": [],
   "source": [
    "# Fix random seed for reproducibility\n",
    "seed = 7\n",
    "np.random.seed(seed)\n",
    "\n",
    "# Define the model\n",
    "model = KerasClassifier(build_fn=create_model, epochs=50, verbose=0)"
   ]
  },
  {
   "cell_type": "code",
   "execution_count": 37,
   "metadata": {},
   "outputs": [
    {
     "name": "stdout",
     "output_type": "stream",
     "text": [
      "Fitting 3 folds for each of 2 candidates, totalling 6 fits\n",
      "[CV] batch_size=32 ...................................................\n",
      "[CV] .................................... batch_size=32, total= 9.4min\n",
      "[CV] batch_size=32 ...................................................\n"
     ]
    },
    {
     "name": "stderr",
     "output_type": "stream",
     "text": [
      "[Parallel(n_jobs=1)]: Done   1 out of   1 | elapsed:  9.5min remaining:    0.0s\n"
     ]
    },
    {
     "name": "stdout",
     "output_type": "stream",
     "text": [
      "[CV] .................................... batch_size=32, total=12.0min\n",
      "[CV] batch_size=32 ...................................................\n",
      "[CV] .................................... batch_size=32, total= 8.7min\n",
      "[CV] batch_size=64 ...................................................\n",
      "[CV] .................................... batch_size=64, total= 5.4min\n",
      "[CV] batch_size=64 ...................................................\n",
      "[CV] .................................... batch_size=64, total= 4.7min\n",
      "[CV] batch_size=64 ...................................................\n",
      "[CV] .................................... batch_size=64, total= 4.8min\n"
     ]
    },
    {
     "name": "stderr",
     "output_type": "stream",
     "text": [
      "[Parallel(n_jobs=1)]: Done   6 out of   6 | elapsed: 45.5min finished\n"
     ]
    }
   ],
   "source": [
    "##Parameter Tuning\n",
    "batch_size = [32, 64]\n",
    "param_grid = dict(batch_size=batch_size)\n",
    "grid = GridSearchCV(estimator=model, param_grid=param_grid, n_jobs=1, refit=True, verbose=2)\n",
    "grid_result = grid.fit(x_train, y_train)"
   ]
  },
  {
   "cell_type": "code",
   "execution_count": 38,
   "metadata": {},
   "outputs": [
    {
     "name": "stdout",
     "output_type": "stream",
     "text": [
      "Best: 0.633500 using {'batch_size': 32}\n",
      "0.633500 (0.004691) with: {'batch_size': 32}\n",
      "0.630375 (0.001017) with: {'batch_size': 64}\n"
     ]
    }
   ],
   "source": [
    "##Get all models results and find the best one.\n",
    "print(\"Best: %f using %s\" % (grid_result.best_score_, grid_result.best_params_))\n",
    "means = grid_result.cv_results_['mean_test_score']\n",
    "stds = grid_result.cv_results_['std_test_score']\n",
    "params = grid_result.cv_results_['params']\n",
    "for mean, stdev, param in zip(means, stds, params):\n",
    "    print(\"%f (%f) with: %r\" % (mean, stdev, param))"
   ]
  },
  {
   "cell_type": "code",
   "execution_count": 46,
   "metadata": {},
   "outputs": [],
   "source": [
    "##Parameter grid for the 1st Level neurons(for the value 4096 only) with all other parameters fixed.\n",
    "def create_model(neurons=1):\n",
    "    model = Sequential()\n",
    "    model.add(Dense(neurons, input_shape=(vocab_size,), activation = 'relu', kernel_initializer = 'glorot_normal', kernel_constraint=maxnorm(2)))\n",
    "    model.add(Dropout(0.1))\n",
    "    model.add(Dense(1024, kernel_initializer = 'glorot_normal', activation= 'relu'))\n",
    "    model.add(Dropout(0.1))\n",
    "    model.add(Dense(num_labels))\n",
    "    model.add(Activation('softmax'))\n",
    "    \n",
    "    # Compile model\n",
    "    model.compile(loss = 'categorical_crossentropy',\n",
    "              optimizer = 'SGD',\n",
    "              metrics = [metrics.categorical_accuracy, 'accuracy'])\n",
    "    return model"
   ]
  },
  {
   "cell_type": "code",
   "execution_count": 47,
   "metadata": {},
   "outputs": [],
   "source": [
    "# Fix random seed for reproducibility\n",
    "seed = 7\n",
    "np.random.seed(seed)\n",
    "\n",
    "# Define the model\n",
    "model = KerasClassifier(build_fn=create_model, epochs=50, batch_size=32, verbose=0)"
   ]
  },
  {
   "cell_type": "code",
   "execution_count": 48,
   "metadata": {},
   "outputs": [
    {
     "name": "stdout",
     "output_type": "stream",
     "text": [
      "Fitting 3 folds for each of 1 candidates, totalling 3 fits\n",
      "[CV] neurons=4096 ....................................................\n",
      "[CV] ..................................... neurons=4096, total=12.7min\n",
      "[CV] neurons=4096 ....................................................\n"
     ]
    },
    {
     "name": "stderr",
     "output_type": "stream",
     "text": [
      "[Parallel(n_jobs=1)]: Done   1 out of   1 | elapsed: 12.8min remaining:    0.0s\n"
     ]
    },
    {
     "name": "stdout",
     "output_type": "stream",
     "text": [
      "[CV] ..................................... neurons=4096, total=12.7min\n",
      "[CV] neurons=4096 ....................................................\n",
      "[CV] ..................................... neurons=4096, total=12.7min\n"
     ]
    },
    {
     "name": "stderr",
     "output_type": "stream",
     "text": [
      "[Parallel(n_jobs=1)]: Done   3 out of   3 | elapsed: 38.4min finished\n"
     ]
    }
   ],
   "source": [
    "##Parameter Tuning\n",
    "neurons = [4096]\n",
    "param_grid = dict(neurons=neurons)\n",
    "grid = GridSearchCV(estimator=model, param_grid=param_grid, n_jobs=1, refit=True, verbose=2)\n",
    "grid_result = grid.fit(x_train, y_train)"
   ]
  },
  {
   "cell_type": "code",
   "execution_count": 49,
   "metadata": {},
   "outputs": [
    {
     "name": "stdout",
     "output_type": "stream",
     "text": [
      "Best: 0.635000 using {'neurons': 4096}\n",
      "0.635000 (0.002783) with: {'neurons': 4096}\n"
     ]
    }
   ],
   "source": [
    "##Get all models results and find the best one.\n",
    "print(\"Best: %f using %s\" % (grid_result.best_score_, grid_result.best_params_))\n",
    "means = grid_result.cv_results_['mean_test_score']\n",
    "stds = grid_result.cv_results_['std_test_score']\n",
    "params = grid_result.cv_results_['params']\n",
    "for mean, stdev, param in zip(means, stds, params):\n",
    "    print(\"%f (%f) with: %r\" % (mean, stdev, param))"
   ]
  }
 ],
 "metadata": {
  "kernelspec": {
   "display_name": "Python 3",
   "language": "python",
   "name": "python3"
  },
  "language_info": {
   "codemirror_mode": {
    "name": "ipython",
    "version": 3
   },
   "file_extension": ".py",
   "mimetype": "text/x-python",
   "name": "python",
   "nbconvert_exporter": "python",
   "pygments_lexer": "ipython3",
   "version": "3.6.4"
  }
 },
 "nbformat": 4,
 "nbformat_minor": 2
}
