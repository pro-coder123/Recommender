{
 "cells": [
  {
   "cell_type": "code",
   "execution_count": 3,
   "metadata": {},
   "outputs": [],
   "source": [
    "##Libraries\n",
    "import pandas as pd\n",
    "import numpy as np\n",
    "from sklearn import preprocessing\n",
    "import matplotlib.pyplot as plt \n",
    "plt.rc(\"font\", size=14)\n",
    "from sklearn.linear_model import LogisticRegression\n",
    "from sklearn.cross_validation import train_test_split\n",
    "import seaborn as sns\n",
    "sns.set(style=\"white\")\n",
    "sns.set(style=\"whitegrid\", color_codes=True)\n",
    "import os"
   ]
  },
  {
   "cell_type": "code",
   "execution_count": 4,
   "metadata": {},
   "outputs": [],
   "source": [
    "##Load the file\n",
    "path = '/Users/leonidas/Documents/GitHub/Deep-Learning-Project/Results/'\n",
    "filename = '25_cleaned_job_descriptions.csv'\n",
    "data = pd.read_csv(os.path.join(path, filename), header = 0, names = ['Query', 'Description'])"
   ]
  },
  {
   "cell_type": "code",
   "execution_count": 15,
   "metadata": {},
   "outputs": [],
   "source": [
    "##In logistic regression models, encoding all of the independent variables as dummy variables allows easy interpretation and calculation of the odds ratios, and increases the stability and significance of the coefficients.\n",
    "data2 = pd.get_dummies(data, columns =['Description'])"
   ]
  },
  {
   "cell_type": "code",
   "execution_count": 16,
   "metadata": {},
   "outputs": [],
   "source": [
    "##Split the data into training and test sets\n",
    "X = data2.iloc[:,1:]\n",
    "y = data2.iloc[:,0]\n",
    "X_train, X_test, y_train, y_test = train_test_split(X, y, random_state=0)"
   ]
  },
  {
   "cell_type": "code",
   "execution_count": 21,
   "metadata": {},
   "outputs": [
    {
     "data": {
      "text/plain": [
       "(7500, 9367)"
      ]
     },
     "execution_count": 21,
     "metadata": {},
     "output_type": "execute_result"
    }
   ],
   "source": [
    "##Check out training data is sufficient\n",
    "X_train.shape"
   ]
  },
  {
   "cell_type": "code",
   "execution_count": 17,
   "metadata": {},
   "outputs": [
    {
     "data": {
      "text/plain": [
       "LogisticRegression(C=1.0, class_weight=None, dual=False, fit_intercept=True,\n",
       "          intercept_scaling=1, max_iter=100, multi_class='ovr', n_jobs=1,\n",
       "          penalty='l2', random_state=0, solver='liblinear', tol=0.0001,\n",
       "          verbose=0, warm_start=False)"
      ]
     },
     "execution_count": 17,
     "metadata": {},
     "output_type": "execute_result"
    }
   ],
   "source": [
    "##Fit logistic regression to the training set\n",
    "classifier = LogisticRegression(random_state=0)\n",
    "classifier.fit(X_train, y_train)"
   ]
  },
  {
   "cell_type": "code",
   "execution_count": 18,
   "metadata": {
    "scrolled": true
   },
   "outputs": [
    {
     "name": "stdout",
     "output_type": "stream",
     "text": [
      "[[  3   0   0   0  91   0   0   0   0   0   0   0   0   0   0   0   0   0\n",
      "    0   0   2   0   0   0   0]\n",
      " [  2   2   0   0  83   0   0   0   2   0   0   0   0   0   0   0   0   0\n",
      "    0   0   0   0   0   0   0]\n",
      " [  0   0   0   0 113   0   0   0   0   0   0   0   0   0   0   0   0   0\n",
      "    0   1   0   0   0   0   0]\n",
      " [  0   0   1   0 102   0   0   0   0   0   0   0   0   0   0   0   0   0\n",
      "    0   0   0   0   0   0   0]\n",
      " [  0   0   0   0 115   0   0   0   0   0   0   0   0   0   0   0   0   0\n",
      "    0   0   0   3   0   0   0]\n",
      " [  1   0   0   0  82  20   0   0   0   0   0   0   0   0   0   0   0   1\n",
      "    0   0   0   0   0   0   0]\n",
      " [  0   0   0   1  81   0   1   0   0   0   0   0   1   0   0   0   0   0\n",
      "    0   0   0   0   1   0   0]\n",
      " [  0   0   0   0  93   0   0   5   0   0   0   0   1   0   0   0   0   0\n",
      "    0   0   0   0   0   0   0]\n",
      " [  0   0   0   0  93   0   0   0   0   0   0   0   0   0   0   0   0   0\n",
      "    0   0   0   0   0   0   0]\n",
      " [  0   0   0   0  86   0   0   0   0   1   0   0   0   0   0   0   0   0\n",
      "    0   0   0   0   0   0   0]\n",
      " [  0   0   0   0 104   0   1   0   0   0   2   0   0   0   0   0   0   0\n",
      "    0   0   0   0   0   0   0]\n",
      " [  2   1   0   0  90   0   0   0   0   0   1   0   0   0   0   0   0   0\n",
      "    0   0   0   0   0   0   0]\n",
      " [  0   0   0   0  97   0   0   0   0   0   0   0   6   0   0   0   0   0\n",
      "    0   0   0   0   0   0   0]\n",
      " [  0   0   0   0  92   0   0   0   0   0   0   0   0   3   0   0   0   0\n",
      "    0   0   0   0   0   0   0]\n",
      " [  0   0   0   0 101   0   0   0   0   0   0   0   0   0   1   0   0   0\n",
      "    0   0   0   0   0   0   0]\n",
      " [  0   0   0   0  78   0   0   0   0   0   0   0   0   0   0  32   0   0\n",
      "    0   0   0   0   0   0   0]\n",
      " [  0   0   0   0  88   0   0   0   0   0   0   0   0   0   0   0   9   0\n",
      "    0   0   0   0   0   0   0]\n",
      " [  0   0   0   0  76   0   0   0   0   0   0   0   0   0   0   0   0  33\n",
      "    0   0   0   0   0   0   0]\n",
      " [  0   0   0   0  99   0   0   0   0   0   0   0   0   0   0   0   0   0\n",
      "    3   0   0   0   0   0   0]\n",
      " [  0   0   0   0  96   0   0   0   0   0   0   0   0   0   0   0   0   0\n",
      "    0   2   0   0   0   0   0]\n",
      " [  0   0   0   0  82   0   0   0   0   0   0   0   0   0   0   0   0   0\n",
      "    0   0   4   0   0   0   0]\n",
      " [  0   0   0   0  68   0   0   0   0   0   0   0   0   0   0   0   0   0\n",
      "    0   0   0  52   0   0   0]\n",
      " [  0   0   1   0  89   0   1   0   0   0   0   0   0   0   0   0   0   0\n",
      "    0   0   0   0   1   0   0]\n",
      " [  0   0   0   0 108   0   0   0   0   0   0   0   0   0   0   0   0   0\n",
      "    0   0   0   0   0   6   0]\n",
      " [  0   0   0   0  80   0   0   0   0   0   0   0   0   0   0   0   0   0\n",
      "    0   0   0   0   0   0   3]]\n"
     ]
    }
   ],
   "source": [
    "##Predicting the test set results and creating confusion matrix\n",
    "y_pred = classifier.predict(X_test)\n",
    "from sklearn.metrics import confusion_matrix\n",
    "confusion_matrix = confusion_matrix(y_test, y_pred)\n",
    "print(confusion_matrix)"
   ]
  },
  {
   "cell_type": "code",
   "execution_count": 19,
   "metadata": {},
   "outputs": [
    {
     "name": "stdout",
     "output_type": "stream",
     "text": [
      "Accuracy of logistic regression classifier on test set: 0.12\n"
     ]
    }
   ],
   "source": [
    "##Accuracy\n",
    "print('Accuracy of logistic regression classifier on test set: {:.2f}'.format(classifier.score(X_test, y_test)))"
   ]
  },
  {
   "cell_type": "code",
   "execution_count": 20,
   "metadata": {},
   "outputs": [
    {
     "name": "stdout",
     "output_type": "stream",
     "text": [
      "                               precision    recall  f1-score   support\n",
      "\n",
      "      Artificial Intelligence       0.38      0.03      0.06        96\n",
      "            Big Data Engineer       0.67      0.02      0.04        89\n",
      "             Business Analyst       0.00      0.00      0.00       114\n",
      "Business Intelligence Analyst       0.00      0.00      0.00       103\n",
      "              Cloud Architect       0.05      0.97      0.10       118\n",
      "     Cloud Services Developer       1.00      0.19      0.32       104\n",
      "                 Data Analyst       0.33      0.01      0.02        85\n",
      "               Data Architect       1.00      0.05      0.10        99\n",
      "                Data Engineer       0.00      0.00      0.00        93\n",
      "         Data Quality Manager       1.00      0.01      0.02        87\n",
      "               Data Scientist       0.67      0.02      0.04       107\n",
      "    Data Visualization Expert       0.00      0.00      0.00        94\n",
      "             Data Warehousing       0.75      0.06      0.11       103\n",
      "   Data and Analytics Manager       1.00      0.03      0.06        95\n",
      "       Database Administrator       1.00      0.01      0.02       102\n",
      "                Deep Learning       1.00      0.29      0.45       110\n",
      "         Full Stack Developer       1.00      0.09      0.17        97\n",
      "                IT Consultant       0.97      0.30      0.46       109\n",
      "     IT Systems Administrator       1.00      0.03      0.06       102\n",
      " Information Security Analyst       0.67      0.02      0.04        98\n",
      "             Machine Learning       0.67      0.05      0.09        86\n",
      "            Network Architect       0.95      0.43      0.59       120\n",
      "                   Statistics       0.50      0.01      0.02        92\n",
      "         Technical Operations       1.00      0.05      0.10       114\n",
      "       Technology Integration       1.00      0.04      0.07        83\n",
      "\n",
      "                  avg / total       0.66      0.12      0.13      2500\n",
      "\n"
     ]
    },
    {
     "name": "stderr",
     "output_type": "stream",
     "text": [
      "/anaconda3/lib/python3.6/site-packages/sklearn/metrics/classification.py:1135: UndefinedMetricWarning: Precision and F-score are ill-defined and being set to 0.0 in labels with no predicted samples.\n",
      "  'precision', 'predicted', average, warn_for)\n"
     ]
    }
   ],
   "source": [
    "##Compute precision, recall, F-measure and support\n",
    "from sklearn.metrics import classification_report\n",
    "print(classification_report(y_test, y_pred))"
   ]
  },
  {
   "cell_type": "code",
   "execution_count": null,
   "metadata": {},
   "outputs": [],
   "source": []
  }
 ],
 "metadata": {
  "kernelspec": {
   "display_name": "Python 3",
   "language": "python",
   "name": "python3"
  },
  "language_info": {
   "codemirror_mode": {
    "name": "ipython",
    "version": 3
   },
   "file_extension": ".py",
   "mimetype": "text/x-python",
   "name": "python",
   "nbconvert_exporter": "python",
   "pygments_lexer": "ipython3",
   "version": "3.6.4"
  }
 },
 "nbformat": 4,
 "nbformat_minor": 2
}
